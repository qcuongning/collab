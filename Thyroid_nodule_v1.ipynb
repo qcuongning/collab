{
  "nbformat": 4,
  "nbformat_minor": 0,
  "metadata": {
    "colab": {
      "name": "thyroid_nod.ipynb",
      "provenance": [],
      "collapsed_sections": [],
      "toc_visible": true,
      "machine_shape": "hm",
      "include_colab_link": true
    },
    "kernelspec": {
      "name": "python3",
      "display_name": "Python 3"
    },
    "accelerator": "GPU"
  },
  "cells": [
    {
      "cell_type": "markdown",
      "metadata": {
        "id": "view-in-github",
        "colab_type": "text"
      },
      "source": [
        "<a href=\"https://colab.research.google.com/github/qcuongning/collab/blob/main/Thyroid_nodule_v1.ipynb\" target=\"_parent\"><img src=\"https://colab.research.google.com/assets/colab-badge.svg\" alt=\"Open In Colab\"/></a>"
      ]
    },
    {
      "cell_type": "markdown",
      "metadata": {
        "id": "yNhF704nMmIx"
      },
      "source": [
        "Với các hàm cần sử dụng backend Keras mà bị lỗi K not contribute cần đổi về keras==2.2.4\n",
        "\n",
        "\n",
        "The codebase is heavily inspired by the [respotory](https://github.com/qubvel/efficientnet)\n",
        "\n"
      ]
    },
    {
      "cell_type": "markdown",
      "metadata": {
        "id": "80XmdWXlUgZG"
      },
      "source": [
        "# Get Data"
      ]
    },
    {
      "cell_type": "code",
      "metadata": {
        "id": "GnbEu1yz0PKx"
      },
      "source": [
        "import os\n",
        "import numpy as np\n",
        "from matplotlib import pyplot as plt\n",
        "import json\n",
        "import cv2\n",
        "import csv\n",
        "import tensorflow as tf\n",
        "from tensorflow.keras.models import *\n",
        "from tensorflow.keras.layers import *\n",
        "from tensorflow.keras.optimizers import *\n",
        "from tensorflow.keras.callbacks import ModelCheckpoint, LearningRateScheduler\n",
        "from tensorflow.keras import backend as K\n",
        "from tensorflow.keras.preprocessing.image import ImageDataGenerator\n",
        "from tensorflow.keras import applications as app\n",
        "seed = 1234\n",
        "np.random.seed(seed)\n",
        "from zipfile import ZipFile\n"
      ],
      "execution_count": 1,
      "outputs": []
    },
    {
      "cell_type": "code",
      "metadata": {
        "id": "eEODECWeDwKL"
      },
      "source": [
        "!pip install -U -q PyDrive\n",
        "from pydrive.auth import GoogleAuth\n",
        "from pydrive.drive import GoogleDrive\n",
        "from google.colab import auth\n",
        "from oauth2client.client import GoogleCredentials\n",
        "auth.authenticate_user()\n",
        "gauth = GoogleAuth()\n",
        "gauth.credentials = GoogleCredentials.get_application_default()\n",
        "drive = GoogleDrive(gauth)"
      ],
      "execution_count": null,
      "outputs": []
    },
    {
      "cell_type": "code",
      "metadata": {
        "id": "0BmpPr1ID0Mz"
      },
      "source": [
        "file_id = '1bbKAqUuk7Y1q3xsDSwP07oOXN_GL3SQM'\n",
        "downloaded = drive.CreateFile({'id': file_id})\n",
        "downloaded.GetContentFile('COVID-SemiSegz')\n",
        "with ZipFile('COVID-SemiSegz', 'r') as tt:\n",
        "  tt.extractall(\"\")"
      ],
      "execution_count": null,
      "outputs": []
    },
    {
      "cell_type": "code",
      "metadata": {
        "id": "o9wexv7y7QeG",
        "colab": {
          "base_uri": "https://localhost:8080/"
        },
        "outputId": "4a75634a-b8f9-4663-907d-51c38184395e"
      },
      "source": [
        "from google.colab import drive\n",
        "drive.mount('/content/drive')"
      ],
      "execution_count": 2,
      "outputs": [
        {
          "output_type": "stream",
          "text": [
            "Mounted at /content/drive\n"
          ],
          "name": "stdout"
        }
      ]
    },
    {
      "cell_type": "code",
      "metadata": {
        "id": "oc20AZFtGeyk"
      },
      "source": [
        "#su dung khi dataset o trong drive neu khong bo qua\n",
        "%cp drive/My\\ Drive/COVID-SemiSeg.zip /content/\n",
        "with ZipFile('COVID-SemiSeg.zip', 'r') as tt:\n",
        "  tt.extractall(\"\")"
      ],
      "execution_count": null,
      "outputs": []
    },
    {
      "cell_type": "code",
      "metadata": {
        "id": "aOs9YUGVujtH"
      },
      "source": [
        "#su dung khi dataset o trong drive neu khong bo qua\n",
        "%cp drive/My\\ Drive/thyroid/thyroid.zip /content/\n",
        "with ZipFile('thyroid.zip', 'r') as tt:\n",
        "  tt.extractall(\"thyroid\")"
      ],
      "execution_count": 3,
      "outputs": []
    },
    {
      "cell_type": "code",
      "metadata": {
        "id": "8TNhqAQK442Z"
      },
      "source": [
        "file_name = 'weights_save'\n",
        "if not os.path.exists(file_name):\n",
        "  os.mkdir(file_name)"
      ],
      "execution_count": 4,
      "outputs": []
    },
    {
      "cell_type": "markdown",
      "metadata": {
        "id": "hDGT7k5XUtJY"
      },
      "source": [
        "# Initial Data"
      ]
    },
    {
      "cell_type": "markdown",
      "metadata": {
        "id": "KS-_PJSBTLfr"
      },
      "source": [
        "lấy các cặp ảnh và mask\n",
        "\n",
        "ảnh resize về 192x288\n",
        "\n",
        "mask là binary\n",
        "đầu ra imgs , masks"
      ]
    },
    {
      "cell_type": "code",
      "metadata": {
        "id": "9GcpMPqDzKVw"
      },
      "source": [
        "def resize_pad(blob):\n",
        "    high,width = blob.shape[:2]\n",
        "    if high >= width:\n",
        "        blob = cv2.resize(blob,(int(96*width/high),96))\n",
        "        delta = 96 - 96*width/high\n",
        "        left,right =  int(delta//2),int(delta//2)\n",
        "        top,bottom  = 0, 0\n",
        "    else:\n",
        "        blob = cv2.resize(blob,(96,int(96*high/width)))\n",
        "        delta = 96 - 96*high/width\n",
        "        top,bottom = int(delta//2),int(delta//2)\n",
        "        left,right = 0,0\n",
        "    #imgs.append(blob)\n",
        "    new_im = cv2.copyMakeBorder(blob, top, bottom, left, right, cv2.BORDER_CONSTANT,value=0)\n",
        "    new_im = cv2.resize(new_im,(96,96))\n",
        "    return new_im"
      ],
      "execution_count": 94,
      "outputs": []
    },
    {
      "cell_type": "code",
      "metadata": {
        "id": "PFXg1utzw1e9"
      },
      "source": [
        "import xml.etree.ElementTree as ET\n",
        "\n",
        "ff = os.listdir(\"thyroid\")\n",
        "folder = \"thyroid/\"\n",
        "basics = []\n",
        "context = []\n",
        "margin = []\n",
        "masks = []\n",
        "labels = []\n",
        "# h, w = 352 // 2, 512 // 2\n",
        "for count, f in enumerate(ff):\n",
        "    rd_num = np.random.uniform(0.7, 1)\n",
        "    if f.find(\".jpg\") > 0:\n",
        "        img = cv2.imread(folder + f)\n",
        "        \n",
        "        # img = cv2.resize(img, (w, h))\n",
        "        ix_number = f.find(\"_\")\n",
        "        rep = f[ix_number + 1:ix_number + 2]\n",
        "        if ix_number < 0:\n",
        "            ix_number = f.find(\".\")\n",
        "        number = f[:ix_number]\n",
        "        if number == \"127\" or number == '54' or number == '165' or number == '176' or number == '203' or number == '205' or number == '166' or number == '197':\n",
        "            continue\n",
        "        root = ET.parse(folder + number + \".xml\").getroot()\n",
        "        lb = (root.find(\"tirads\").text)\n",
        "        if lb in ('4a','4b','4c','5'):\n",
        "            tt = 1\n",
        "        else:\n",
        "            tt = 0\n",
        "        for neighbor in root.findall(\"mark\"):   # moi mark la mot anh trong mark co cac thuoc tinh </image>,</svg>\n",
        "            if rep != neighbor.find(\"image\").text:\n",
        "                continue\n",
        "            svg = neighbor.find(\"svg\").text\n",
        "            if svg is None:\n",
        "                continue\n",
        "            ss = eval(svg)\n",
        "            for s in ss:\n",
        "                if s[\"regionType\"] =='arrow':\n",
        "                    continue\n",
        "                print(f)\n",
        "\n",
        "                mask = np.zeros_like(img[:,:,0])\n",
        "                contour = []\n",
        "                for point in s[\"points\"]:\n",
        "                    x = point[\"x\"]\n",
        "                    y = point['y']\n",
        "                    contour.append([[x, y]])\n",
        "                contour = np.asarray(contour)\n",
        "                cv2.drawContours(mask, [contour], 0, 255, 5)\n",
        "                plt.imshow(mask)\n",
        "                plt.show()\n",
        "                rect = cv2.boundingRect(contour)\n",
        "                x,y,w,h = rect\n",
        "                if w<50 or h <50:\n",
        "                    continue\n",
        "                # if w >= h:   \n",
        "                #     offset = w - h\n",
        "                #     h1,h2,w1,w2 = y-offset//2-w//20,y+h+offset//2+w//20,x-w//20,x+w+w//20\n",
        "                #     h1 = max(h1,0)\n",
        "                #     w1 = max(w1,0)\n",
        "                #     blob= img[h1:h2,w1:w2]\n",
        "                # else:\n",
        "                #     offset = h - w\n",
        "                #     h1,h2,w1,w2 =y-h//20,y+h+h//20,x-offset//2-h//20,x+w+offset//2+h//20\n",
        "                #     h1 = max(h1,0)\n",
        "                #     w1 = max(w1,0)\n",
        "                #     blob= img[h1:h2,w1:w2]\n",
        "                h1,h2,w1,w2 = y-h//20,y+h+h//20,x-w//20,x+w+w//20\n",
        "                blob= img[h1:h2,w1:w2]\n",
        "                new_im = resize_pad(blob)\n",
        "                basics.append(new_im)\n",
        "                h1,h2,w1,w2 = max(y-h//5,0),y+h+h//5,max(x-w//5,0),x+w+w//5\n",
        "                print(y-h//5,y+h+h//5,x-w//5,x+w+w//5)\n",
        "                blob= img[h1:h2,w1:w2]\n",
        "                new_im = resize_pad(blob)\n",
        "                context.append(new_im)\n",
        "\n",
        "\n",
        "                \n",
        "                labels.append(tt)\n",
        "basics = np.asarray(basics,dtype = np.float32)\n",
        "labels = np.asarray(labels,dtype = np.float32)\n",
        "#from sklearn.utils import shuffle\n",
        "basics, labels = shuffle(basics, labels)"
      ],
      "execution_count": null,
      "outputs": []
    },
    {
      "cell_type": "code",
      "metadata": {
        "id": "lCGauKAH9HKJ"
      },
      "source": [
        "from keras.utils.np_utils import to_categorical  \n",
        "labels = to_categorical(labels,2)\n",
        "n = 550\n",
        "x_train = imgs[:n]\n",
        "x_dev = imgs[n:]\n",
        "\n",
        "y_train = labels[:n]\n",
        "y_dev = labels[n:]"
      ],
      "execution_count": 90,
      "outputs": []
    },
    {
      "cell_type": "code",
      "metadata": {
        "id": "kr4oXNbMfZcl"
      },
      "source": [
        "from sklearn.metrics import f1_score, recall_score, precision_score\n",
        "\n",
        "class show_metrics(tf.keras.callbacks.Callback):\n",
        "    def __init__(self,x_dev,y_dev):\n",
        "        super(show_metrics, self).__init__()\n",
        "    def on_epoch_end(self, epoch, logs=None):\n",
        "        y_score = self.model.predict(x_dev)\n",
        "        print(f\"f1 score:{f1_score(y_dev,y_score)}, recall: {recall_score(y_dev,y_score)}, precision: {precision_score(y_dev,y_score)}\")\n",
        "\n",
        "\n",
        "        "
      ],
      "execution_count": 46,
      "outputs": []
    },
    {
      "cell_type": "code",
      "metadata": {
        "id": "IsQUr-RAkX_p"
      },
      "source": [
        "def f1(y_true,y_pred):\n",
        "    return f1_score(y_true,y_pred)"
      ],
      "execution_count": 53,
      "outputs": []
    },
    {
      "cell_type": "code",
      "metadata": {
        "id": "p4efkGcj6nHv"
      },
      "source": [
        "from sklearn.model_selection import train_test_split\n",
        " #from itertools import izip\n",
        "generator_x = ImageDataGenerator(\n",
        "    horizontal_flip = True,\n",
        "    vertical_flip = True,\n",
        "    #width_shift_range = 0.2,\n",
        "    #height_shift_range = 0.2,\n",
        "    shear_range = 0.1,\n",
        "    zoom_range = 0.1,\n",
        "    rotation_range = 180,\n",
        "    fill_mode = 'reflect',\n",
        "    #brightness_range = (0.9,1.1),\n",
        ")\n",
        "generator_y = ImageDataGenerator(\n",
        "    horizontal_flip = True,\n",
        "    vertical_flip = True,\n",
        "    #width_shift_range = 0.2,\n",
        "    #height_shift_range = 0.2,\n",
        "    shear_range = 0.1,\n",
        "    zoom_range = 0.1,\n",
        "    #brightness_range = (1.0,1.0),\n",
        "    rotation_range = 180,\n",
        "    fill_mode = 'reflect'\n",
        ")\n",
        "seed = 1234\n",
        "batch = 16\n",
        "#X_train, X_test, y_train, y_test = train_test_split(imgs, masks, test_size=0.1)\n",
        "x_gen = generator_x.flow(x_train, batch_size = batch, shuffle = False, seed = seed)\n",
        "#y_gen = generator_y.flow(y_train, batch_size = batch, shuffle = False, seed = seed)\n",
        "train_generator = zip(x_gen, y_train)"
      ],
      "execution_count": 9,
      "outputs": []
    },
    {
      "cell_type": "markdown",
      "metadata": {
        "id": "d707bUi8U-y6"
      },
      "source": [
        "# Fit model"
      ]
    },
    {
      "cell_type": "markdown",
      "metadata": {
        "id": "a4OOhfQjWHlO"
      },
      "source": [
        "Epoch 60/80\n",
        "500/500 [==============================] - 288s 576ms/step - loss: 0.3507 - acc: 0.9603 - dice_coef: 0.9069 - jaccard_coef: 0.8409 - val_loss: 0.4036 - val_acc: 0.9290 - val_dice_coef: 0.8515 - val_jaccard_coef: 0.7673"
      ]
    },
    {
      "cell_type": "code",
      "metadata": {
        "id": "s5EfZgNlGmQN",
        "colab": {
          "base_uri": "https://localhost:8080/"
        },
        "outputId": "faea14b8-8714-4a11-c83e-95bbbc0b3678"
      },
      "source": [
        "input_ten=Input(shape=(96,96,3))\n",
        "pretrain = app.ResNet50(include_top = False, weights='imagenet', input_tensor=input_ten)\n",
        "pre_out=pretrain.get_layer(\"conv3_block4_out\").output\n",
        "flat=Flatten()(pre_out)\n",
        "predict=Dense(1024,activation='relu')(flat)\n",
        "predict = Dropout(0.5)(predict)\n",
        "predict=Dense(512,activation='relu')(predict)\n",
        "predict=Dense(256,activation='relu')(predict)\n",
        "predict=Dense(2,activation='sigmoid')(predict)\n",
        "model=Model(inputs=input_ten,outputs=predict)\n",
        "sgd = RMSprop(lr = 0.0001)\n",
        "\n",
        "model.compile(optimizer = sgd, loss = 'binary_crossentropy', \n",
        "              metrics = ['accuracy'])\n",
        "\n",
        "#lr_decay = lr_scheduler()\n",
        "history = model.fit(x_train,y_train,batch_size=16, epochs = 50, \n",
        "                    validation_data = (x_dev, y_dev))"
      ],
      "execution_count": 92,
      "outputs": [
        {
          "output_type": "stream",
          "text": [
            "Epoch 1/50\n",
            "35/35 [==============================] - 2s 52ms/step - loss: 3.5240 - accuracy: 0.5618 - val_loss: 1.2391 - val_accuracy: 0.5441\n",
            "Epoch 2/50\n",
            "35/35 [==============================] - 1s 36ms/step - loss: 1.5736 - accuracy: 0.5491 - val_loss: 0.9357 - val_accuracy: 0.5735\n",
            "Epoch 3/50\n",
            "35/35 [==============================] - 1s 36ms/step - loss: 1.2116 - accuracy: 0.6109 - val_loss: 0.9666 - val_accuracy: 0.5735\n",
            "Epoch 4/50\n",
            "35/35 [==============================] - 1s 36ms/step - loss: 1.0386 - accuracy: 0.6073 - val_loss: 1.5239 - val_accuracy: 0.4559\n",
            "Epoch 5/50\n",
            "35/35 [==============================] - 1s 37ms/step - loss: 0.8621 - accuracy: 0.6600 - val_loss: 1.3180 - val_accuracy: 0.5588\n",
            "Epoch 6/50\n",
            "35/35 [==============================] - 1s 36ms/step - loss: 0.7411 - accuracy: 0.7200 - val_loss: 0.9217 - val_accuracy: 0.5735\n",
            "Epoch 7/50\n",
            "35/35 [==============================] - 1s 36ms/step - loss: 0.5810 - accuracy: 0.7691 - val_loss: 0.8182 - val_accuracy: 0.5441\n",
            "Epoch 8/50\n",
            "35/35 [==============================] - 1s 36ms/step - loss: 0.4956 - accuracy: 0.8073 - val_loss: 0.9918 - val_accuracy: 0.6029\n",
            "Epoch 9/50\n",
            "35/35 [==============================] - 1s 36ms/step - loss: 0.2670 - accuracy: 0.8855 - val_loss: 1.0211 - val_accuracy: 0.5882\n",
            "Epoch 10/50\n",
            "35/35 [==============================] - 1s 37ms/step - loss: 0.3074 - accuracy: 0.9109 - val_loss: 1.0047 - val_accuracy: 0.6324\n",
            "Epoch 11/50\n",
            "35/35 [==============================] - 1s 36ms/step - loss: 0.1096 - accuracy: 0.9727 - val_loss: 1.7718 - val_accuracy: 0.6324\n",
            "Epoch 12/50\n",
            "35/35 [==============================] - 1s 36ms/step - loss: 0.0494 - accuracy: 0.9818 - val_loss: 0.9652 - val_accuracy: 0.6176\n",
            "Epoch 13/50\n",
            "35/35 [==============================] - 1s 36ms/step - loss: 0.0682 - accuracy: 0.9818 - val_loss: 1.0409 - val_accuracy: 0.7500\n",
            "Epoch 14/50\n",
            "35/35 [==============================] - 1s 36ms/step - loss: 0.0670 - accuracy: 0.9818 - val_loss: 1.5846 - val_accuracy: 0.6029\n",
            "Epoch 15/50\n",
            "35/35 [==============================] - 1s 36ms/step - loss: 0.0254 - accuracy: 0.9891 - val_loss: 1.6541 - val_accuracy: 0.6176\n",
            "Epoch 16/50\n",
            "35/35 [==============================] - 1s 36ms/step - loss: 0.0272 - accuracy: 0.9927 - val_loss: 5.0827 - val_accuracy: 0.6029\n",
            "Epoch 17/50\n",
            "35/35 [==============================] - 1s 36ms/step - loss: 9.8300e-04 - accuracy: 1.0000 - val_loss: 2.6063 - val_accuracy: 0.6029\n",
            "Epoch 18/50\n",
            "35/35 [==============================] - 1s 37ms/step - loss: 0.0282 - accuracy: 0.9945 - val_loss: 3.9828 - val_accuracy: 0.5882\n",
            "Epoch 19/50\n",
            "35/35 [==============================] - 1s 36ms/step - loss: 0.0165 - accuracy: 0.9964 - val_loss: 2.5844 - val_accuracy: 0.6618\n",
            "Epoch 20/50\n",
            "35/35 [==============================] - 1s 36ms/step - loss: 0.0238 - accuracy: 0.9945 - val_loss: 3.4258 - val_accuracy: 0.5441\n",
            "Epoch 21/50\n",
            "35/35 [==============================] - 1s 36ms/step - loss: 0.0149 - accuracy: 0.9964 - val_loss: 5.8865 - val_accuracy: 0.5882\n",
            "Epoch 22/50\n",
            "35/35 [==============================] - 1s 36ms/step - loss: 0.0337 - accuracy: 0.9909 - val_loss: 5.4796 - val_accuracy: 0.5882\n",
            "Epoch 23/50\n",
            "35/35 [==============================] - 1s 36ms/step - loss: 0.0039 - accuracy: 0.9982 - val_loss: 4.4874 - val_accuracy: 0.6029\n",
            "Epoch 24/50\n",
            "35/35 [==============================] - 1s 36ms/step - loss: 0.0472 - accuracy: 0.9873 - val_loss: 4.1156 - val_accuracy: 0.6176\n",
            "Epoch 25/50\n",
            "35/35 [==============================] - 1s 36ms/step - loss: 4.5254e-04 - accuracy: 1.0000 - val_loss: 4.5160 - val_accuracy: 0.6176\n",
            "Epoch 26/50\n",
            "35/35 [==============================] - 1s 36ms/step - loss: 1.4298e-05 - accuracy: 1.0000 - val_loss: 5.2492 - val_accuracy: 0.6176\n",
            "Epoch 27/50\n",
            "35/35 [==============================] - 1s 36ms/step - loss: 0.0266 - accuracy: 0.9909 - val_loss: 6.9799 - val_accuracy: 0.5882\n",
            "Epoch 28/50\n",
            "35/35 [==============================] - 1s 36ms/step - loss: 0.0093 - accuracy: 0.9964 - val_loss: 5.5697 - val_accuracy: 0.6029\n",
            "Epoch 29/50\n",
            "35/35 [==============================] - 1s 36ms/step - loss: 0.0077 - accuracy: 0.9982 - val_loss: 4.2945 - val_accuracy: 0.6765\n",
            "Epoch 30/50\n",
            "35/35 [==============================] - 1s 37ms/step - loss: 0.0043 - accuracy: 1.0000 - val_loss: 5.3649 - val_accuracy: 0.6029\n",
            "Epoch 31/50\n",
            "35/35 [==============================] - 1s 36ms/step - loss: 0.0072 - accuracy: 0.9945 - val_loss: 4.0771 - val_accuracy: 0.6324\n",
            "Epoch 32/50\n",
            "35/35 [==============================] - 1s 36ms/step - loss: 0.0037 - accuracy: 1.0000 - val_loss: 5.0938 - val_accuracy: 0.5882\n",
            "Epoch 33/50\n",
            "35/35 [==============================] - 1s 37ms/step - loss: 1.6758e-05 - accuracy: 1.0000 - val_loss: 5.1795 - val_accuracy: 0.5882\n",
            "Epoch 34/50\n",
            "35/35 [==============================] - 1s 36ms/step - loss: 0.0267 - accuracy: 0.9927 - val_loss: 3.6039 - val_accuracy: 0.6765\n",
            "Epoch 35/50\n",
            "35/35 [==============================] - 1s 36ms/step - loss: 0.0095 - accuracy: 0.9982 - val_loss: 11.1193 - val_accuracy: 0.5735\n",
            "Epoch 36/50\n",
            "35/35 [==============================] - 1s 37ms/step - loss: 0.0246 - accuracy: 0.9964 - val_loss: 3.4245 - val_accuracy: 0.6029\n",
            "Epoch 37/50\n",
            "35/35 [==============================] - 1s 36ms/step - loss: 0.0262 - accuracy: 0.9927 - val_loss: 5.4780 - val_accuracy: 0.5735\n",
            "Epoch 38/50\n",
            "35/35 [==============================] - 1s 36ms/step - loss: 0.0174 - accuracy: 0.9964 - val_loss: 3.9404 - val_accuracy: 0.5735\n",
            "Epoch 39/50\n",
            "35/35 [==============================] - 1s 36ms/step - loss: 0.0164 - accuracy: 0.9945 - val_loss: 3.3362 - val_accuracy: 0.7059\n",
            "Epoch 40/50\n",
            "35/35 [==============================] - 1s 36ms/step - loss: 0.0280 - accuracy: 0.9964 - val_loss: 4.3528 - val_accuracy: 0.6324\n",
            "Epoch 41/50\n",
            "35/35 [==============================] - 1s 36ms/step - loss: 0.0051 - accuracy: 0.9982 - val_loss: 3.9904 - val_accuracy: 0.6176\n",
            "Epoch 42/50\n",
            "35/35 [==============================] - 1s 36ms/step - loss: 2.4130e-04 - accuracy: 1.0000 - val_loss: 5.8015 - val_accuracy: 0.5735\n",
            "Epoch 43/50\n",
            "35/35 [==============================] - 1s 37ms/step - loss: 8.8129e-06 - accuracy: 1.0000 - val_loss: 5.5736 - val_accuracy: 0.5588\n",
            "Epoch 44/50\n",
            "35/35 [==============================] - 1s 36ms/step - loss: 0.0349 - accuracy: 0.9945 - val_loss: 4.5680 - val_accuracy: 0.6324\n",
            "Epoch 45/50\n",
            "35/35 [==============================] - 1s 36ms/step - loss: 5.8230e-04 - accuracy: 1.0000 - val_loss: 4.3184 - val_accuracy: 0.6029\n",
            "Epoch 46/50\n",
            "35/35 [==============================] - 1s 37ms/step - loss: 1.3656e-04 - accuracy: 1.0000 - val_loss: 6.1161 - val_accuracy: 0.6176\n",
            "Epoch 47/50\n",
            "35/35 [==============================] - 1s 36ms/step - loss: 0.0276 - accuracy: 0.9964 - val_loss: 7.0391 - val_accuracy: 0.5735\n",
            "Epoch 48/50\n",
            "35/35 [==============================] - 1s 36ms/step - loss: 0.0247 - accuracy: 0.9964 - val_loss: 5.1764 - val_accuracy: 0.6471\n",
            "Epoch 49/50\n",
            "35/35 [==============================] - 1s 36ms/step - loss: 1.9953e-04 - accuracy: 1.0000 - val_loss: 4.5111 - val_accuracy: 0.6029\n",
            "Epoch 50/50\n",
            "35/35 [==============================] - 1s 36ms/step - loss: 5.5586e-08 - accuracy: 1.0000 - val_loss: 4.5708 - val_accuracy: 0.6176\n"
          ],
          "name": "stdout"
        }
      ]
    },
    {
      "cell_type": "markdown",
      "metadata": {
        "id": "OzeMOEjzHmq_"
      },
      "source": [
        "Epoch 49/50\n",
        "35/35 [==============================] - 1s 23ms/step - loss: 0.0108 - accuracy: 0.9964 - val_loss: 5.0408 - val_accuracy: 0.7358\n",
        "\n",
        "pre_out=pretrain.get_layer(\"conv3_block4_out\").output\n",
        "flat=Flatten()(pre_out)\n",
        "predict=Dense(256,activation='relu')(flat)\n",
        "predict=Dense(2,activation='sigmoid')(predict)"
      ]
    },
    {
      "cell_type": "code",
      "metadata": {
        "id": "lGktWCofeC3j",
        "outputId": "f7003e08-31e3-442a-ef09-05476624b949",
        "colab": {
          "base_uri": "https://localhost:8080/"
        }
      },
      "source": [
        "from sklearn.metrics import average_precision_score\n",
        "from sklearn.metrics import precision_recall_curve\n",
        "from sklearn.metrics import plot_precision_recall_curve\n",
        "\n",
        "y_pre=model.predict(x_dev)\n",
        "y_pre=np.asarray(y_pre,dtype=np.float)\n",
        "\n",
        "average_precision = average_precision_score(y_dev, y_pre)\n",
        "\n",
        "print('Average precision-recall score: {0:0.2f}'.format(\n",
        "      average_precision))"
      ],
      "execution_count": 69,
      "outputs": [
        {
          "output_type": "stream",
          "text": [
            "Average precision-recall score: 0.62\n"
          ],
          "name": "stdout"
        }
      ]
    }
  ]
}