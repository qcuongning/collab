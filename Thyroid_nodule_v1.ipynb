{
  "nbformat": 4,
  "nbformat_minor": 0,
  "metadata": {
    "colab": {
      "name": "thyroid_nod.ipynb",
      "provenance": [],
      "collapsed_sections": [],
      "toc_visible": true,
      "machine_shape": "hm",
      "include_colab_link": true
    },
    "kernelspec": {
      "name": "python3",
      "display_name": "Python 3"
    },
    "accelerator": "GPU"
  },
  "cells": [
    {
      "cell_type": "markdown",
      "metadata": {
        "id": "view-in-github",
        "colab_type": "text"
      },
      "source": [
        "<a href=\"https://colab.research.google.com/github/qcuongning/collab/blob/main/Thyroid_nodule_v1.ipynb\" target=\"_parent\"><img src=\"https://colab.research.google.com/assets/colab-badge.svg\" alt=\"Open In Colab\"/></a>"
      ]
    },
    {
      "cell_type": "markdown",
      "metadata": {
        "id": "yNhF704nMmIx"
      },
      "source": [
        "Với các hàm cần sử dụng backend Keras mà bị lỗi K not contribute cần đổi về keras==2.2.4\n",
        "\n",
        "\n",
        "The codebase is heavily inspired by the [respotory](https://github.com/qubvel/efficientnet)\n",
        "\n"
      ]
    },
    {
      "cell_type": "markdown",
      "metadata": {
        "id": "80XmdWXlUgZG"
      },
      "source": [
        "# Get Data"
      ]
    },
    {
      "cell_type": "code",
      "metadata": {
        "id": "GnbEu1yz0PKx"
      },
      "source": [
        "import os\n",
        "import numpy as np\n",
        "from matplotlib import pyplot as plt\n",
        "import json\n",
        "import cv2\n",
        "import csv\n",
        "import tensorflow as tf\n",
        "from tensorflow.keras.models import *\n",
        "from tensorflow.keras.layers import *\n",
        "from tensorflow.keras.optimizers import *\n",
        "from tensorflow.keras.callbacks import ModelCheckpoint, LearningRateScheduler\n",
        "from tensorflow.keras import backend as K\n",
        "from tensorflow.keras.preprocessing.image import ImageDataGenerator\n",
        "from tensorflow.keras import applications as app\n",
        "seed = 1234\n",
        "np.random.seed(seed)\n",
        "from zipfile import ZipFile\n"
      ],
      "execution_count": 1,
      "outputs": []
    },
    {
      "cell_type": "code",
      "metadata": {
        "id": "o9wexv7y7QeG",
        "colab": {
          "base_uri": "https://localhost:8080/"
        },
        "outputId": "8c1d56b0-d96a-4caa-94c8-70b33a896d89"
      },
      "source": [
        "from google.colab import drive\n",
        "drive.mount('/content/drive')"
      ],
      "execution_count": 3,
      "outputs": [
        {
          "output_type": "stream",
          "text": [
            "Mounted at /content/drive\n"
          ],
          "name": "stdout"
        }
      ]
    },
    {
      "cell_type": "code",
      "metadata": {
        "id": "aOs9YUGVujtH"
      },
      "source": [
        "#su dung khi dataset o trong drive neu khong bo qua\n",
        "%cp drive/My\\ Drive/thyroid/thyroid.zip /content/\n",
        "with ZipFile('thyroid.zip', 'r') as tt:\n",
        "  tt.extractall(\"thyroid\")"
      ],
      "execution_count": 7,
      "outputs": []
    },
    {
      "cell_type": "code",
      "metadata": {
        "id": "8TNhqAQK442Z"
      },
      "source": [
        "file_name = 'weights_save'\n",
        "if not os.path.exists(file_name):\n",
        "  os.mkdir(file_name)"
      ],
      "execution_count": 8,
      "outputs": []
    },
    {
      "cell_type": "markdown",
      "metadata": {
        "id": "hDGT7k5XUtJY"
      },
      "source": [
        "# Initial Data"
      ]
    },
    {
      "cell_type": "markdown",
      "metadata": {
        "id": "KS-_PJSBTLfr"
      },
      "source": [
        "lấy các cặp ảnh và mask\n",
        "\n",
        "ảnh resize về 192x288\n",
        "\n",
        "mask là binary\n",
        "đầu ra imgs , masks"
      ]
    },
    {
      "cell_type": "code",
      "metadata": {
        "id": "9GcpMPqDzKVw"
      },
      "source": [
        "def resize_pad(blob):\n",
        "    high,width = blob.shape[:2]\n",
        "    if high >= width:\n",
        "        blob = cv2.resize(blob,(int(96*width/high),96))\n",
        "        delta = 96 - 96*width/high\n",
        "        left,right =  int(delta//2),int(delta//2)\n",
        "        top,bottom  = 0, 0\n",
        "    else:\n",
        "        blob = cv2.resize(blob,(96,int(96*high/width)))\n",
        "        delta = 96 - 96*high/width\n",
        "        top,bottom = int(delta//2),int(delta//2)\n",
        "        left,right = 0,0\n",
        "    #imgs.append(blob)\n",
        "    new_im = cv2.copyMakeBorder(blob, top, bottom, left, right, cv2.BORDER_CONSTANT,value=0)\n",
        "    new_im = cv2.resize(new_im,(96,96))\n",
        "    return new_im"
      ],
      "execution_count": 9,
      "outputs": []
    },
    {
      "cell_type": "code",
      "metadata": {
        "id": "PFXg1utzw1e9",
        "colab": {
          "base_uri": "https://localhost:8080/"
        },
        "outputId": "d4db62d9-c0a0-4dfe-dab7-03f9bf402bf5"
      },
      "source": [
        "import xml.etree.ElementTree as ET\n",
        "\n",
        "ff = os.listdir(\"thyroid\")\n",
        "folder = \"thyroid/\"\n",
        "basics = []\n",
        "context = []\n",
        "margin = []\n",
        "masks = []\n",
        "labels = []\n",
        "# h, w = 352 // 2, 512 // 2\n",
        "for count, f in enumerate(ff):\n",
        "    rd_num = np.random.uniform(0.7, 1)\n",
        "    if f.find(\".jpg\") > 0:\n",
        "        img = cv2.imread(folder + f)\n",
        "        \n",
        "        ix_number = f.find(\"_\")\n",
        "        rep = f[ix_number + 1:ix_number + 2]\n",
        "        if ix_number < 0:\n",
        "            ix_number = f.find(\".\")\n",
        "        number = f[:ix_number]\n",
        "        if number == \"127\" or number == '54' or number == '165' or number == '176' or number == '203' or number == '205' or number == '166' or number == '197':\n",
        "            continue\n",
        "        root = ET.parse(folder + number + \".xml\").getroot()\n",
        "        lb = (root.find(\"tirads\").text)\n",
        "        if lb in ('4a','4b','4c','5'):\n",
        "            tt = 1\n",
        "        else:\n",
        "            tt = 0\n",
        "        for neighbor in root.findall(\"mark\"):   # moi mark la mot anh trong mark co cac thuoc tinh </image>,</svg>\n",
        "            if rep != neighbor.find(\"image\").text:\n",
        "                continue\n",
        "            svg = neighbor.find(\"svg\").text\n",
        "            if svg is None:\n",
        "                continue\n",
        "            ss = eval(svg)\n",
        "            for s in ss:\n",
        "                if s[\"regionType\"] =='arrow':\n",
        "                    continue\n",
        "\n",
        "                mask = np.zeros_like(img)\n",
        "                contour = []\n",
        "                for point in s[\"points\"]:\n",
        "                    x = point[\"x\"]\n",
        "                    y = point['y']\n",
        "                    contour.append([[x, y]])\n",
        "                contour = np.asarray(contour)\n",
        "                cv2.drawContours(mask, [contour], 0, 255, 25)\n",
        "                rect = cv2.boundingRect(contour)\n",
        "                x,y,w,h = rect\n",
        "                if w<50 or h <50:\n",
        "                    continue\n",
        "                # if w >= h:   \n",
        "                #     offset = w - h\n",
        "                #     h1,h2,w1,w2 = y-offset//2-w//20,y+h+offset//2+w//20,x-w//20,x+w+w//20\n",
        "                #     h1 = max(h1,0)\n",
        "                #     w1 = max(w1,0)\n",
        "                #     blob= img[h1:h2,w1:w2]\n",
        "                # else:\n",
        "                #     offset = h - w\n",
        "                #     h1,h2,w1,w2 =y-h//20,y+h+h//20,x-offset//2-h//20,x+w+offset//2+h//20\n",
        "                #     h1 = max(h1,0)\n",
        "                #     w1 = max(w1,0)\n",
        "                #     blob= img[h1:h2,w1:w2]\n",
        "                mg = cv2.bitwise_and(mask,img)\n",
        "\n",
        "                h1,h2,w1,w2 = y,y+h,x,x+w\n",
        "                blob= img[h1:h2,w1:w2]\n",
        "                blob2 = mg[h1:h2,w1:w2]\n",
        "                new_mg = resize_pad(blob2)\n",
        "                new_im = resize_pad(blob)\n",
        "                basics.append(new_im)\n",
        "                margin.append(new_mg)\n",
        "                h1,h2,w1,w2 = max(y-h//5,0),y+h+h//5,max(x-w//5,0),x+w+w//5\n",
        "                blob= img[h1:h2,w1:w2]\n",
        "                new_im = resize_pad(blob)\n",
        "                context.append(new_im)\n",
        "\n",
        "\n",
        "                \n",
        "                labels.append(tt)\n",
        "basics = np.asarray(basics,dtype = np.float32)\n",
        "context = np.asarray(context,dtype = np.float32)\n",
        "margin = np.asarray(margin,dtype = np.float32)\n",
        "labels = np.asarray(labels,dtype = np.float32)\n",
        "from sklearn.utils import shuffle\n",
        "basics,context,margin, labels = shuffle(basics,context,margin, labels )\n",
        "print(basics.shape,context.shape,margin.shape,labels.shape)"
      ],
      "execution_count": 133,
      "outputs": [
        {
          "output_type": "stream",
          "text": [
            "(606, 96, 96, 3) (606, 96, 96, 3) (606, 96, 96, 3) (606,)\n"
          ],
          "name": "stdout"
        }
      ]
    },
    {
      "cell_type": "code",
      "metadata": {
        "id": "CrW7sdFFs10m",
        "outputId": "a04911d4-6484-49ed-fe34-267dc8f90082",
        "colab": {
          "base_uri": "https://localhost:8080/",
          "height": 167
        }
      },
      "source": [
        "i = 10\n",
        "plt.subplot(131).imshow(basics[i,:,:,0],cmap='gray')\n",
        "plt.subplot(132).imshow(context[i,:,:,0],cmap='gray')\n",
        "plt.subplot(133).imshow(margin[i,:,:,0],cmap='gray')"
      ],
      "execution_count": 78,
      "outputs": [
        {
          "output_type": "execute_result",
          "data": {
            "text/plain": [
              "<matplotlib.image.AxesImage at 0x7fa48f28f0b8>"
            ]
          },
          "metadata": {
            "tags": []
          },
          "execution_count": 78
        },
        {
          "output_type": "display_data",
          "data": {
            "image/png": "[encoded data removed]",
            "text/plain": [
              "<Figure size 432x288 with 3 Axes>"
            ]
          },
          "metadata": {
            "tags": [],
            "needs_background": "light"
          }
        }
      ]
    },
    {
      "cell_type": "code",
      "metadata": {
        "id": "lCGauKAH9HKJ"
      },
      "source": [
        "from keras.utils.np_utils import to_categorical  \n",
        "labels = to_categorical(labels,2)\n",
        "n2 = 500\n",
        "x_train1 = basics[:n]\n",
        "x_dev1 = basics[n:]\n",
        "\n",
        "x_train2 = context[:n2]\n",
        "x_dev2 = context[n2:]\n",
        "\n",
        "x_train3 = margin[:n]\n",
        "x_dev3 = margin[n:]\n",
        "\n",
        "\n",
        "y_train = labels[:n2]\n",
        "y_dev = labels[n2:]"
      ],
      "execution_count": 134,
      "outputs": []
    },
    {
      "cell_type": "code",
      "metadata": {
        "id": "w6TB8ks8BNkv"
      },
      "source": [
        "step = 0\n",
        "xs,ys=[x_train2],[y_train]\n",
        "for x,y in datagen.flow(x_train2, y_train, batch_size=32,save_to_dir=\"weights_save\"):\n",
        "    step+=1\n",
        "    if step==30:\n",
        "        break\n",
        "    xs.append(x)\n",
        "    ys.append(y)\n",
        "\n",
        "x_train2 = np.concatenate(xs)\n",
        "y_train = np.concatenate(ys)"
      ],
      "execution_count": 135,
      "outputs": []
    },
    {
      "cell_type": "code",
      "metadata": {
        "id": "-F12HhznZh_9"
      },
      "source": [
        "x_train2, y_train = shuffle(x_train2, y_train )\n"
      ],
      "execution_count": 136,
      "outputs": []
    },
    {
      "cell_type": "code",
      "metadata": {
        "id": "kr4oXNbMfZcl"
      },
      "source": [
        "from sklearn.metrics import f1_score, recall_score, precision_score\n",
        "\n",
        "class show_metrics(tf.keras.callbacks.Callback):\n",
        "    def __init__(self,x_dev,y_dev):\n",
        "        super(show_metrics, self).__init__()\n",
        "    def on_epoch_end(self, epoch, logs=None):\n",
        "        y_score = self.model.predict(x_dev)\n",
        "        print(f\"f1 score:{f1_score(y_dev,y_score)}, recall: {recall_score(y_dev,y_score)}, precision: {precision_score(y_dev,y_score)}\")\n",
        "\n",
        "\n",
        "        "
      ],
      "execution_count": 14,
      "outputs": []
    },
    {
      "cell_type": "code",
      "metadata": {
        "id": "IsQUr-RAkX_p"
      },
      "source": [
        "def f1(y_true,y_pred):\n",
        "    return f1_score(y_true,y_pred)"
      ],
      "execution_count": 15,
      "outputs": []
    },
    {
      "cell_type": "markdown",
      "metadata": {
        "id": "d707bUi8U-y6"
      },
      "source": [
        "# Fit model"
      ]
    },
    {
      "cell_type": "markdown",
      "metadata": {
        "id": "a4OOhfQjWHlO"
      },
      "source": [
        "Epoch 60/80\n",
        "500/500 [==============================] - 288s 576ms/step - loss: 0.3507 - acc: 0.9603 - dice_coef: 0.9069 - jaccard_coef: 0.8409 - val_loss: 0.4036 - val_acc: 0.9290 - val_dice_coef: 0.8515 - val_jaccard_coef: 0.7673"
      ]
    },
    {
      "cell_type": "code",
      "metadata": {
        "id": "XF1jOmXgbMGQ"
      },
      "source": [
        "input_ten=Input(shape=(96,96,3))\n",
        "pretrain = app.ResNet50(include_top = True, weights=None, input_tensor=input_ten)\n",
        "print(pretrain.summary())"
      ],
      "execution_count": null,
      "outputs": []
    },
    {
      "cell_type": "code",
      "metadata": {
        "id": "Y7rXXWvdgA5T"
      },
      "source": [
        "def mvn(tensor):\n",
        "    '''Performs per-channel spatial mean-variance normalization.'''\n",
        "    epsilon = 1e-6\n",
        "    mean = K.mean(tensor, axis=(1,2), keepdims=True)\n",
        "    std = K.std(tensor, axis=(1,2), keepdims=True)\n",
        "    mvn = (tensor - mean) / (std + epsilon)\n",
        "    \n",
        "    return mvn\n",
        "def zfnet(tensor,dense_out):\n",
        "    mvn0 = Lambda(mvn)(tensor)\n",
        "    conv1 = Conv2D(64, 3, padding = 'same')(mvn0)\n",
        "    conv1 = Lambda(mvn)(conv1)\n",
        "    conv1 = Activation('relu')(conv1)\n",
        "    #conv1 = block_inception_a(conv1)\n",
        "    conv1 = Conv2D(64, 3,  padding = 'same')(conv1)\n",
        "    conv1 = Lambda(mvn)(conv1)\n",
        "    conv1 = Activation('relu')(conv1)\n",
        "    pool1 = MaxPooling2D(pool_size=(2, 2))(conv1)\n",
        "\n",
        "    conv2 = Conv2D(128, 3,  padding = 'same')(pool1)\n",
        "    conv2 = Lambda(mvn)(conv2)\n",
        "    conv2 = Activation('relu')(conv2)\n",
        "    #conv2 = block_inception_a(conv2)\n",
        "    conv2 = Conv2D(128, 3,  padding = 'same')(conv2)\n",
        "    conv2 = Lambda(mvn)(conv2)\n",
        "    conv2 = Activation('relu')(conv2)\n",
        "    pool2 = MaxPooling2D(pool_size=(2, 2))(conv2)\n",
        "\n",
        "    conv3 = Conv2D(256, 3,  padding = 'same')(pool2)\n",
        "    conv3 = Lambda(mvn)(conv3)\n",
        "    conv3 = Activation('relu')(conv3)\n",
        "    #conv3 = block_inception_a(conv3)\n",
        "    conv3 = Conv2D(256, 3,  padding = 'same')(conv3)\n",
        "    conv3 = Lambda(mvn)(conv3)\n",
        "    conv3 = Activation('relu')(conv3)\n",
        "    pool3 = MaxPooling2D(pool_size=(2, 2))(conv3)\n",
        "\n",
        "    conv4 = Conv2D(512, 3,  padding = 'same')(pool3)\n",
        "    conv4 = Lambda(mvn)(conv4)\n",
        "    conv4 = Activation('relu')(conv4)\n",
        "   # conv4 = block_inception_a(conv4)\n",
        "    conv4 = Conv2D(512, 3,  padding = 'same')(conv4)\n",
        "    conv4 = Lambda(mvn)(conv4)\n",
        "    conv4 = Activation('relu')(conv4)\n",
        "    drop4 = Dropout(0.5)(conv4)\n",
        "    pool4 = MaxPooling2D(pool_size=(2, 2))(drop4)\n",
        "\n",
        "    conv5 = Conv2D(1024, 3,  padding = 'same')(pool4)\n",
        "    conv5 = Lambda(mvn)(conv5)\n",
        "    conv5 = Activation('relu')(conv5)\n",
        "    #conv5 = block_inception_a(conv5)\n",
        "    conv5 = Conv2D(1024, 3,  padding = 'same')(conv5)\n",
        "    conv5 = Lambda(mvn)(conv5)\n",
        "    conv5 = Activation('relu')(conv5)\n",
        "    drop5 = Dropout(0.5)(conv5)\n",
        "\n",
        "    \n",
        "    # dense1 = Dense(512,activation='relu')(flat1)\n",
        "    # dense1 = Dropout(0.5)(dense1)\n",
        "    # dense1 = Dense(512,activation='relu')(dense1)\n",
        "    # dense1 = Dropout(0.5)(dense1)\n",
        "    # dense1 = Dense(dense_out,activation='relu')(dense1)\n",
        "\n",
        "\n",
        "    return flat1\n",
        "\n"
      ],
      "execution_count": 114,
      "outputs": []
    },
    {
      "cell_type": "code",
      "metadata": {
        "id": "TVCiX_XAYvI7"
      },
      "source": [
        "def classify(shape = (96,96,3)):\n",
        "    #basic = Input(shape=shape)\n",
        "    context = Input(shape=shape)\n",
        "    #margin = Input(shape=shape)\n",
        "    # basic_body = app.ResNet50(include_top=False,weights = 'imagenet', input_tensor=basic)\n",
        "    context_body = app.ResNet50(include_top=False,weights = 'imagenet', input_tensor=context)\n",
        "    # margin_body = app.ResNet50(include_top=False,weights = 'imagenet', input_tensor=margin)\n",
        "    #basic_body = zfnet(basic,256)\n",
        "    #context_body = zfnet(context,256)\n",
        "    #margin_body = zfnet(margin,64)\n",
        "    # basic_out = basic_body.output\n",
        "    # context_out = context_body.output\n",
        "    # margin_out = margin_body.output\n",
        "\n",
        "    flat1 = Flatten()(context_body.layers[-5].output)\n",
        "    #conten = Concatenate()([basic_body,context_body,margin_body])\n",
        "    dense = Dense(256,activation='relu')(flat1)\n",
        "    dense = Dropout(0.5)(dense)\n",
        "\n",
        "    dense = Dense(2,activation='softmax')(dense)\n",
        "    model=Model(inputs=[context],outputs=dense)\n",
        "    return model"
      ],
      "execution_count": 126,
      "outputs": []
    },
    {
      "cell_type": "code",
      "metadata": {
        "id": "s5EfZgNlGmQN",
        "colab": {
          "base_uri": "https://localhost:8080/"
        },
        "outputId": "2095d86e-f271-4d7b-9904-b655123fdf9d"
      },
      "source": [
        "model= classify()\n",
        "sgd = RMSprop(lr = 0.0001)\n",
        "\n",
        "model.compile(optimizer = sgd, loss = 'binary_crossentropy', \n",
        "              metrics = ['accuracy'])\n",
        "print(x_train2.shape,y_train.shape,x_dev2.shape,y_dev.shape)\n",
        "history = model.fit(x_train2,y_train,batch_size=16,epochs = 50, \n",
        "                    validation_data = (x_dev2, y_dev))"
      ],
      "execution_count": 137,
      "outputs": [
        {
          "output_type": "stream",
          "text": [
            "(1416, 96, 96, 3) (1416, 2) (106, 96, 96, 3) (106, 2)\n",
            "Epoch 1/50\n",
            "89/89 [==============================] - 5s 55ms/step - loss: 0.6854 - accuracy: 0.6208 - val_loss: 0.6441 - val_accuracy: 0.6604\n",
            "Epoch 2/50\n",
            "89/89 [==============================] - 4s 46ms/step - loss: 0.5425 - accuracy: 0.7119 - val_loss: 2.1925 - val_accuracy: 0.6321\n",
            "Epoch 3/50\n",
            "89/89 [==============================] - 4s 46ms/step - loss: 0.3696 - accuracy: 0.8383 - val_loss: 4.2503 - val_accuracy: 0.6226\n",
            "Epoch 4/50\n",
            "89/89 [==============================] - 4s 46ms/step - loss: 0.2665 - accuracy: 0.8976 - val_loss: 4.3665 - val_accuracy: 0.6698\n",
            "Epoch 5/50\n",
            "89/89 [==============================] - 4s 46ms/step - loss: 0.1540 - accuracy: 0.9435 - val_loss: 4.1670 - val_accuracy: 0.6509\n",
            "Epoch 6/50\n",
            "89/89 [==============================] - 4s 46ms/step - loss: 0.1826 - accuracy: 0.9421 - val_loss: 3.2408 - val_accuracy: 0.6792\n",
            "Epoch 7/50\n",
            "89/89 [==============================] - 4s 46ms/step - loss: 0.1098 - accuracy: 0.9576 - val_loss: 4.9914 - val_accuracy: 0.5755\n",
            "Epoch 8/50\n",
            "89/89 [==============================] - 4s 46ms/step - loss: 0.1299 - accuracy: 0.9605 - val_loss: 4.5697 - val_accuracy: 0.6509\n",
            "Epoch 9/50\n",
            "89/89 [==============================] - 4s 46ms/step - loss: 0.0999 - accuracy: 0.9703 - val_loss: 6.7072 - val_accuracy: 0.5189\n",
            "Epoch 10/50\n",
            "89/89 [==============================] - 4s 46ms/step - loss: 0.1267 - accuracy: 0.9597 - val_loss: 4.7779 - val_accuracy: 0.6321\n",
            "Epoch 11/50\n",
            "89/89 [==============================] - 4s 46ms/step - loss: 0.0792 - accuracy: 0.9809 - val_loss: 5.6921 - val_accuracy: 0.5094\n",
            "Epoch 12/50\n",
            "89/89 [==============================] - 4s 46ms/step - loss: 0.1043 - accuracy: 0.9760 - val_loss: 5.1983 - val_accuracy: 0.6415\n",
            "Epoch 13/50\n",
            "89/89 [==============================] - 4s 46ms/step - loss: 0.0735 - accuracy: 0.9781 - val_loss: 4.7249 - val_accuracy: 0.5943\n",
            "Epoch 14/50\n",
            "89/89 [==============================] - 4s 46ms/step - loss: 0.0874 - accuracy: 0.9774 - val_loss: 4.9800 - val_accuracy: 0.6132\n",
            "Epoch 15/50\n",
            "89/89 [==============================] - 4s 46ms/step - loss: 0.0889 - accuracy: 0.9795 - val_loss: 4.4900 - val_accuracy: 0.6132\n",
            "Epoch 16/50\n",
            "89/89 [==============================] - 4s 46ms/step - loss: 0.0790 - accuracy: 0.9760 - val_loss: 4.5887 - val_accuracy: 0.5755\n",
            "Epoch 17/50\n",
            "89/89 [==============================] - 4s 46ms/step - loss: 0.0779 - accuracy: 0.9809 - val_loss: 5.1461 - val_accuracy: 0.5377\n",
            "Epoch 18/50\n",
            "89/89 [==============================] - 4s 47ms/step - loss: 0.0624 - accuracy: 0.9823 - val_loss: 4.1831 - val_accuracy: 0.6415\n",
            "Epoch 19/50\n",
            "89/89 [==============================] - 4s 46ms/step - loss: 0.0776 - accuracy: 0.9845 - val_loss: 4.6143 - val_accuracy: 0.6604\n",
            "Epoch 20/50\n",
            "89/89 [==============================] - 4s 46ms/step - loss: 0.0550 - accuracy: 0.9831 - val_loss: 5.2701 - val_accuracy: 0.4811\n",
            "Epoch 21/50\n",
            "89/89 [==============================] - 4s 46ms/step - loss: 0.0340 - accuracy: 0.9901 - val_loss: 3.7885 - val_accuracy: 0.6415\n",
            "Epoch 22/50\n",
            "89/89 [==============================] - 4s 46ms/step - loss: 0.0338 - accuracy: 0.9929 - val_loss: 3.6833 - val_accuracy: 0.6226\n",
            "Epoch 23/50\n",
            "89/89 [==============================] - 4s 46ms/step - loss: 0.0425 - accuracy: 0.9894 - val_loss: 3.8595 - val_accuracy: 0.6604\n",
            "Epoch 24/50\n",
            "89/89 [==============================] - 4s 46ms/step - loss: 0.0583 - accuracy: 0.9838 - val_loss: 6.4901 - val_accuracy: 0.4717\n",
            "Epoch 25/50\n",
            "89/89 [==============================] - 4s 46ms/step - loss: 0.0542 - accuracy: 0.9901 - val_loss: 4.4684 - val_accuracy: 0.6698\n",
            "Epoch 26/50\n",
            "89/89 [==============================] - 4s 46ms/step - loss: 0.0303 - accuracy: 0.9929 - val_loss: 4.4734 - val_accuracy: 0.6321\n",
            "Epoch 27/50\n",
            "89/89 [==============================] - 4s 46ms/step - loss: 0.0611 - accuracy: 0.9908 - val_loss: 4.2922 - val_accuracy: 0.5943\n",
            "Epoch 28/50\n",
            "89/89 [==============================] - 4s 46ms/step - loss: 0.0512 - accuracy: 0.9922 - val_loss: 5.6984 - val_accuracy: 0.4717\n",
            "Epoch 29/50\n",
            "89/89 [==============================] - 4s 46ms/step - loss: 0.0340 - accuracy: 0.9908 - val_loss: 4.0159 - val_accuracy: 0.5566\n",
            "Epoch 30/50\n",
            "89/89 [==============================] - 4s 46ms/step - loss: 0.0319 - accuracy: 0.9915 - val_loss: 5.0442 - val_accuracy: 0.5189\n",
            "Epoch 31/50\n",
            "89/89 [==============================] - 4s 46ms/step - loss: 0.0421 - accuracy: 0.9887 - val_loss: 6.9269 - val_accuracy: 0.4434\n",
            "Epoch 32/50\n",
            "89/89 [==============================] - 4s 46ms/step - loss: 0.0406 - accuracy: 0.9936 - val_loss: 3.8745 - val_accuracy: 0.6509\n",
            "Epoch 33/50\n",
            "89/89 [==============================] - 4s 46ms/step - loss: 0.0185 - accuracy: 0.9944 - val_loss: 3.1797 - val_accuracy: 0.5849\n",
            "Epoch 34/50\n",
            "89/89 [==============================] - 4s 46ms/step - loss: 0.0351 - accuracy: 0.9929 - val_loss: 4.7036 - val_accuracy: 0.5849\n",
            "Epoch 35/50\n",
            "89/89 [==============================] - 4s 46ms/step - loss: 0.0398 - accuracy: 0.9908 - val_loss: 4.5786 - val_accuracy: 0.6509\n",
            "Epoch 36/50\n",
            "89/89 [==============================] - 4s 46ms/step - loss: 0.0488 - accuracy: 0.9922 - val_loss: 5.7872 - val_accuracy: 0.5283\n",
            "Epoch 37/50\n",
            "89/89 [==============================] - 4s 46ms/step - loss: 0.0442 - accuracy: 0.9922 - val_loss: 4.0806 - val_accuracy: 0.4340\n",
            "Epoch 38/50\n",
            "89/89 [==============================] - 4s 47ms/step - loss: 0.0450 - accuracy: 0.9936 - val_loss: 3.1980 - val_accuracy: 0.5189\n",
            "Epoch 39/50\n",
            "89/89 [==============================] - 4s 47ms/step - loss: 0.0772 - accuracy: 0.9915 - val_loss: 6.1850 - val_accuracy: 0.4906\n",
            "Epoch 40/50\n",
            "89/89 [==============================] - 4s 46ms/step - loss: 0.0168 - accuracy: 0.9951 - val_loss: 3.3107 - val_accuracy: 0.6226\n",
            "Epoch 41/50\n",
            "89/89 [==============================] - 4s 46ms/step - loss: 0.0702 - accuracy: 0.9894 - val_loss: 4.2292 - val_accuracy: 0.5189\n",
            "Epoch 42/50\n",
            "89/89 [==============================] - 4s 46ms/step - loss: 0.0299 - accuracy: 0.9958 - val_loss: 3.9188 - val_accuracy: 0.6226\n",
            "Epoch 43/50\n",
            "89/89 [==============================] - 4s 46ms/step - loss: 0.0552 - accuracy: 0.9901 - val_loss: 5.0754 - val_accuracy: 0.5849\n",
            "Epoch 44/50\n",
            "89/89 [==============================] - 4s 46ms/step - loss: 0.0587 - accuracy: 0.9873 - val_loss: 5.6806 - val_accuracy: 0.5849\n",
            "Epoch 45/50\n",
            "89/89 [==============================] - 4s 46ms/step - loss: 0.0537 - accuracy: 0.9894 - val_loss: 5.2388 - val_accuracy: 0.5755\n",
            "Epoch 46/50\n",
            "89/89 [==============================] - 4s 46ms/step - loss: 0.0146 - accuracy: 0.9965 - val_loss: 4.7157 - val_accuracy: 0.5377\n",
            "Epoch 47/50\n",
            "89/89 [==============================] - 4s 46ms/step - loss: 0.0296 - accuracy: 0.9901 - val_loss: 5.5791 - val_accuracy: 0.5189\n",
            "Epoch 48/50\n",
            "89/89 [==============================] - 4s 46ms/step - loss: 0.0344 - accuracy: 0.9936 - val_loss: 4.9207 - val_accuracy: 0.5094\n",
            "Epoch 49/50\n",
            "89/89 [==============================] - 4s 46ms/step - loss: 0.0123 - accuracy: 0.9972 - val_loss: 4.0973 - val_accuracy: 0.5472\n",
            "Epoch 50/50\n",
            "89/89 [==============================] - 4s 46ms/step - loss: 0.0392 - accuracy: 0.9922 - val_loss: 3.8692 - val_accuracy: 0.6321\n"
          ],
          "name": "stdout"
        }
      ]
    },
    {
      "cell_type": "markdown",
      "metadata": {
        "id": "OzeMOEjzHmq_"
      },
      "source": [
        "Epoch 49/50\n",
        "35/35 [==============================] - 1s 23ms/step - loss: 0.0108 - accuracy: 0.9964 - val_loss: 5.0408 - val_accuracy: 0.7358\n",
        "\n",
        "pre_out=pretrain.get_layer(\"conv3_block4_out\").output\n",
        "flat=Flatten()(pre_out)\n",
        "predict=Dense(256,activation='relu')(flat)\n",
        "predict=Dense(2,activation='sigmoid')(predict)"
      ]
    },
    {
      "cell_type": "markdown",
      "metadata": {
        "id": "RZhODxRVLHyw"
      },
      "source": [
        "loss: 0.0438 - accuracy: 0.9929 - val_loss: 1.7568 - val_accuracy: 0.7879\n",
        "\n",
        "(1400, 96, 96, 3) (1400, 2) (132, 96, 96, 3) (132, 2)\n",
        "\n",
        "resnet50 -5\n",
        "\n",
        "\n"
      ]
    },
    {
      "cell_type": "code",
      "metadata": {
        "colab": {
          "base_uri": "https://localhost:8080/"
        },
        "id": "lGktWCofeC3j",
        "outputId": "46ee6503-8470-4150-c020-52f10d12b15e"
      },
      "source": [
        "from sklearn.metrics import average_precision_score\n",
        "from sklearn.metrics import precision_recall_curve\n",
        "from sklearn.metrics import plot_precision_recall_curve\n",
        "\n",
        "y_pre=model.predict(x_train2)\n",
        "y_pre=np.asarray(y_pre,dtype=np.float)\n",
        "\n",
        "average_precision = average_precision_score(y_train, y_pre)\n",
        "\n",
        "print('Average precision-recall score: {0:0.2f}'.format(\n",
        "      average_precision))"
      ],
      "execution_count": 138,
      "outputs": [
        {
          "output_type": "stream",
          "text": [
            "Average precision-recall score: 1.00\n"
          ],
          "name": "stdout"
        }
      ]
    },
    {
      "cell_type": "code",
      "metadata": {
        "id": "b2xWUT4GNoAG"
      },
      "source": [
        "img = cv2.imread('/content/lbox_1385.jpg')\n",
        "img = cv2.resize(img,(96,96))\n",
        "img = np.expand_dims(img,0)\n",
        "y_pre=model.predict(img)"
      ],
      "execution_count": 152,
      "outputs": []
    },
    {
      "cell_type": "code",
      "metadata": {
        "id": "d7OhluebOCVm",
        "outputId": "8783e37a-e07b-4c39-9d68-c734d413af26",
        "colab": {
          "base_uri": "https://localhost:8080/"
        }
      },
      "source": [
        "print(y_pre)"
      ],
      "execution_count": 153,
      "outputs": [
        {
          "output_type": "stream",
          "text": [
            "[[0.00814239 0.9918576 ]]\n"
          ],
          "name": "stdout"
        }
      ]
    }
  ]
}