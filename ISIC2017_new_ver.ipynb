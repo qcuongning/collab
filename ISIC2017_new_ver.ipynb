{
  "nbformat": 4,
  "nbformat_minor": 0,
  "metadata": {
    "colab": {
      "name": "ISIC2017_Xception.ipynb",
      "provenance": [],
      "collapsed_sections": [],
      "toc_visible": true,
      "machine_shape": "hm",
      "include_colab_link": true
    },
    "kernelspec": {
      "name": "python3",
      "display_name": "Python 3"
    },
    "accelerator": "GPU"
  },
  "cells": [
    {
      "cell_type": "markdown",
      "metadata": {
        "id": "view-in-github",
        "colab_type": "text"
      },
      "source": [
        "<a href=\"https://colab.research.google.com/github/qcuongning/collab/blob/main/ISIC2017_new_ver.ipynb\" target=\"_parent\"><img src=\"https://colab.research.google.com/assets/colab-badge.svg\" alt=\"Open In Colab\"/></a>"
      ]
    },
    {
      "cell_type": "markdown",
      "metadata": {
        "id": "yNhF704nMmIx"
      },
      "source": [
        "Với các hàm cần sử dụng backend Keras mà bị lỗi K not contribute cần đổi về keras==2.2.4\n",
        "\n",
        "\n",
        "The codebase is heavily inspired by the [respotory](https://github.com/qubvel/efficientnet)\n",
        "\n"
      ]
    },
    {
      "cell_type": "markdown",
      "metadata": {
        "id": "80XmdWXlUgZG"
      },
      "source": [
        "# Get Data"
      ]
    },
    {
      "cell_type": "code",
      "metadata": {
        "id": "GnbEu1yz0PKx"
      },
      "source": [
        "import os\n",
        "import numpy as np\n",
        "from matplotlib import pyplot as plt\n",
        "import json\n",
        "import cv2\n",
        "import csv\n",
        "import tensorflow as tf\n",
        "from tensorflow.keras.models import *\n",
        "from tensorflow.keras.layers import *\n",
        "from tensorflow.keras.optimizers import *\n",
        "from tensorflow.keras.callbacks import ModelCheckpoint, LearningRateScheduler\n",
        "from tensorflow.keras import backend as K\n",
        "from tensorflow.keras.preprocessing.image import ImageDataGenerator\n",
        "from tensorflow.keras import applications as app\n",
        "seed = 1234\n",
        "np.random.seed(seed)\n",
        "from zipfile import ZipFile\n"
      ],
      "execution_count": 1,
      "outputs": []
    },
    {
      "cell_type": "code",
      "metadata": {
        "id": "eEODECWeDwKL"
      },
      "source": [
        "!pip install -U -q PyDrive\n",
        "from pydrive.auth import GoogleAuth\n",
        "from pydrive.drive import GoogleDrive\n",
        "from google.colab import auth\n",
        "from oauth2client.client import GoogleCredentials\n",
        "auth.authenticate_user()\n",
        "gauth = GoogleAuth()\n",
        "gauth.credentials = GoogleCredentials.get_application_default()\n",
        "drive = GoogleDrive(gauth)"
      ],
      "execution_count": null,
      "outputs": []
    },
    {
      "cell_type": "code",
      "metadata": {
        "id": "0BmpPr1ID0Mz"
      },
      "source": [
        "file_id = '1bbKAqUuk7Y1q3xsDSwP07oOXN_GL3SQM'\n",
        "downloaded = drive.CreateFile({'id': file_id})\n",
        "downloaded.GetContentFile('COVID-SemiSegz')\n",
        "with ZipFile('COVID-SemiSegz', 'r') as tt:\n",
        "  tt.extractall(\"\")"
      ],
      "execution_count": null,
      "outputs": []
    },
    {
      "cell_type": "code",
      "metadata": {
        "id": "o9wexv7y7QeG",
        "outputId": "b45037ee-3314-4728-d943-ee6924bd684a",
        "colab": {
          "base_uri": "https://localhost:8080/",
          "height": 34
        }
      },
      "source": [
        "from google.colab import drive\n",
        "drive.mount('/content/drive')"
      ],
      "execution_count": 2,
      "outputs": [
        {
          "output_type": "stream",
          "text": [
            "Mounted at /content/drive\n"
          ],
          "name": "stdout"
        }
      ]
    },
    {
      "cell_type": "code",
      "metadata": {
        "id": "oc20AZFtGeyk"
      },
      "source": [
        "#su dung khi dataset o trong drive neu khong bo qua\n",
        "%cp drive/My\\ Drive/COVID-SemiSeg.zip /content/\n",
        "with ZipFile('COVID-SemiSeg.zip', 'r') as tt:\n",
        "  tt.extractall(\"\")"
      ],
      "execution_count": 5,
      "outputs": []
    },
    {
      "cell_type": "code",
      "metadata": {
        "id": "8TNhqAQK442Z"
      },
      "source": [
        "file_name = 'weights_save'\n",
        "if not os.path.exists(file_name):\n",
        "  os.mkdir(file_name)"
      ],
      "execution_count": 6,
      "outputs": []
    },
    {
      "cell_type": "markdown",
      "metadata": {
        "id": "hDGT7k5XUtJY"
      },
      "source": [
        "# Initial Data"
      ]
    },
    {
      "cell_type": "markdown",
      "metadata": {
        "id": "KS-_PJSBTLfr"
      },
      "source": [
        "lấy các cặp ảnh và mask\n",
        "\n",
        "ảnh resize về 192x288\n",
        "\n",
        "mask là binary\n",
        "đầu ra imgs , masks"
      ]
    },
    {
      "cell_type": "code",
      "metadata": {
        "id": "PFXg1utzw1e9"
      },
      "source": [
        "def GetFiles(path):\n",
        "    file_list, dir_list = [], []\n",
        "    for dir, subdirs, files in os.walk(path):\n",
        "        file_list.extend([FJoin(dir, f) for f in files])\n",
        "        dir_list.extend([FJoin(dir, d) for d in subdirs])\n",
        "    return file_list, dir_list\n",
        "\n",
        "def get_mask(image_name,mask_folder):\n",
        "    mask_path=os.path.join(mask_folder, image_name.replace(\".jpg\",\".png\"))\n",
        "    #print(mask_path)\n",
        "    img_mask = cv2.imread(mask_path,cv2.IMREAD_GRAYSCALE)\n",
        "    _,img_mask = cv2.threshold(img_mask,127,255,cv2.THRESH_BINARY)\n",
        "    #img_mask = img_mask/255\n",
        "    #plt.imshow(img_mask,cmap='gray')\n",
        "    img_mask[img_mask<0.5] = 0\n",
        "    img_mask[img_mask>=0.5] = 1\n",
        "    return img_mask\n",
        "\n",
        "\n",
        "def build_data(path,mask_folder,edge_folder, csv_path,img_shapes):\n",
        "  w,h = img_shapes\n",
        "  imgs=[]\n",
        "  masks=[]\n",
        "  edges = []\n",
        "  img_name=[]\n",
        "  if csv_path == None:\n",
        "    img_name = os.listdir(path)\n",
        "  else:\n",
        "    with open(csv_path, 'r') as csvFile:\n",
        "      reader = csv.reader(csvFile)\n",
        "      for row in reader:\n",
        "          img_name.append(row[0])\n",
        "  n = len(img_name)//20\n",
        "  for count,file in enumerate(img_name[:]):\n",
        "        if file.find(\"super\")>0:\n",
        "          continue\n",
        "        fullpath= os.path.join(path,file)\n",
        "        #print(fullpath)\n",
        "        msk=get_mask(file,mask_folder)\n",
        "        if edge_folder is not None:\n",
        "          edge = get_mask(file,edge_folder)\n",
        "          edge=cv2.resize(edge,(w,h))\n",
        "          edges.append(edge)\n",
        "        msk=cv2.resize(msk,(w,h))\n",
        "        masks.append(msk)\n",
        "        image=cv2.imread(fullpath)\n",
        "        image=cv2.cvtColor(image,cv2.COLOR_BGR2RGB)\n",
        "        #image=image/127.5-1\n",
        "        image=cv2.resize(image,(w,h))\n",
        "        imgs.append(image)\n",
        "        if count%n == 0:\n",
        "          plt.figure(count//n)\n",
        "          plt.subplot(1,2,1).imshow(image,cmap='gray')\n",
        "          #plt.contour(msk,colors='r')\n",
        "          #plt.draw()\n",
        "          plt.subplot(1,2,2).imshow(msk, cmap = 'gray')\n",
        "          plt.show()  \n",
        "  imgs=np.asarray(imgs,dtype=np.float)\n",
        "  masks=np.asarray(masks,dtype=np.float).reshape(-1,h,w,1)\n",
        "  edges=np.asarray(edges,dtype=np.float).reshape(-1,h,w,1)\n",
        "  print(\"shape imgs: \",imgs.shape)\n",
        "  print(\"shape masks: \",masks.shape)\n",
        "  return imgs,masks,edges"
      ],
      "execution_count": 48,
      "outputs": []
    },
    {
      "cell_type": "code",
      "metadata": {
        "id": "7mJXIQ68RY5e"
      },
      "source": [
        "w = 352\n",
        "h = 352\n",
        "#folder_train = \"/content/COVID-SemiSeg/Dataset/TrainingSet/LungInfection-Train/Doctor-label/Imgs\"\n",
        "folder_train = \"/content/COVID-SemiSeg/Dataset/TrainingSet/LungInfection-Train/Pseudo-label/Imgs\"  # thay folder Doctor -> Pseudo để lấy 1600 ảnh pseudo train\n",
        "mask_train_folder = \"/content/COVID-SemiSeg/Dataset/TrainingSet/LungInfection-Train/Pseudo-label/GT\"\n",
        "edge_train_folder = \"/content/COVID-SemiSeg/Dataset/TrainingSet/LungInfection-Train/Pseudo-label/Edge\"\n",
        "\n",
        "#mask_train_folder = \"/content/COVID-SemiSeg/Dataset/TrainingSet/LungInfection-Train/Pseudo-label/GT\"\n",
        "folder_test = \"/content/COVID-SemiSeg/Dataset/TestingSet/LungInfection-Test/Imgs\"\n",
        "mask_test_folder = \"/content/COVID-SemiSeg/Dataset/TestingSet/LungInfection-Test/GT\"\n",
        "edge_dev_folder = None\n",
        "imgs,masks,edge = build_data(folder_train,mask_train_folder,edge_train_folder, None, (w,h))\n",
        "print(\"---------------------------------------------------------\")\n",
        "img_dev,mask_dev,edge_dev = build_data(folder_test,mask_test_folder,edge_dev_folder, None, (w,h))\n",
        "\n"
      ],
      "execution_count": null,
      "outputs": []
    },
    {
      "cell_type": "markdown",
      "metadata": {
        "id": "_u0pxsIm6BIe"
      },
      "source": [
        "#loss"
      ]
    },
    {
      "cell_type": "code",
      "metadata": {
        "id": "3GFsmYJUVfUO"
      },
      "source": [
        "def mvn(tensor):\n",
        "    '''Performs per-channel spatial mean-variance normalization.'''\n",
        "    epsilon = 1e-6\n",
        "    mean = K.mean(tensor, axis=(1,2), keepdims=True)\n",
        "    std = K.std(tensor, axis=(1,2), keepdims=True)\n",
        "    mvn = (tensor - mean) / (std + epsilon)\n",
        "    \n",
        "    return mvn\n",
        "def dice_coef(y_true, y_pred, smooth=1.0):\n",
        "    '''Average dice coefficient per batch.'''\n",
        "    y_pred = heviside(y_pred,epsilon = 0.01)\n",
        "    axes = (1,2,3)\n",
        "    intersection = K.sum(y_true * y_pred, axis=axes) #AhopM\n",
        "    summation = K.sum(y_true + y_pred, axis=axes)\n",
        "    \n",
        "    return K.mean((2.0 * intersection + smooth) / (summation + smooth), axis=0)\n",
        "\n",
        "def dice_coef_loss(y_true, y_pred):\n",
        "    return 1.0 - dice_coef(y_true, y_pred, smooth=1.0)\n",
        "def gradientLoss2d(input):\n",
        "    dH = K.abs(input[:, 1:, :, :] - input[:, :-1, :, :])\n",
        "    dW = K.abs(input[:, :, 1:, :] - input[:, :, :-1, :])\n",
        "    dH = dH * dH\n",
        "    dW = dW * dW\n",
        "    loss = K.sum(dH) + K.sum(dW)\n",
        "    return loss\n",
        "def levelsetLoss(y_true, y_pred, ratio = 0.001):\n",
        "    #print(\"go\")\n",
        "    outshape = y_pred.shape\n",
        "    tarshape = y_true.shape\n",
        "    multi = y_true*y_pred\n",
        "    c_numerator = K.sum(multi, [1,2])\n",
        "    c_denominator = K.sum(y_pred, [1,2])\n",
        "    #print(\"outshape,tarshape,multi.shape,c_numerator.shape, c_denominator.shape\")\n",
        "    #print(outshape,tarshape,multi.shape,c_numerator.shape, c_denominator.shape)\n",
        "    c = c_numerator/c_denominator\n",
        "    #print(\"s\",c.shape)\n",
        "    c = K.reshape(c, (-1, 1, 1,outshape[3])) \n",
        "    #print(\"c.shape: \", c.shape)\n",
        "    plevel = y_true - c\n",
        "    #print(\"plevel: \", plevel)\n",
        "    pLoss = plevel * plevel * y_pred\n",
        "    lossL = K.mean(pLoss)\n",
        "    #print(\"lossL: \", lossL)\n",
        "    lossA = gradientLoss2d(y_pred) * ratio\n",
        "\n",
        "    return lossL  + dice_coef_loss(y_true, y_pred)\n",
        "\n",
        "\n",
        "def bce_dice_loss(y_true, y_pred):\n",
        "    loss = tf.keras.losses.binary_crossentropy(y_true, y_pred) + dice_coef_loss(y_true, y_pred)\n",
        "    return loss\n",
        "def confusion(y_true, y_pred):\n",
        "    smooth=1\n",
        "    y_pred_pos = K.clip(y_pred, 0, 1)\n",
        "    y_pred_neg = 1 - y_pred_pos\n",
        "    y_pos = K.clip(y_true, 0, 1)\n",
        "    y_neg = 1 - y_pos\n",
        "    tp = K.sum(y_pos * y_pred_pos)\n",
        "    fp = K.sum(y_neg * y_pred_pos)\n",
        "    fn = K.sum(y_pos * y_pred_neg) \n",
        "    prec = (tp + smooth)/(tp+fp+smooth)\n",
        "    recall = (tp+smooth)/(tp+fn+smooth)\n",
        "    return prec, recall\n",
        "def tp(y_true, y_pred):\n",
        "    smooth = 1\n",
        "    y_pred_pos = K.round(K.clip(y_pred, 0, 1))\n",
        "    y_pos = K.round(K.clip(y_true, 0, 1))\n",
        "    tp = (K.sum(y_pos * y_pred_pos) + smooth)/ (K.sum(y_pos) + smooth) \n",
        "    return tp \n",
        "def tn(y_true, y_pred):\n",
        "    smooth = 1\n",
        "    y_pred_pos = K.round(K.clip(y_pred, 0, 1))\n",
        "    y_pred_neg = 1 - y_pred_pos\n",
        "    y_pos = K.round(K.clip(y_true, 0, 1))\n",
        "    y_neg = 1 - y_pos \n",
        "    tn = (K.sum(y_neg * y_pred_neg) + smooth) / (K.sum(y_neg) + smooth )\n",
        "    return tn \n",
        "def tversky(y_true, y_pred):\n",
        "    smooth=0.0\n",
        "    y_true_pos = K.flatten(y_true)\n",
        "    y_pred_pos = K.flatten(y_pred)\n",
        "    true_pos = K.sum(y_true_pos * y_pred_pos)\n",
        "    false_neg = K.sum(y_true_pos * (1-y_pred_pos))\n",
        "    false_pos = K.sum((1-y_true_pos)*y_pred_pos)\n",
        "    alpha = 0.7\n",
        "    return (true_pos + smooth)/(true_pos + alpha*false_neg + (1-alpha)*false_pos + smooth)\n",
        "def tversky_loss(y_true, y_pred):\n",
        "    return 1 - tversky(y_true,y_pred)\n",
        "\n",
        "def focal_tversky(y_true,y_pred):\n",
        "    y_pred = y_pred[0]\n",
        "    pt_1 = tversky(y_true, y_pred)\n",
        "    gamma = 0.75\n",
        "    return K.pow((1-pt_1), gamma)\n",
        "def heviside(x,epsilon=0.1):\n",
        "    return 1/2*(1+2/3.14159*tf.math.atan(x/epsilon))\n",
        "def Active_Contour_Loss(y_true, y_pred): \n",
        "    epison = 0.1\n",
        "    #Drc = (epison / 3.14159) / (epison * epison + y_pred[:,:,:,0] * y_pred[:,:,:,0])\n",
        "    Hea = 1/2*(1+2/3.14159*tf.math.atan(y_pred[:,:,:,0]/0.1))\n",
        "\n",
        "    mean_in = np.ones((h, w))\n",
        "    mean_out = np.zeros((h, w))\n",
        "\n",
        "    region_in = K.abs(K.mean( Hea * ((y_true[:,:,:,0] - mean_in)**2) ) ) \n",
        "    region_out = K.abs(K.mean( (1-Hea) * ((y_true[:,:,:,0] - mean_out)**2) )) \n",
        "    \n",
        "    return region_in + 2*region_out\n",
        "def loss_edge(y_true, y_pred):\n",
        "  epison = 1/3.14159\n",
        "  Drc = epison / (3.14159 * (epison * epison + y_pred * y_pred))\n",
        "  x = y_true[:,1:,:,:] - y_true[:,:-1,:,:] # horizontal and vertical directions \n",
        "  y = y_true[:,:,1:,:] - y_true[:,:,:-1,:]\n",
        "\n",
        "\n",
        "  delta_x = x[:,1:,:-2,:]**2\n",
        "  delta_y = y[:,:-2,1:,:]**2\n",
        "  delta_u = K.sqrt(K.abs(delta_x + delta_y))/np.sqrt(2)\n",
        "  return tf.keras.losses.binary_crossentropy(delta_u,Drc[:,1:-1,1:-1,:])"
      ],
      "execution_count": 64,
      "outputs": []
    },
    {
      "cell_type": "markdown",
      "metadata": {
        "id": "AGH1A5WSU5dD"
      },
      "source": [
        "# Data Augument"
      ]
    },
    {
      "cell_type": "code",
      "metadata": {
        "id": "PccYR0Tx3Gr3"
      },
      "source": [
        "#from itertools import izip\n",
        "generator_x = ImageDataGenerator(\n",
        "    horizontal_flip = True,\n",
        "    vertical_flip = True,\n",
        "    #width_shift_range = 0.2,\n",
        "    #height_shift_range = 0.2,\n",
        "    #shear_range = 0.1,\n",
        "    zoom_range = 0.1,\n",
        "    rotation_range = 180,\n",
        "    #fill_mode = 'reflect',\n",
        "    #brightness_range = (0.9,1.1),\n",
        ")\n",
        "generator_y = ImageDataGenerator(\n",
        "    horizontal_flip = True,\n",
        "    vertical_flip = True,\n",
        "    #width_shift_range = 0.2,\n",
        "    #height_shift_range = 0.2,\n",
        "    #shear_range = 0.1,\n",
        "    zoom_range = 0.1,\n",
        "    #brightness_range = (1.0,1.0),\n",
        "    rotation_range = 180,\n",
        "    #fill_mode = 'reflect'\n",
        ")\n",
        "seed = 1234\n",
        "batch = 4\n",
        "\n",
        "x_gen = generator_x.flow(imgs, batch_size = batch, shuffle = False, seed = seed)\n",
        "y_gen = generator_y.flow(masks, batch_size = batch, shuffle = False, seed = seed)\n",
        "train_generator = zip(x_gen, y_gen)"
      ],
      "execution_count": 68,
      "outputs": []
    },
    {
      "cell_type": "markdown",
      "metadata": {
        "id": "bmdFtUsZS2lA"
      },
      "source": [
        "#attention gate"
      ]
    },
    {
      "cell_type": "code",
      "metadata": {
        "id": "lKz9kO5RS1gu"
      },
      "source": [
        "def attention_up_and_concate(down_layer, layer, data_format='channels_last'):\n",
        "    data_format='channels_last'\n",
        "\n",
        "    in_channel = down_layer.get_shape().as_list()[3]\n",
        "\n",
        "    # up = Conv2DTranspose(out_channel, [2, 2], strides=[2, 2])(down_layer)\n",
        "    up = UpSampling2D(size=(2, 2), data_format=data_format)(down_layer)\n",
        "\n",
        "    layer = attention_block_2d(x=layer, g=up, inter_channel=in_channel // 4, data_format=data_format)\n",
        "\n",
        "    my_concat = Lambda(lambda x: K.concatenate([x[0], x[1]], axis=3))\n",
        "\n",
        "    concate = my_concat([up, layer])\n",
        "    return concate\n",
        "def attention_block_2d(x, g, inter_channel, data_format='channels_last'):\n",
        "    data_format='channels_last'\n",
        "\n",
        "    theta_x = Conv2D(inter_channel, [1, 1], strides=[1, 1], data_format=data_format)(x)\n",
        "\n",
        "    phi_g = Conv2D(inter_channel, [1, 1], strides=[1, 1], data_format=data_format)(g)\n",
        "\n",
        "\n",
        "    f = Activation('relu')(add([theta_x, phi_g]))\n",
        "\n",
        "\n",
        "    psi_f = Conv2D(1, [1, 1], strides=[1, 1], data_format=data_format)(f)\n",
        "\n",
        "    rate = Activation('sigmoid')(psi_f)\n",
        "\n",
        "    att_x = multiply([x, rate])\n",
        "\n",
        "    return att_x"
      ],
      "execution_count": 10,
      "outputs": []
    },
    {
      "cell_type": "markdown",
      "metadata": {
        "id": "ex6okk6veCyB"
      },
      "source": [
        "#callback"
      ]
    },
    {
      "cell_type": "code",
      "metadata": {
        "id": "zHWLUi7qM2nq"
      },
      "source": [
        "class lr_scheduler(tf.keras.callbacks.Callback):\n",
        "  def on_epoch_end(self, epoch, logs = {}):\n",
        "    if epoch == 59 or epoch == 79:\n",
        "      current_lr = K.eval(self.model.optimizer.lr)\n",
        "      current_lr = current_lr / 10\n",
        "      K.set_value(self.model.optimizer.lr, current_lr)\n",
        "      print(K.eval(self.model.optimizer.lr))\n",
        "\n",
        "\n",
        "class visualize(tf.keras.callbacks.Callback):\n",
        "\n",
        "\n",
        "    def __init__(self,img,mask):\n",
        "        super(visualize, self).__init__()\n",
        "        self.img = img\n",
        "    def on_epoch_end(self, epoch, logs=None):\n",
        "       feature_maps = self.model.predict(img)\n",
        "       fm = feature_maps[0][0]\n",
        "       fmh = heviside(fm)\n",
        "       #print(fm.shape)\n",
        "       square = 2\n",
        "       print(\"------------------------\")\n",
        "       #print(feature_maps[-1][0,:3,:3,0])\n",
        "       print(\"-------------------------\")\n",
        "       #print(feature_maps[0][0,:3,:3,0])\n",
        "       plt.subplot(132),plt.imshow(fmh[:,:,0],cmap = 'gray')\n",
        "       plt.subplot(133),plt.imshow(fm[:,:,0],cmap = 'gray')\n",
        "       plt.subplot(131),plt.imshow(mask[0,:,:,0],cmap = 'gray')\n",
        "       plt.show()\n",
        "      #  for fmap in feature_maps[1:]:\n",
        "      #       ix = 1\n",
        "      #       for _ in range(square):\n",
        "      #           for _ in range(square):\n",
        "      #               # specify subplot and turn of axis\n",
        "      #               ax = plt.subplot(square, square, ix)\n",
        "      #               ax.set_xticks([])\n",
        "      #               ax.set_yticks([])\n",
        "      #               # plot filter channel in grayscale\n",
        "      #               if ix > fmap.shape[-1]:\n",
        "      #                   continue\n",
        "      #               plt.imshow(fmap[0, :, :, ix-1], cmap='gray')\n",
        "      #               ix += 1\n",
        "      #       plt.show()\n",
        "\n",
        "\n"
      ],
      "execution_count": 71,
      "outputs": []
    },
    {
      "cell_type": "code",
      "metadata": {
        "id": "lz7l78gsbCCw"
      },
      "source": [
        "def unet(input_size = (192,288,3),classnum=2,pretrained_weights = None):\n",
        "    data = Input(shape=input_size, dtype='float', name='data')\n",
        "    mvn0 = Lambda(mvn)(data)\n",
        "    conv1 = Conv2D(64, 3, padding = 'same')(mvn0)\n",
        "    conv1 = Lambda(mvn)(conv1)\n",
        "    conv1 = Activation('relu')(conv1)\n",
        "    conv1 = Conv2D(64, 3,  padding = 'same')(conv1)\n",
        "    conv1 = Lambda(mvn)(conv1)\n",
        "    conv1 = Activation('relu')(conv1)\n",
        "    pool1 = MaxPooling2D(pool_size=(2, 2))(conv1)\n",
        "\n",
        "    conv2 = Conv2D(128, 3,  padding = 'same')(pool1)\n",
        "    conv2 = Lambda(mvn)(conv2)\n",
        "    conv2 = Activation('relu')(conv2)\n",
        "    conv2 = Conv2D(128, 3,  padding = 'same')(conv2)\n",
        "    conv2 = Lambda(mvn)(conv2)\n",
        "    conv2 = Activation('relu')(conv2)\n",
        "    pool2 = MaxPooling2D(pool_size=(2, 2))(conv2)\n",
        "\n",
        "    conv3 = Conv2D(256, 3,  padding = 'same')(pool2)\n",
        "    conv3 = Lambda(mvn)(conv3)\n",
        "    conv3 = Activation('relu')(conv3)\n",
        "    conv3 = Conv2D(256, 3,  padding = 'same')(conv3)\n",
        "    conv3 = Lambda(mvn)(conv3)\n",
        "    conv3 = Activation('relu')(conv3)\n",
        "    pool3 = MaxPooling2D(pool_size=(2, 2))(conv3)\n",
        "    \n",
        "    #edge_out = Conv2D(1,1,name = \"output1\")(conv3)\n",
        "\n",
        "    conv4 = Conv2D(512, 3,  padding = 'same')(pool3)\n",
        "    conv4 = Lambda(mvn)(conv4)\n",
        "    conv4 = Activation('relu')(conv4)\n",
        "    conv4 = Conv2D(512, 3,  padding = 'same')(conv4)\n",
        "    conv4 = Lambda(mvn)(conv4)\n",
        "    conv4 = Activation('relu')(conv4)\n",
        "    drop4 = Dropout(0.5)(conv4)\n",
        "    pool4 = MaxPooling2D(pool_size=(2, 2))(drop4)\n",
        "\n",
        "    conv5 = Conv2D(1024, 3,  padding = 'same')(pool4)\n",
        "    conv5 = Lambda(mvn)(conv5)\n",
        "    conv5 = Activation('relu')(conv5)\n",
        "    conv5 = Conv2D(1024, 3,  padding = 'same')(conv5)\n",
        "    conv5 = Lambda(mvn)(conv5)\n",
        "    conv5 = Activation('relu')(conv5)\n",
        "    drop5 = Dropout(0.5)(conv5)\n",
        "\n",
        "    merge6 = attention_up_and_concate(conv5,conv4)\n",
        "    conv6 = Conv2D(512, 3,  padding = 'same')(merge6)\n",
        "    conv6 = Lambda(mvn)(conv6)\n",
        "    conv6 = Activation('relu')(conv6)\n",
        "    conv6 = Conv2D(512, 3,  padding = 'same')(conv6)\n",
        "    conv6 = Lambda(mvn)(conv6)\n",
        "    conv6 = Activation('relu')(conv6)\n",
        "\n",
        "    merge7 = attention_up_and_concate(conv6,conv3)\n",
        "    conv7 = Conv2D(256, 3,  padding = 'same')(merge7)\n",
        "    conv7 = Lambda(mvn)(conv7)\n",
        "    conv7 = Activation('relu')(conv7)\n",
        "    conv7 = Conv2D(256, 3,  padding = 'same')(conv7)\n",
        "    conv7 = Lambda(mvn)(conv7)\n",
        "    conv7 = Activation('relu')(conv7)\n",
        "\n",
        "    merge8 = attention_up_and_concate(conv7,conv2)\n",
        "    conv8 = Conv2D(128, 3,  padding = 'same')(merge8)\n",
        "    conv8 = Lambda(mvn)(conv8)\n",
        "    conv8 = Activation('relu')(conv8)\n",
        "    conv8 = Conv2D(128, 3,  padding = 'same')(conv8)\n",
        "    conv8 = Lambda(mvn)(conv8)\n",
        "    conv8 = Activation('relu')(conv8)\n",
        "\n",
        "    merge9 = attention_up_and_concate(conv8,conv1)\n",
        "    conv9 = Conv2D(64, 3,  padding = 'same')(merge9)\n",
        "    conv9 = Lambda(mvn)(conv9)\n",
        "    conv9 = Activation('relu')(conv9)\n",
        "    conv9 = Conv2D(64, 3,  padding = 'same')(conv9)\n",
        "    edge_out = Conv2D(1, 1,name = \"output1\")(conv9)\n",
        "    conv9 = Lambda(mvn)(conv9)\n",
        "    conv9 = Activation('relu')(conv9)\n",
        "    conv9 = Conv2D(2, 3,  padding = 'same')(conv9)\n",
        "    conv9 = Activation('relu')(conv9)\n",
        "    conv10 = Conv2D(1, 1,name = \"main_output\")(conv9)\n",
        "    #out = tf.keras.layers.Activation(\"sigmoid\",name = \"main_output\")(conv10)\n",
        "    model = Model(inputs = data, outputs = [conv10,edge_out])\n",
        "\n",
        "    \n",
        "    \n",
        "   # model.summary()\n",
        "\n",
        "    if(pretrained_weights):\n",
        "    \tmodel.load_weights(pretrained_weights)\n",
        "\n",
        "    return model"
      ],
      "execution_count": 65,
      "outputs": []
    },
    {
      "cell_type": "markdown",
      "metadata": {
        "id": "d707bUi8U-y6"
      },
      "source": [
        "# Fit model"
      ]
    },
    {
      "cell_type": "markdown",
      "metadata": {
        "id": "a4OOhfQjWHlO"
      },
      "source": [
        "Epoch 60/80\n",
        "500/500 [==============================] - 288s 576ms/step - loss: 0.3507 - acc: 0.9603 - dice_coef: 0.9069 - jaccard_coef: 0.8409 - val_loss: 0.4036 - val_acc: 0.9290 - val_dice_coef: 0.8515 - val_jaccard_coef: 0.7673"
      ]
    },
    {
      "cell_type": "code",
      "metadata": {
        "id": "s5EfZgNlGmQN"
      },
      "source": [
        "input_shape = (h, w, 3)\n",
        "img = imgs[:1]\n",
        "mask = masks[:1]\n",
        "#plt.imshow(imgs[0,:,:,:].astype(\"uint8\"),cmap='gray')\n",
        "#plt.show()\n",
        "#model = unet(input_shape,2)\n",
        "model.compile(optimizer = SGD(lr = 0.01, momentum = 0.9), loss = {\"output1\":loss_edge,\"main_output\":Active_Contour_Loss}, \n",
        "              loss_weights={'main_output': 1., 'output1': 0.2},\n",
        "              metrics = {\"main_output\":['accuracy',dice_coef]})\n",
        "\n",
        "\n",
        "checkpoint = ModelCheckpoint('weights_save/ACL.{epoch:02d}_{val_main_output_dice_coef:.3f}.h5', \n",
        "                             monitor='val_main_output_dice_coef',save_best_only=True, verbose=1, save_weights_only=True, mode='max')\n",
        "#lr_decay = lr_scheduler()\n",
        "callback_list = [visualize(img,mask),checkpoint]\n",
        "history = model.fit(train_generator, steps_per_epoch = imgs.shape[0]//4, epochs = 50, \n",
        "                    validation_data = (img_dev, mask_dev),callbacks = callback_list,verbose = 1)"
      ],
      "execution_count": null,
      "outputs": []
    },
    {
      "cell_type": "markdown",
      "metadata": {
        "id": "9OZkHcWPsFr1"
      },
      "source": [
        "Ket qua\n",
        "Dung ham heviside active contour loss tỉ lệ 1 -2 \n",
        "\n",
        "Fine tune từ tập pseudo\n",
        "\n",
        "loss: 0.0579 - accuracy: 0.9366 - dice_coef: 0.8038 - val_loss: 0.0918 - val_accuracy: 0.9235 - val_dice_coef: 0.7649\n",
        "\n",
        "\n",
        "\n",
        "chạy từ đầu ảnh doctor 80 epoch step  = 100/epoch\n",
        "\n",
        "loss: 0.0482 - accuracy: 0.9437 - dice_coef: 0.8340 - val_loss: 0.1061 - val_accuracy: 0.9329 - val_dice_coef: 0.7451\n",
        "\n",
        "\n",
        "chạy từ đầu ảnh pseudo 400step/epoch\n",
        "\n",
        "\n",
        "loss: 0.0359 - accuracy: 0.9481 - dice_coef: 0.8590 - val_loss: 0.1045 - val_accuracy: 0.9298 - val_dice_coef: 0.7416"
      ]
    },
    {
      "cell_type": "markdown",
      "metadata": {
        "id": "eug0by9N6eor"
      },
      "source": [
        "#visualize "
      ]
    },
    {
      "cell_type": "code",
      "metadata": {
        "id": "oTQpMuGw-Wca"
      },
      "source": [
        "model = unet((352,352,3),2,\"/content/drive/My Drive/weight_infection_acl/unet.23_0.72.h5\")\n",
        "mask_pred = model.predict(imgs)\n",
        "mask_copy = mask_pred.copy()\n",
        "mask_pred = heviside(mask_pred,0.01)\n",
        "#mask_pred[mask_pred<0] = 0\n",
        "#mask_pred[mask_pred>0] = 1"
      ],
      "execution_count": 40,
      "outputs": []
    },
    {
      "cell_type": "code",
      "metadata": {
        "id": "Nk1CCkIU_R3o",
        "outputId": "39733c58-1b3f-4d61-d644-3093fc099abf",
        "colab": {
          "base_uri": "https://localhost:8080/",
          "height": 521
        }
      },
      "source": [
        "plt.imshow(mask_pred[1,:,:,0],cmap= 'gray')\n",
        "plt.show()    \n",
        "plt.imshow(masks[1,:,:,0],cmap= 'gray')\n",
        "plt.show()"
      ],
      "execution_count": 44,
      "outputs": [
        {
          "output_type": "display_data",
          "data": {
            "image/png": "[encoded data removed]",
            "text/plain": [
              "<Figure size 432x288 with 1 Axes>"
            ]
          },
          "metadata": {
            "tags": [],
            "needs_background": "light"
          }
        },
        {
          "output_type": "display_data",
          "data": {
            "image/png": "[encoded data removed]",
            "text/plain": [
              "<Figure size 432x288 with 1 Axes>"
            ]
          },
          "metadata": {
            "tags": [],
            "needs_background": "light"
          }
        }
      ]
    },
    {
      "cell_type": "code",
      "metadata": {
        "id": "-FC_3D77Dh0M",
        "outputId": "5fc98e72-abd5-4fd3-b2cf-b463f135575a",
        "colab": {
          "base_uri": "https://localhost:8080/",
          "height": 555
        }
      },
      "source": [
        "epison = 1/3.14159\n",
        "Drc = epison / (3.14159 * (epison * epison + mask_copy[:,:,:,:] * mask_copy[:,:,:,:]))\n",
        "print(K.mean(tf.keras.losses.binary_crossentropy(edge,Drc)))\n",
        "plt.imshow(Drc[1,:,:,0],cmap= 'gray')\n",
        "plt.xticks(np.arange(0, 353, 50))\n",
        "plt.show()   \n",
        "plt.imshow(edge[1,:,:,0],cmap= 'gray')\n",
        "plt.show()\n",
        "print(edge[1,:,:,0].max())"
      ],
      "execution_count": 51,
      "outputs": [
        {
          "output_type": "stream",
          "text": [
            "tf.Tensor(0.1500701, shape=(), dtype=float32)\n"
          ],
          "name": "stdout"
        },
        {
          "output_type": "display_data",
          "data": {
            "image/png": "[encoded data removed]",
            "text/plain": [
              "<Figure size 432x288 with 1 Axes>"
            ]
          },
          "metadata": {
            "tags": [],
            "needs_background": "light"
          }
        },
        {
          "output_type": "display_data",
          "data": {
            "image/png": "[encoded data removed]",
            "text/plain": [
              "<Figure size 432x288 with 1 Axes>"
            ]
          },
          "metadata": {
            "tags": [],
            "needs_background": "light"
          }
        },
        {
          "output_type": "stream",
          "text": [
            "1.0\n"
          ],
          "name": "stdout"
        }
      ]
    },
    {
      "cell_type": "code",
      "metadata": {
        "id": "V_zbV6bj_PaM",
        "outputId": "69fd46ce-5345-40ea-bac6-fd11957249e0",
        "colab": {
          "base_uri": "https://localhost:8080/",
          "height": 538
        }
      },
      "source": [
        "x = masks[:,1:,:,:] - masks[:,:-1,:,:] # horizontal and vertical directions \n",
        "y = masks[:,:,1:,:] - masks[:,:,:-1,:]\n",
        "\n",
        "\n",
        "delta_x = x[:,1:,:-2,:]**2\n",
        "delta_y = y[:,:-2,1:,:]**2\n",
        "delta_u = K.sqrt(K.abs(delta_x + delta_y))/np.sqrt(2)\n",
        "print(delta_u.numpy().max())\n",
        "\n",
        "plt.imshow(delta_u[1,:,:,0],cmap= 'gray')\n",
        "plt.show()\n",
        "plt.imshow(edge[1,:,:,0],cmap= 'gray')\n",
        "plt.show()"
      ],
      "execution_count": 54,
      "outputs": [
        {
          "output_type": "stream",
          "text": [
            "1.0\n"
          ],
          "name": "stdout"
        },
        {
          "output_type": "display_data",
          "data": {
            "image/png": "[encoded data removed]",
            "text/plain": [
              "<Figure size 432x288 with 1 Axes>"
            ]
          },
          "metadata": {
            "tags": [],
            "needs_background": "light"
          }
        },
        {
          "output_type": "display_data",
          "data": {
            "image/png": "[encoded data removed]",
            "text/plain": [
              "<Figure size 432x288 with 1 Axes>"
            ]
          },
          "metadata": {
            "tags": [],
            "needs_background": "light"
          }
        }
      ]
    },
    {
      "cell_type": "code",
      "metadata": {
        "id": "IZCOSATQ-LI9",
        "outputId": "a115e7a5-7ed0-4199-ff76-9954faeda81d",
        "colab": {
          "base_uri": "https://localhost:8080/",
          "height": 680
        }
      },
      "source": [
        "print(np.where(edge[1,1:-1,1:-1,0]>0.9))"
      ],
      "execution_count": 62,
      "outputs": [
        {
          "output_type": "stream",
          "text": [
            "(array([234, 234, 234, 234, 234, 235, 235, 235, 235, 235, 235, 235, 235,\n",
            "       235, 235, 235, 236, 236, 236, 236, 236, 236, 236, 236, 236, 237,\n",
            "       237, 237, 237, 237, 237, 238, 238, 238, 238, 239, 239, 239, 239,\n",
            "       240, 240, 240, 240, 240, 240, 240, 241, 241, 241, 241, 241, 241,\n",
            "       241, 241, 241, 241, 241, 241, 241, 241, 241, 241, 241, 241, 241,\n",
            "       241, 241, 241, 242, 242, 242, 242, 242, 242, 242, 242, 242, 242,\n",
            "       242, 242, 242, 242, 242, 242, 242, 242, 242, 242, 242, 243, 243,\n",
            "       243, 243, 243, 243, 243, 243, 243, 244, 244, 244, 244, 244, 244,\n",
            "       245, 245, 245, 245, 245, 245, 245, 246, 246, 246, 246, 246, 247,\n",
            "       247, 247, 248, 248, 248, 248, 249, 249, 249, 249, 249, 250, 250,\n",
            "       250, 250, 251, 251, 251, 251, 252, 252, 252, 252, 252, 252, 253,\n",
            "       253, 253, 253, 253, 254, 254, 254, 254, 254, 255, 255, 255, 255,\n",
            "       256, 256, 256, 256, 256, 257, 257, 257, 257, 257, 257, 258, 258,\n",
            "       258, 258, 258, 258, 259, 259, 259, 259, 259, 260, 260, 260, 260,\n",
            "       261, 261, 261, 261, 261, 261, 262, 262, 262, 262, 262, 262, 262,\n",
            "       263, 263, 263, 263, 263, 263, 263, 264, 264, 264, 264, 264, 264,\n",
            "       264, 264, 264, 264, 264, 264, 265, 265, 265, 265, 265, 265, 265,\n",
            "       265, 265, 265, 265, 265, 265, 265, 265, 266, 266, 266, 266, 266,\n",
            "       266, 266, 266, 266, 267, 267, 267, 267, 267, 267, 267, 267, 268,\n",
            "       268, 268, 268, 268, 268]), array([321, 322, 323, 324, 325, 319, 320, 321, 322, 323, 324, 325, 326,\n",
            "       327, 328, 329, 317, 318, 319, 320, 326, 327, 328, 329, 330, 315,\n",
            "       316, 317, 318, 330, 331, 314, 315, 330, 331, 313, 314, 330, 331,\n",
            "       310, 311, 312, 313, 331, 332, 333, 303, 304, 305, 306, 307, 308,\n",
            "       309, 310, 311, 312, 333, 334, 335, 336, 337, 338, 339, 340, 341,\n",
            "       342, 343, 344, 301, 302, 303, 304, 305, 306, 307, 308, 309, 334,\n",
            "       335, 336, 337, 338, 339, 340, 341, 342, 343, 344, 345, 298, 299,\n",
            "       300, 301, 302, 343, 344, 345, 346, 297, 298, 299, 345, 346, 347,\n",
            "       297, 298, 299, 345, 346, 347, 348, 297, 298, 347, 348, 349, 296,\n",
            "       297, 348, 296, 297, 348, 349, 296, 297, 347, 348, 349, 297, 298,\n",
            "       346, 347, 298, 299, 346, 347, 299, 300, 301, 346, 347, 348, 299,\n",
            "       300, 301, 346, 347, 300, 301, 302, 346, 347, 301, 302, 345, 346,\n",
            "       301, 302, 303, 344, 345, 303, 304, 341, 342, 343, 344, 304, 305,\n",
            "       340, 341, 342, 343, 305, 306, 340, 341, 342, 306, 307, 339, 340,\n",
            "       307, 308, 336, 337, 338, 339, 308, 309, 310, 311, 335, 336, 337,\n",
            "       309, 310, 311, 312, 333, 334, 335, 312, 313, 314, 319, 320, 321,\n",
            "       322, 323, 331, 332, 333, 334, 313, 314, 315, 316, 317, 318, 319,\n",
            "       320, 321, 322, 323, 324, 331, 332, 333, 315, 316, 317, 318, 323,\n",
            "       324, 331, 332, 333, 324, 325, 326, 327, 328, 329, 330, 331, 325,\n",
            "       326, 327, 328, 329, 330]))\n"
          ],
          "name": "stdout"
        }
      ]
    },
    {
      "cell_type": "code",
      "metadata": {
        "id": "M40Aki-Q-URp",
        "outputId": "e152749a-1019-40cd-a2eb-ecf66e31907a",
        "colab": {
          "base_uri": "https://localhost:8080/",
          "height": 442
        }
      },
      "source": [
        "print(np.where(delta_u[1,:,:,0]>0.5))"
      ],
      "execution_count": 63,
      "outputs": [
        {
          "output_type": "stream",
          "text": [
            "(array([234, 234, 234, 234, 235, 235, 235, 235, 235, 235, 235, 236, 236,\n",
            "       236, 236, 236, 236, 237, 237, 237, 238, 238, 239, 239, 239, 240,\n",
            "       240, 240, 240, 240, 240, 241, 241, 241, 241, 241, 241, 241, 241,\n",
            "       241, 241, 241, 241, 241, 241, 241, 241, 241, 241, 241, 241, 242,\n",
            "       242, 242, 242, 243, 243, 243, 243, 243, 243, 243, 244, 244, 245,\n",
            "       245, 245, 246, 246, 246, 247, 247, 248, 248, 249, 249, 249, 249,\n",
            "       250, 250, 250, 251, 251, 251, 252, 252, 253, 253, 253, 253, 254,\n",
            "       254, 254, 255, 255, 255, 256, 256, 256, 257, 257, 257, 257, 257,\n",
            "       258, 258, 258, 259, 259, 259, 259, 260, 260, 260, 260, 261, 261,\n",
            "       261, 261, 262, 262, 262, 262, 262, 262, 263, 263, 263, 263, 263,\n",
            "       264, 264, 264, 264, 264, 264, 264, 264, 264, 265, 265, 265, 265,\n",
            "       265, 265, 266, 266, 266, 266, 266, 266, 267, 267, 267, 267, 267,\n",
            "       267, 267, 268, 268]), array([323, 324, 325, 326, 320, 321, 322, 327, 328, 329, 330, 317, 318,\n",
            "       319, 321, 325, 331, 316, 318, 329, 315, 330, 314, 330, 332, 311,\n",
            "       312, 313, 330, 333, 334, 304, 305, 306, 307, 308, 309, 310, 312,\n",
            "       331, 335, 336, 337, 338, 339, 340, 341, 342, 343, 344, 345, 302,\n",
            "       303, 309, 333, 299, 300, 301, 302, 344, 346, 347, 300, 344, 297,\n",
            "       346, 348, 297, 298, 346, 297, 347, 296, 347, 296, 298, 347, 348,\n",
            "       296, 299, 347, 297, 300, 346, 298, 346, 299, 301, 302, 346, 299,\n",
            "       346, 347, 301, 303, 346, 301, 304, 345, 302, 305, 342, 343, 344,\n",
            "       303, 306, 343, 304, 307, 340, 341, 305, 308, 339, 340, 306, 309,\n",
            "       337, 338, 307, 310, 311, 312, 336, 337, 308, 313, 333, 334, 335,\n",
            "       311, 314, 315, 320, 321, 322, 323, 324, 334, 312, 316, 317, 318,\n",
            "       319, 331, 314, 318, 323, 325, 331, 332, 323, 326, 327, 328, 329,\n",
            "       330, 331, 324, 330]))\n"
          ],
          "name": "stdout"
        }
      ]
    },
    {
      "cell_type": "code",
      "metadata": {
        "id": "gH8fKNgkU-Nw"
      },
      "source": [
        "def dice_coef2(y_true, y_pred, smooth=1.0):\n",
        "    '''Average dice coefficient per batch.'''\n",
        "    axes = (1,2,3)\n",
        "    intersection = K.sum(y_true * y_pred, axis=axes) #AhopM\n",
        "    summation = K.sum(y_true + y_pred, axis=axes)\n",
        "    \n",
        "    return K.mean((2.0 * intersection + smooth) / (summation + smooth), axis=0)\n",
        "\n",
        "def dice_coef_loss2(y_true, y_pred):\n",
        "    return 1-dice_coef2(y_true, y_pred)"
      ],
      "execution_count": null,
      "outputs": []
    },
    {
      "cell_type": "code",
      "metadata": {
        "id": "AVxvlUa5vwdj",
        "outputId": "968ab8cd-02f0-4a5a-efba-c8946bbe477f",
        "colab": {
          "base_uri": "https://localhost:8080/",
          "height": 538
        }
      },
      "source": [
        "model.load_weights(\"/content/weights_save/unet.49_0.76.h5\")\n",
        "mask_pred = model.predict(img_dev)\n",
        "#mask_pred = heviside(mask_pred,epsilon=0.01)\n",
        "mask_pred[mask_pred<0] = 0\n",
        "mask_pred[mask_pred>0] = 1\n",
        "print(dice_coef2(mask_dev,mask_pred))\n",
        "plt.imshow(mask_pred[1,:,:,0],cmap= 'gray')\n",
        "plt.show()    \n",
        "plt.imshow(mask_dev[1,:,:,0],cmap= 'gray')\n",
        "plt.show()"
      ],
      "execution_count": null,
      "outputs": [
        {
          "output_type": "stream",
          "text": [
            "tf.Tensor(0.7638004292231648, shape=(), dtype=float64)\n"
          ],
          "name": "stdout"
        },
        {
          "output_type": "display_data",
          "data": {
            "image/png": "[encoded data removed]",
            "text/plain": [
              "<Figure size 432x288 with 1 Axes>"
            ]
          },
          "metadata": {
            "tags": [],
            "needs_background": "light"
          }
        },
        {
          "output_type": "display_data",
          "data": {
            "image/png": "[encoded data removed]",
            "text/plain": [
              "<Figure size 432x288 with 1 Axes>"
            ]
          },
          "metadata": {
            "tags": [],
            "needs_background": "light"
          }
        }
      ]
    },
    {
      "cell_type": "code",
      "metadata": {
        "id": "950EqpOh9Gwn"
      },
      "source": [
        "for count,layer in enumerate(model.layers):\n",
        "\t# check for convolutional layer\n",
        "\tif 'conv' not in layer.name:\n",
        "\t\tcontinue\n",
        "\t# get filter weights\n",
        "\tprint(count, layer.name)\n",
        "\tfilters, biases = layer.get_weights()\n"
      ],
      "execution_count": null,
      "outputs": []
    },
    {
      "cell_type": "code",
      "metadata": {
        "id": "j51Rz4w_C7xB"
      },
      "source": [
        "ixs = [2, 5, 9, 91, 94,97]\n",
        "outputs = [model.layers[i].output for i in ixs]\n",
        "model = Model(inputs=model.inputs, outputs=outputs)\n",
        "pyplot.imshow(imgs[0,:,:,:].astype(\"uint8\"),cmap='gray')\n",
        "pyplot.show()\n",
        "feature_maps = model.predict(imgs[:1,:,:,:])\n",
        "# plot the output from each block\n",
        "square = 2\n",
        "for fmap in feature_maps:\n",
        "    print(fmap.shape)\n",
        "    ix = 1\n",
        "    for _ in range(square):\n",
        "        for _ in range(square):\n",
        "            # specify subplot and turn of axis\n",
        "            ax = pyplot.subplot(square, square, ix)\n",
        "            ax.set_xticks([])\n",
        "            ax.set_yticks([])\n",
        "            # plot filter channel in grayscale\n",
        "            if ix > fmap.shape[-1]:\n",
        "                continue\n",
        "            pyplot.imshow(fmap[0, :, :, ix-1], cmap='gray')\n",
        "            ix += 1\n",
        "\t# show the figure\n",
        "    pyplot.show()"
      ],
      "execution_count": null,
      "outputs": []
    },
    {
      "cell_type": "code",
      "metadata": {
        "id": "BnKx3sVwjxRL"
      },
      "source": [
        "#plt.figure(1)\n",
        "#plt.subplot(121,aspect='auto')\n",
        "y=history.history['val_dice_coef']\n",
        "plt.plot(history.history['dice_coef'])\n",
        "plt.plot(history.history['val_dice_coef'])\n",
        "plt.title('Model DCS')\n",
        "plt.ylabel('DCS')\n",
        "plt.xlabel('Epoch')\n",
        "plt.legend(['Train', 'Test'], loc='upper left')\n",
        "plt.show()\n",
        "\n",
        "#plt.subplot(122,aspect='auto')\n",
        "plt.plot(history.history['loss'])\n",
        "plt.plot(history.history['val_loss'])\n",
        "plt.title('Model loss')\n",
        "plt.ylabel('loss')\n",
        "plt.xlabel('Epoch')\n",
        "plt.legend(['Train', 'Test'], loc='upper left')\n",
        "\n",
        "plt.show()\n"
      ],
      "execution_count": null,
      "outputs": []
    }
  ]
}