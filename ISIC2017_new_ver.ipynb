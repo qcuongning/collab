{
  "nbformat": 4,
  "nbformat_minor": 0,
  "metadata": {
    "colab": {
      "name": "ISIC2017_Xception.ipynb",
      "provenance": [],
      "collapsed_sections": [],
      "toc_visible": true,
      "machine_shape": "hm",
      "include_colab_link": true
    },
    "kernelspec": {
      "name": "python3",
      "display_name": "Python 3"
    },
    "accelerator": "GPU"
  },
  "cells": [
    {
      "cell_type": "markdown",
      "metadata": {
        "id": "view-in-github",
        "colab_type": "text"
      },
      "source": [
        "<a href=\"https://colab.research.google.com/github/qcuongning/collab/blob/main/ISIC2017_new_ver.ipynb\" target=\"_parent\"><img src=\"https://colab.research.google.com/assets/colab-badge.svg\" alt=\"Open In Colab\"/></a>"
      ]
    },
    {
      "cell_type": "markdown",
      "metadata": {
        "id": "yNhF704nMmIx"
      },
      "source": [
        "Với các hàm cần sử dụng backend Keras mà bị lỗi K not contribute cần đổi về keras==2.2.4\n",
        "\n",
        "\n",
        "The codebase is heavily inspired by the [respotory](https://github.com/qubvel/efficientnet)\n",
        "\n"
      ]
    },
    {
      "cell_type": "code",
      "metadata": {
        "id": "Jjtnqd7gaVSw",
        "outputId": "cea1807b-f716-418e-80f5-291ae80a578c",
        "colab": {
          "base_uri": "https://localhost:8080/",
          "height": 34
        }
      },
      "source": [
        "from google.colab import drive\n",
        "drive.mount('/content/drive')"
      ],
      "execution_count": 1,
      "outputs": [
        {
          "output_type": "stream",
          "text": [
            "Mounted at /content/drive\n"
          ],
          "name": "stdout"
        }
      ]
    },
    {
      "cell_type": "markdown",
      "metadata": {
        "id": "80XmdWXlUgZG"
      },
      "source": [
        "# Get Data"
      ]
    },
    {
      "cell_type": "code",
      "metadata": {
        "id": "GnbEu1yz0PKx",
        "outputId": "b72d2735-3678-488c-f383-7272ac2a4899",
        "colab": {
          "base_uri": "https://localhost:8080/",
          "height": 34
        }
      },
      "source": [
        "import os\n",
        "import numpy as np\n",
        "from matplotlib import pyplot as plt\n",
        "import json\n",
        "import cv2\n",
        "import csv\n",
        "import tensorflow as tf\n",
        "from tensorflow.keras.models import *\n",
        "from tensorflow.keras.layers import *\n",
        "from tensorflow.keras.optimizers import *\n",
        "from tensorflow.keras.callbacks import ModelCheckpoint, LearningRateScheduler\n",
        "from tensorflow.keras import backend as K\n",
        "from tensorflow.keras.preprocessing.image import ImageDataGenerator\n",
        "from tensorflow.keras import applications as app\n",
        "seed = 1234\n",
        "np.random.seed(seed)\n",
        "fig=plt.figure()\n",
        "FJoin = os.path.join"
      ],
      "execution_count": 2,
      "outputs": [
        {
          "output_type": "display_data",
          "data": {
            "text/plain": [
              "<Figure size 432x288 with 0 Axes>"
            ]
          },
          "metadata": {
            "tags": []
          }
        }
      ]
    },
    {
      "cell_type": "code",
      "metadata": {
        "id": "8TNhqAQK442Z"
      },
      "source": [
        "file_name = 'weights_save'\n",
        "if not os.path.exists(file_name):\n",
        "  os.mkdir(file_name)"
      ],
      "execution_count": 3,
      "outputs": []
    },
    {
      "cell_type": "markdown",
      "metadata": {
        "id": "hDGT7k5XUtJY"
      },
      "source": [
        "# Initial Data"
      ]
    },
    {
      "cell_type": "markdown",
      "metadata": {
        "id": "KS-_PJSBTLfr"
      },
      "source": [
        "lấy các cặp ảnh và mask\n",
        "\n",
        "ảnh resize về 192x288\n",
        "\n",
        "mask là binary\n",
        "đầu ra imgs , masks"
      ]
    },
    {
      "cell_type": "code",
      "metadata": {
        "id": "PFXg1utzw1e9"
      },
      "source": [
        "def GetFiles(path):\n",
        "    file_list, dir_list = [], []\n",
        "    for dir, subdirs, files in os.walk(path):\n",
        "        file_list.extend([FJoin(dir, f) for f in files])\n",
        "        dir_list.extend([FJoin(dir, d) for d in subdirs])\n",
        "    return file_list, dir_list\n",
        "\n",
        "def get_mask(image_name,mask_folder):\n",
        "    mask_path=os.path.join(mask_folder, image_name.replace(\".jpg\",\"_segmentation.png\"))\n",
        "    #print(mask_path)\n",
        "    img_mask = cv2.imread(mask_path,cv2.IMREAD_GRAYSCALE)\n",
        "    _,img_mask = cv2.threshold(img_mask,127,255,cv2.THRESH_BINARY)\n",
        "    img_mask = img_mask/255.\n",
        "    return img_mask\n",
        "\n",
        "\n",
        "def build_data(path,mask_folder,csv_path,img_shapes):\n",
        "  w,h = img_shapes\n",
        "  imgs=[]\n",
        "  masks=[]\n",
        "  img_name=[]\n",
        "  with open(csv_path, 'r') as csvFile:\n",
        "    reader = csv.reader(csvFile)\n",
        "    for row in reader:\n",
        "        img_name.append(row[0])\n",
        "  for count,file in enumerate(img_name[1:601]):\n",
        "        print(count)\n",
        "        file+=\".jpg\"\n",
        "        fullpath= os.path.join(path,file)\n",
        "        msk=get_mask(file,mask_folder)\n",
        "        msk=cv2.resize(msk,(w,h))\n",
        "        masks.append(msk)\n",
        "        image=cv2.imread(fullpath)\n",
        "        image=cv2.cvtColor(image,cv2.COLOR_BGR2RGB)\n",
        "        #image=image/127.5-1\n",
        "        image=cv2.resize(image,(w,h))\n",
        "        imgs.append(image)\n",
        "        if count%200 == 0:\n",
        "          plt.figure(count//200)\n",
        "          plt.subplot(1,2,1).imshow(image,cmap='gray')\n",
        "          plt.subplot(1,2,2).imshow(msk, cmap = 'gray')\n",
        "          plt.show()  \n",
        "  imgs=np.asarray(imgs,dtype=np.float)\n",
        "  masks=np.asarray(masks,dtype=np.float).reshape(-1,h,w,1)\n",
        "  print(\"shape imgs: \",imgs.shape)\n",
        "  print(\"shape masks: \",masks.shape)\n",
        "  return imgs,masks"
      ],
      "execution_count": 4,
      "outputs": []
    },
    {
      "cell_type": "code",
      "metadata": {
        "id": "7mJXIQ68RY5e",
        "outputId": "e4be7736-2994-40bf-fe76-2cf1abdaa6e1",
        "colab": {
          "base_uri": "https://localhost:8080/",
          "height": 459
        }
      },
      "source": [
        "w = 288\n",
        "h = 192\n",
        "folder_train = \"/content/drive/My Drive/cuong_folder/ISIC-2017_Training_Data\"\n",
        "mask_train_folder = \"/content/drive/My Drive/cuong_folder/ISIC-2017_Training_Part1_GroundTruth\"\n",
        "csv_train = '/content/drive/My Drive/cuong_folder/ISIC-2017_Training_Data/ISIC-2017_Training_Data_metadata.csv'\n",
        "\n",
        "imgs,masks = build_data(folder_train,mask_train_folder, csv_train, (w,h))\n"
      ],
      "execution_count": 5,
      "outputs": [
        {
          "output_type": "display_data",
          "data": {
            "image/png": "[encoded data removed]",
            "text/plain": [
              "<Figure size 432x288 with 2 Axes>"
            ]
          },
          "metadata": {
            "tags": [],
            "needs_background": "light"
          }
        },
        {
          "output_type": "display_data",
          "data": {
            "image/png": "[encoded data removed]",
            "text/plain": [
              "<Figure size 432x288 with 2 Axes>"
            ]
          },
          "metadata": {
            "tags": [],
            "needs_background": "light"
          }
        },
        {
          "output_type": "display_data",
          "data": {
            "image/png": "[encoded data removed]",
            "text/plain": [
              "<Figure size 432x288 with 2 Axes>"
            ]
          },
          "metadata": {
            "tags": [],
            "needs_background": "light"
          }
        },
        {
          "output_type": "stream",
          "text": [
            "shape imgs:  (600, 192, 288, 3)\n",
            "shape masks:  (600, 192, 288, 1)\n"
          ],
          "name": "stdout"
        }
      ]
    },
    {
      "cell_type": "code",
      "metadata": {
        "id": "sfndkrE2UJCj",
        "outputId": "1b52cdd0-d1c0-48a7-a521-3a27681adeeb",
        "colab": {
          "base_uri": "https://localhost:8080/",
          "height": 34
        }
      },
      "source": [
        "masks=masks.reshape(masks.shape[0],masks.shape[1],masks.shape[2],1)\n",
        "print(imgs.shape,masks.shape)"
      ],
      "execution_count": 6,
      "outputs": [
        {
          "output_type": "stream",
          "text": [
            "(600, 192, 288, 3) (600, 192, 288, 1)\n"
          ],
          "name": "stdout"
        }
      ]
    },
    {
      "cell_type": "code",
      "metadata": {
        "id": "JHDilUUH31gC"
      },
      "source": [
        "np.random.seed(13)\n",
        "index = np.random.permutation(imgs.shape[0])\n",
        "img_dev=imgs[index[:100]]\n",
        "mask_dev=masks[index[:100]]\n",
        "imgs = imgs[index[100:]]\n",
        "masks = masks[index[100:]]"
      ],
      "execution_count": 7,
      "outputs": []
    },
    {
      "cell_type": "code",
      "metadata": {
        "id": "8V2aV_IsWIri"
      },
      "source": [
        "class lr_scheduler(tf.keras.callbacks.Callback):\n",
        "  def on_epoch_end(self, epoch, logs = {}):\n",
        "    if epoch == 59 or epoch == 79:\n",
        "      current_lr = K.eval(self.model.optimizer.lr)\n",
        "      current_lr = current_lr / 10\n",
        "      K.set_value(self.model.optimizer.lr, current_lr)\n",
        "      print(K.eval(self.model.optimizer.lr))"
      ],
      "execution_count": 8,
      "outputs": []
    },
    {
      "cell_type": "markdown",
      "metadata": {
        "id": "_u0pxsIm6BIe"
      },
      "source": [
        "#loss"
      ]
    },
    {
      "cell_type": "code",
      "metadata": {
        "id": "3GFsmYJUVfUO"
      },
      "source": [
        "def mvn(tensor):\n",
        "    '''Performs per-channel spatial mean-variance normalization.'''\n",
        "    epsilon = 1e-6\n",
        "    mean = K.mean(tensor, axis=(1,2), keepdims=True)\n",
        "    std = K.std(tensor, axis=(1,2), keepdims=True)\n",
        "    mvn = (tensor - mean) / (std + epsilon)\n",
        "    \n",
        "    return mvn\n",
        "def dice_coef(y_true, y_pred, smooth=0.0):\n",
        "    '''Average dice coefficient per batch.'''\n",
        "    axes = (1,2,3)\n",
        "    intersection = K.sum(y_true * y_pred, axis=axes) #AhopM\n",
        "    summation = K.sum(y_true + y_pred, axis=axes)\n",
        "    \n",
        "    return K.mean((2.0 * intersection + smooth) / (summation + smooth), axis=0)\n",
        "def gradientLoss2d(input):\n",
        "    dH = K.abs(input[:, 1:, :, :] - input[:, :-1, :, :])\n",
        "    dW = K.abs(input[:, :, 1:, :] - input[:, :, :-1, :])\n",
        "    dH = dH * dH\n",
        "    dW = dW * dW\n",
        "    loss = K.sum(dH) + K.sum(dW)\n",
        "    return loss\n",
        "def levelsetLoss(y_true, y_pred, ratio = 0.001):\n",
        "    #print(\"go\")\n",
        "    outshape = y_pred.shape\n",
        "    tarshape = y_true.shape\n",
        "    multi = y_true*y_pred\n",
        "    c_numerator = K.sum(multi, [1,2])\n",
        "    c_denominator = K.sum(y_pred, [1,2])\n",
        "    #print(\"outshape,tarshape,multi.shape,c_numerator.shape, c_denominator.shape\")\n",
        "    #print(outshape,tarshape,multi.shape,c_numerator.shape, c_denominator.shape)\n",
        "    c = c_numerator/c_denominator\n",
        "    #print(\"s\",c.shape)\n",
        "    c = K.reshape(c, (-1, 1, 1,outshape[3])) \n",
        "    #print(\"c.shape: \", c.shape)\n",
        "    plevel = y_true - c\n",
        "    #print(\"plevel: \", plevel)\n",
        "    pLoss = plevel * plevel * y_pred\n",
        "    lossL = K.mean(pLoss)\n",
        "    #print(\"lossL: \", lossL)\n",
        "    lossA = gradientLoss2d(y_pred) * ratio\n",
        "\n",
        "    return lossL  + dice_coef_loss(y_true, y_pred)\n",
        "\n",
        "def dice_coef_loss(y_true, y_pred):\n",
        "    print(y_true.shape)\n",
        "    return 1.0 - dice_coef(y_true, y_pred, smooth=10.0)\n",
        "def bce_dice_loss(y_true, y_pred):\n",
        "    loss = tf.keras.losses.binary_crossentropy(y_true, y_pred) + dice_coef_loss(y_true, y_pred)\n",
        "    return loss\n",
        "def confusion(y_true, y_pred):\n",
        "    smooth=1\n",
        "    y_pred_pos = K.clip(y_pred, 0, 1)\n",
        "    y_pred_neg = 1 - y_pred_pos\n",
        "    y_pos = K.clip(y_true, 0, 1)\n",
        "    y_neg = 1 - y_pos\n",
        "    tp = K.sum(y_pos * y_pred_pos)\n",
        "    fp = K.sum(y_neg * y_pred_pos)\n",
        "    fn = K.sum(y_pos * y_pred_neg) \n",
        "    prec = (tp + smooth)/(tp+fp+smooth)\n",
        "    recall = (tp+smooth)/(tp+fn+smooth)\n",
        "    return prec, recall\n",
        "def tp(y_true, y_pred):\n",
        "    smooth = 1\n",
        "    y_pred_pos = K.round(K.clip(y_pred, 0, 1))\n",
        "    y_pos = K.round(K.clip(y_true, 0, 1))\n",
        "    tp = (K.sum(y_pos * y_pred_pos) + smooth)/ (K.sum(y_pos) + smooth) \n",
        "    return tp \n",
        "def tn(y_true, y_pred):\n",
        "    smooth = 1\n",
        "    y_pred_pos = K.round(K.clip(y_pred, 0, 1))\n",
        "    y_pred_neg = 1 - y_pred_pos\n",
        "    y_pos = K.round(K.clip(y_true, 0, 1))\n",
        "    y_neg = 1 - y_pos \n",
        "    tn = (K.sum(y_neg * y_pred_neg) + smooth) / (K.sum(y_neg) + smooth )\n",
        "    return tn \n",
        "def tversky(y_true, y_pred):\n",
        "    smooth=0.0\n",
        "    y_true_pos = K.flatten(y_true)\n",
        "    y_pred_pos = K.flatten(y_pred)\n",
        "    true_pos = K.sum(y_true_pos * y_pred_pos)\n",
        "    false_neg = K.sum(y_true_pos * (1-y_pred_pos))\n",
        "    false_pos = K.sum((1-y_true_pos)*y_pred_pos)\n",
        "    alpha = 0.7\n",
        "    return (true_pos + smooth)/(true_pos + alpha*false_neg + (1-alpha)*false_pos + smooth)\n",
        "def tversky_loss(y_true, y_pred):\n",
        "    return 1 - tversky(y_true,y_pred)\n",
        "\n",
        "def focal_tversky(y_true,y_pred):\n",
        "    pt_1 = tversky(y_true, y_pred)\n",
        "    gamma = 0.75\n",
        "    return K.pow((1-pt_1), gamma)"
      ],
      "execution_count": 9,
      "outputs": []
    },
    {
      "cell_type": "markdown",
      "metadata": {
        "id": "AGH1A5WSU5dD"
      },
      "source": [
        "# Data Augument"
      ]
    },
    {
      "cell_type": "code",
      "metadata": {
        "id": "PccYR0Tx3Gr3"
      },
      "source": [
        "#from itertools import izip\n",
        "generator_x = ImageDataGenerator(\n",
        "    horizontal_flip = True,\n",
        "    vertical_flip = True,\n",
        "    #width_shift_range = 0.2,\n",
        "    #height_shift_range = 0.2,\n",
        "    #shear_range = 0.1,\n",
        "    zoom_range = 0.1,\n",
        "    rotation_range = 180,\n",
        "    #fill_mode = 'reflect',\n",
        "    #brightness_range = (0.9,1.1),\n",
        ")\n",
        "generator_y = ImageDataGenerator(\n",
        "    horizontal_flip = True,\n",
        "    vertical_flip = True,\n",
        "    #width_shift_range = 0.2,\n",
        "    #height_shift_range = 0.2,\n",
        "    #shear_range = 0.1,\n",
        "    zoom_range = 0.1,\n",
        "    #brightness_range = (1.0,1.0),\n",
        "    rotation_range = 180,\n",
        "    #fill_mode = 'reflect'\n",
        ")\n",
        "seed = 1234\n",
        "batch = 4\n",
        "\n",
        "x_gen = generator_x.flow(imgs, batch_size = batch, shuffle = False, seed = seed)\n",
        "y_gen = generator_y.flow(masks, batch_size = batch, shuffle = False, seed = seed)\n",
        "train_generator = zip(x_gen, y_gen)"
      ],
      "execution_count": 10,
      "outputs": []
    },
    {
      "cell_type": "markdown",
      "metadata": {
        "id": "bmdFtUsZS2lA"
      },
      "source": [
        "#attention gate"
      ]
    },
    {
      "cell_type": "code",
      "metadata": {
        "id": "lKz9kO5RS1gu"
      },
      "source": [
        "def attention_up_and_concate(down_layer, layer, data_format='channels_last'):\n",
        "    data_format='channels_last'\n",
        "\n",
        "    in_channel = down_layer.get_shape().as_list()[3]\n",
        "\n",
        "    # up = Conv2DTranspose(out_channel, [2, 2], strides=[2, 2])(down_layer)\n",
        "    up = UpSampling2D(size=(2, 2), data_format=data_format)(down_layer)\n",
        "\n",
        "    layer = attention_block_2d(x=layer, g=up, inter_channel=in_channel // 4, data_format=data_format)\n",
        "\n",
        "    my_concat = Lambda(lambda x: K.concatenate([x[0], x[1]], axis=3))\n",
        "\n",
        "    concate = my_concat([up, layer])\n",
        "    return concate\n",
        "def attention_block_2d(x, g, inter_channel, data_format='channels_last'):\n",
        "    data_format='channels_last'\n",
        "\n",
        "    theta_x = Conv2D(inter_channel, [1, 1], strides=[1, 1], data_format=data_format)(x)\n",
        "\n",
        "    phi_g = Conv2D(inter_channel, [1, 1], strides=[1, 1], data_format=data_format)(g)\n",
        "\n",
        "\n",
        "    f = Activation('relu')(add([theta_x, phi_g]))\n",
        "\n",
        "\n",
        "    psi_f = Conv2D(1, [1, 1], strides=[1, 1], data_format=data_format)(f)\n",
        "\n",
        "    rate = Activation('sigmoid')(psi_f)\n",
        "\n",
        "    att_x = multiply([x, rate])\n",
        "\n",
        "    return att_x"
      ],
      "execution_count": 11,
      "outputs": []
    },
    {
      "cell_type": "code",
      "metadata": {
        "id": "V-ppkHlt30Td"
      },
      "source": [
        "def heviside(x):\n",
        "    return 1/2*(1+2/3.14159*tf.math.atan(x/0.1))"
      ],
      "execution_count": 26,
      "outputs": []
    },
    {
      "cell_type": "code",
      "metadata": {
        "id": "lz7l78gsbCCw"
      },
      "source": [
        "def unet(input_size = (192,288,3),classnum=2,pretrained_weights = None):\n",
        "    data = Input(shape=input_size, dtype='float', name='data')\n",
        "    mvn0 = Lambda(mvn)(data)\n",
        "    conv1 = Conv2D(64, 3, padding = 'same')(mvn0)\n",
        "    conv1 = Lambda(mvn)(conv1)\n",
        "    conv1 = Activation('relu')(conv1)\n",
        "    conv1 = Conv2D(64, 3,  padding = 'same')(conv1)\n",
        "    conv1 = Lambda(mvn)(conv1)\n",
        "    conv1 = Activation('relu')(conv1)\n",
        "    pool1 = MaxPooling2D(pool_size=(2, 2))(conv1)\n",
        "\n",
        "    conv2 = Conv2D(128, 3,  padding = 'same')(pool1)\n",
        "    conv2 = Lambda(mvn)(conv2)\n",
        "    conv2 = Activation('relu')(conv2)\n",
        "    conv2 = Conv2D(128, 3,  padding = 'same')(conv2)\n",
        "    conv2 = Lambda(mvn)(conv2)\n",
        "    conv2 = Activation('relu')(conv2)\n",
        "    pool2 = MaxPooling2D(pool_size=(2, 2))(conv2)\n",
        "\n",
        "    conv3 = Conv2D(256, 3,  padding = 'same')(pool2)\n",
        "    conv3 = Lambda(mvn)(conv3)\n",
        "    conv3 = Activation('relu')(conv3)\n",
        "    conv3 = Conv2D(256, 3,  padding = 'same')(conv3)\n",
        "    conv3 = Lambda(mvn)(conv3)\n",
        "    conv3 = Activation('relu')(conv3)\n",
        "    pool3 = MaxPooling2D(pool_size=(2, 2))(conv3)\n",
        "    \n",
        "    conv4 = Conv2D(512, 3,  padding = 'same')(pool3)\n",
        "    conv4 = Lambda(mvn)(conv4)\n",
        "    conv4 = Activation('relu')(conv4)\n",
        "    conv4 = Conv2D(512, 3,  padding = 'same')(conv4)\n",
        "    conv4 = Lambda(mvn)(conv4)\n",
        "    conv4 = Activation('relu')(conv4)\n",
        "    drop4 = Dropout(0.5)(conv4)\n",
        "    pool4 = MaxPooling2D(pool_size=(2, 2))(drop4)\n",
        "\n",
        "    conv5 = Conv2D(1024, 3,  padding = 'same')(pool4)\n",
        "    conv5 = Lambda(mvn)(conv5)\n",
        "    conv5 = Activation('relu')(conv5)\n",
        "    conv5 = Conv2D(1024, 3,  padding = 'same')(conv5)\n",
        "    conv5 = Lambda(mvn)(conv5)\n",
        "    conv5 = Activation('relu')(conv5)\n",
        "    drop5 = Dropout(0.5)(conv5)\n",
        "\n",
        "    merge6 = attention_up_and_concate(conv5,conv4)\n",
        "    conv6 = Conv2D(512, 3,  padding = 'same')(merge6)\n",
        "    conv6 = Lambda(mvn)(conv6)\n",
        "    conv6 = Activation('relu')(conv6)\n",
        "    conv6 = Conv2D(512, 3,  padding = 'same')(conv6)\n",
        "    conv6 = Lambda(mvn)(conv6)\n",
        "    conv6 = Activation('relu')(conv6)\n",
        "\n",
        "    merge7 = attention_up_and_concate(conv6,conv3)\n",
        "    conv7 = Conv2D(256, 3,  padding = 'same')(merge7)\n",
        "    conv7 = Lambda(mvn)(conv7)\n",
        "    conv7 = Activation('relu')(conv7)\n",
        "    conv7 = Conv2D(256, 3,  padding = 'same')(conv7)\n",
        "    conv7 = Lambda(mvn)(conv7)\n",
        "    conv7 = Activation('relu')(conv7)\n",
        "\n",
        "    merge8 = attention_up_and_concate(conv7,conv2)\n",
        "    conv8 = Conv2D(128, 3,  padding = 'same')(merge8)\n",
        "    conv8 = Lambda(mvn)(conv8)\n",
        "    conv8 = Activation('relu')(conv8)\n",
        "    conv8 = Conv2D(128, 3,  padding = 'same')(conv8)\n",
        "    conv8 = Lambda(mvn)(conv8)\n",
        "    conv8 = Activation('relu')(conv8)\n",
        "\n",
        "    merge9 = attention_up_and_concate(conv8,conv1)\n",
        "    conv9 = Conv2D(64, 3,  padding = 'same')(merge9)\n",
        "    conv9 = Lambda(mvn)(conv9)\n",
        "    conv9 = Activation('relu')(conv9)\n",
        "    conv9 = Conv2D(64, 3,  padding = 'same')(conv9)\n",
        "    conv9 = Lambda(mvn)(conv9)\n",
        "    conv9 = Activation('relu')(conv9)\n",
        "    conv9 = Conv2D(2, 3,  padding = 'same')(conv9)\n",
        "    conv9 = Activation('relu')(conv9)\n",
        "    conv10 = Conv2D(1, 1, activation = \"sigmoid\")(conv9)\n",
        "\n",
        "    model = Model(inputs = data, outputs = conv10)\n",
        "\n",
        "    \n",
        "    \n",
        "    #model.summary()\n",
        "\n",
        "    if(pretrained_weights):\n",
        "    \tmodel.load_weights(pretrained_weights)\n",
        "\n",
        "    return model"
      ],
      "execution_count": 28,
      "outputs": []
    },
    {
      "cell_type": "markdown",
      "metadata": {
        "id": "d707bUi8U-y6"
      },
      "source": [
        "# Fit model"
      ]
    },
    {
      "cell_type": "markdown",
      "metadata": {
        "id": "a4OOhfQjWHlO"
      },
      "source": [
        "Epoch 60/80\n",
        "500/500 [==============================] - 288s 576ms/step - loss: 0.3507 - acc: 0.9603 - dice_coef: 0.9069 - jaccard_coef: 0.8409 - val_loss: 0.4036 - val_acc: 0.9290 - val_dice_coef: 0.8515 - val_jaccard_coef: 0.7673"
      ]
    },
    {
      "cell_type": "code",
      "metadata": {
        "id": "s5EfZgNlGmQN",
        "outputId": "ef6d6aa1-b444-4505-cc69-30cb7b23f7f5",
        "colab": {
          "base_uri": "https://localhost:8080/",
          "height": 1000
        }
      },
      "source": [
        "input_shape = (h, w, 3)\n",
        "model = unet(input_shape,2)\n",
        "model.compile(optimizer = SGD(lr = 0.01, momentum = 0.9), loss = focal_tversky, metrics = ['accuracy',dice_coef])\n",
        "checkpoint = ModelCheckpoint('weights_save/unet.{epoch:02d}_{val_dice_coef:.2f}.h5', monitor='val_dice_coef',save_best_only=True, verbose=1, save_weights_only=True, mode='max')\n",
        "lr_decay = lr_scheduler()\n",
        "callback_list = [checkpoint]\n",
        "history = model.fit(train_generator, steps_per_epoch = imgs.shape[0]//4, epochs = 80, validation_data = (img_dev, mask_dev),callbacks=callback_list,verbose = 1)"
      ],
      "execution_count": 27,
      "outputs": [
        {
          "output_type": "stream",
          "text": [
            "Epoch 1/80\n",
            "  2/125 [..............................] - ETA: 20s - loss: 0.6994 - accuracy: 0.6384 - dice_coef: 0.3347WARNING:tensorflow:Callbacks method `on_train_batch_end` is slow compared to the batch time (batch time: 0.0736s vs `on_train_batch_end` time: 0.1253s). Check your callbacks.\n",
            "125/125 [==============================] - ETA: 0s - loss: 0.2964 - accuracy: 0.8673 - dice_coef: 0.7179\n",
            "Epoch 00001: val_dice_coef improved from -inf to 0.75033, saving model to weights_save/eff_unet.01_0.75.h5\n",
            "125/125 [==============================] - 26s 211ms/step - loss: 0.2964 - accuracy: 0.8673 - dice_coef: 0.7179 - val_loss: 0.2247 - val_accuracy: 0.9123 - val_dice_coef: 0.7503\n",
            "Epoch 2/80\n",
            "125/125 [==============================] - ETA: 0s - loss: 0.2186 - accuracy: 0.9146 - dice_coef: 0.8058\n",
            "Epoch 00002: val_dice_coef improved from 0.75033 to 0.83581, saving model to weights_save/eff_unet.02_0.84.h5\n",
            "125/125 [==============================] - 26s 207ms/step - loss: 0.2186 - accuracy: 0.9146 - dice_coef: 0.8058 - val_loss: 0.2109 - val_accuracy: 0.9405 - val_dice_coef: 0.8358\n",
            "Epoch 3/80\n",
            "125/125 [==============================] - ETA: 0s - loss: 0.2005 - accuracy: 0.9223 - dice_coef: 0.8288\n",
            "Epoch 00003: val_dice_coef improved from 0.83581 to 0.83596, saving model to weights_save/eff_unet.03_0.84.h5\n",
            "125/125 [==============================] - 26s 207ms/step - loss: 0.2005 - accuracy: 0.9223 - dice_coef: 0.8288 - val_loss: 0.1794 - val_accuracy: 0.9342 - val_dice_coef: 0.8360\n",
            "Epoch 4/80\n",
            "125/125 [==============================] - ETA: 0s - loss: 0.1837 - accuracy: 0.9319 - dice_coef: 0.8514\n",
            "Epoch 00004: val_dice_coef improved from 0.83596 to 0.87471, saving model to weights_save/eff_unet.04_0.87.h5\n",
            "125/125 [==============================] - 26s 207ms/step - loss: 0.1837 - accuracy: 0.9319 - dice_coef: 0.8514 - val_loss: 0.1745 - val_accuracy: 0.9504 - val_dice_coef: 0.8747\n",
            "Epoch 5/80\n",
            "125/125 [==============================] - ETA: 0s - loss: 0.1759 - accuracy: 0.9350 - dice_coef: 0.8613\n",
            "Epoch 00005: val_dice_coef improved from 0.87471 to 0.87564, saving model to weights_save/eff_unet.05_0.88.h5\n",
            "125/125 [==============================] - 26s 207ms/step - loss: 0.1759 - accuracy: 0.9350 - dice_coef: 0.8613 - val_loss: 0.1649 - val_accuracy: 0.9466 - val_dice_coef: 0.8756\n",
            "Epoch 6/80\n",
            "125/125 [==============================] - ETA: 0s - loss: 0.1698 - accuracy: 0.9385 - dice_coef: 0.8716\n",
            "Epoch 00006: val_dice_coef improved from 0.87564 to 0.87999, saving model to weights_save/eff_unet.06_0.88.h5\n",
            "125/125 [==============================] - 26s 207ms/step - loss: 0.1698 - accuracy: 0.9385 - dice_coef: 0.8716 - val_loss: 0.1607 - val_accuracy: 0.9507 - val_dice_coef: 0.8800\n",
            "Epoch 7/80\n",
            "125/125 [==============================] - ETA: 0s - loss: 0.1652 - accuracy: 0.9395 - dice_coef: 0.8724\n",
            "Epoch 00007: val_dice_coef improved from 0.87999 to 0.88303, saving model to weights_save/eff_unet.07_0.88.h5\n",
            "125/125 [==============================] - 26s 207ms/step - loss: 0.1652 - accuracy: 0.9395 - dice_coef: 0.8724 - val_loss: 0.1572 - val_accuracy: 0.9509 - val_dice_coef: 0.8830\n",
            "Epoch 8/80\n",
            "125/125 [==============================] - ETA: 0s - loss: 0.1643 - accuracy: 0.9410 - dice_coef: 0.8748\n",
            "Epoch 00008: val_dice_coef did not improve from 0.88303\n",
            "125/125 [==============================] - 26s 205ms/step - loss: 0.1643 - accuracy: 0.9410 - dice_coef: 0.8748 - val_loss: 0.1542 - val_accuracy: 0.9486 - val_dice_coef: 0.8819\n",
            "Epoch 9/80\n",
            "125/125 [==============================] - ETA: 0s - loss: 0.1656 - accuracy: 0.9391 - dice_coef: 0.8748\n",
            "Epoch 00009: val_dice_coef did not improve from 0.88303\n",
            "125/125 [==============================] - 26s 205ms/step - loss: 0.1656 - accuracy: 0.9391 - dice_coef: 0.8748 - val_loss: 0.1498 - val_accuracy: 0.9470 - val_dice_coef: 0.8699\n",
            "Epoch 10/80\n",
            "125/125 [==============================] - ETA: 0s - loss: 0.1567 - accuracy: 0.9432 - dice_coef: 0.8845\n",
            "Epoch 00010: val_dice_coef improved from 0.88303 to 0.88442, saving model to weights_save/eff_unet.10_0.88.h5\n",
            "125/125 [==============================] - 26s 207ms/step - loss: 0.1567 - accuracy: 0.9432 - dice_coef: 0.8845 - val_loss: 0.1468 - val_accuracy: 0.9521 - val_dice_coef: 0.8844\n",
            "Epoch 11/80\n",
            "125/125 [==============================] - ETA: 0s - loss: 0.1606 - accuracy: 0.9412 - dice_coef: 0.8809\n",
            "Epoch 00011: val_dice_coef did not improve from 0.88442\n",
            "125/125 [==============================] - 26s 205ms/step - loss: 0.1606 - accuracy: 0.9412 - dice_coef: 0.8809 - val_loss: 0.1490 - val_accuracy: 0.9491 - val_dice_coef: 0.8790\n",
            "Epoch 12/80\n",
            "125/125 [==============================] - ETA: 0s - loss: 0.1527 - accuracy: 0.9447 - dice_coef: 0.8867\n",
            "Epoch 00012: val_dice_coef improved from 0.88442 to 0.88566, saving model to weights_save/eff_unet.12_0.89.h5\n",
            "125/125 [==============================] - 26s 207ms/step - loss: 0.1527 - accuracy: 0.9447 - dice_coef: 0.8867 - val_loss: 0.1503 - val_accuracy: 0.9508 - val_dice_coef: 0.8857\n",
            "Epoch 13/80\n",
            "125/125 [==============================] - ETA: 0s - loss: 0.1479 - accuracy: 0.9459 - dice_coef: 0.8914\n",
            "Epoch 00013: val_dice_coef improved from 0.88566 to 0.89844, saving model to weights_save/eff_unet.13_0.90.h5\n",
            "125/125 [==============================] - 26s 207ms/step - loss: 0.1479 - accuracy: 0.9459 - dice_coef: 0.8914 - val_loss: 0.1497 - val_accuracy: 0.9548 - val_dice_coef: 0.8984\n",
            "Epoch 14/80\n",
            "125/125 [==============================] - ETA: 0s - loss: 0.1467 - accuracy: 0.9473 - dice_coef: 0.8930\n",
            "Epoch 00014: val_dice_coef did not improve from 0.89844\n",
            "125/125 [==============================] - 26s 205ms/step - loss: 0.1467 - accuracy: 0.9473 - dice_coef: 0.8930 - val_loss: 0.1461 - val_accuracy: 0.9532 - val_dice_coef: 0.8959\n",
            "Epoch 15/80\n",
            "125/125 [==============================] - ETA: 0s - loss: 0.1417 - accuracy: 0.9510 - dice_coef: 0.8992\n",
            "Epoch 00015: val_dice_coef did not improve from 0.89844\n",
            "125/125 [==============================] - 26s 205ms/step - loss: 0.1417 - accuracy: 0.9510 - dice_coef: 0.8992 - val_loss: 0.1487 - val_accuracy: 0.9511 - val_dice_coef: 0.8928\n",
            "Epoch 16/80\n",
            "125/125 [==============================] - ETA: 0s - loss: 0.1482 - accuracy: 0.9465 - dice_coef: 0.8916\n",
            "Epoch 00016: val_dice_coef did not improve from 0.89844\n",
            "125/125 [==============================] - 26s 205ms/step - loss: 0.1482 - accuracy: 0.9465 - dice_coef: 0.8916 - val_loss: 0.1459 - val_accuracy: 0.9497 - val_dice_coef: 0.8854\n",
            "Epoch 17/80\n",
            "125/125 [==============================] - ETA: 0s - loss: 0.1540 - accuracy: 0.9442 - dice_coef: 0.8890\n",
            "Epoch 00017: val_dice_coef did not improve from 0.89844\n",
            "125/125 [==============================] - 26s 205ms/step - loss: 0.1540 - accuracy: 0.9442 - dice_coef: 0.8890 - val_loss: 0.1519 - val_accuracy: 0.9575 - val_dice_coef: 0.8937\n",
            "Epoch 18/80\n",
            "125/125 [==============================] - ETA: 0s - loss: 0.1498 - accuracy: 0.9463 - dice_coef: 0.8925\n",
            "Epoch 00018: val_dice_coef did not improve from 0.89844\n",
            "125/125 [==============================] - 26s 205ms/step - loss: 0.1498 - accuracy: 0.9463 - dice_coef: 0.8925 - val_loss: 0.1410 - val_accuracy: 0.9493 - val_dice_coef: 0.8902\n",
            "Epoch 19/80\n",
            "125/125 [==============================] - ETA: 0s - loss: 0.1412 - accuracy: 0.9489 - dice_coef: 0.8976\n",
            "Epoch 00019: val_dice_coef did not improve from 0.89844\n",
            "125/125 [==============================] - 26s 205ms/step - loss: 0.1412 - accuracy: 0.9489 - dice_coef: 0.8976 - val_loss: 0.1449 - val_accuracy: 0.9508 - val_dice_coef: 0.8871\n",
            "Epoch 20/80\n",
            "125/125 [==============================] - ETA: 0s - loss: 0.1392 - accuracy: 0.9503 - dice_coef: 0.9001\n",
            "Epoch 00020: val_dice_coef did not improve from 0.89844\n",
            "125/125 [==============================] - 26s 205ms/step - loss: 0.1392 - accuracy: 0.9503 - dice_coef: 0.9001 - val_loss: 0.1594 - val_accuracy: 0.9337 - val_dice_coef: 0.8673\n",
            "Epoch 21/80\n",
            " 27/125 [=====>........................] - ETA: 19s - loss: 0.1567 - accuracy: 0.9451 - dice_coef: 0.8936"
          ],
          "name": "stdout"
        },
        {
          "output_type": "error",
          "ename": "KeyboardInterrupt",
          "evalue": "ignored",
          "traceback": [
            "\u001b[0;31m---------------------------------------------------------------------------\u001b[0m",
            "\u001b[0;31mKeyboardInterrupt\u001b[0m                         Traceback (most recent call last)",
            "\u001b[0;32m<ipython-input-27-1d0c11d3263f>\u001b[0m in \u001b[0;36m<module>\u001b[0;34m()\u001b[0m\n\u001b[1;32m      5\u001b[0m \u001b[0mlr_decay\u001b[0m \u001b[0;34m=\u001b[0m \u001b[0mlr_scheduler\u001b[0m\u001b[0;34m(\u001b[0m\u001b[0;34m)\u001b[0m\u001b[0;34m\u001b[0m\u001b[0;34m\u001b[0m\u001b[0m\n\u001b[1;32m      6\u001b[0m \u001b[0mcallback_list\u001b[0m \u001b[0;34m=\u001b[0m \u001b[0;34m[\u001b[0m\u001b[0mcheckpoint\u001b[0m\u001b[0;34m]\u001b[0m\u001b[0;34m\u001b[0m\u001b[0;34m\u001b[0m\u001b[0m\n\u001b[0;32m----> 7\u001b[0;31m \u001b[0mhistory\u001b[0m \u001b[0;34m=\u001b[0m \u001b[0mmodel\u001b[0m\u001b[0;34m.\u001b[0m\u001b[0mfit\u001b[0m\u001b[0;34m(\u001b[0m\u001b[0mtrain_generator\u001b[0m\u001b[0;34m,\u001b[0m \u001b[0msteps_per_epoch\u001b[0m \u001b[0;34m=\u001b[0m \u001b[0mimgs\u001b[0m\u001b[0;34m.\u001b[0m\u001b[0mshape\u001b[0m\u001b[0;34m[\u001b[0m\u001b[0;36m0\u001b[0m\u001b[0;34m]\u001b[0m\u001b[0;34m//\u001b[0m\u001b[0;36m4\u001b[0m\u001b[0;34m,\u001b[0m \u001b[0mepochs\u001b[0m \u001b[0;34m=\u001b[0m \u001b[0;36m80\u001b[0m\u001b[0;34m,\u001b[0m \u001b[0mvalidation_data\u001b[0m \u001b[0;34m=\u001b[0m \u001b[0;34m(\u001b[0m\u001b[0mimg_dev\u001b[0m\u001b[0;34m,\u001b[0m \u001b[0mmask_dev\u001b[0m\u001b[0;34m)\u001b[0m\u001b[0;34m,\u001b[0m\u001b[0mcallbacks\u001b[0m\u001b[0;34m=\u001b[0m\u001b[0mcallback_list\u001b[0m\u001b[0;34m,\u001b[0m\u001b[0mverbose\u001b[0m \u001b[0;34m=\u001b[0m \u001b[0;36m1\u001b[0m\u001b[0;34m)\u001b[0m\u001b[0;34m\u001b[0m\u001b[0;34m\u001b[0m\u001b[0m\n\u001b[0m",
            "\u001b[0;32m/usr/local/lib/python3.6/dist-packages/tensorflow/python/keras/engine/training.py\u001b[0m in \u001b[0;36m_method_wrapper\u001b[0;34m(self, *args, **kwargs)\u001b[0m\n\u001b[1;32m    106\u001b[0m   \u001b[0;32mdef\u001b[0m \u001b[0m_method_wrapper\u001b[0m\u001b[0;34m(\u001b[0m\u001b[0mself\u001b[0m\u001b[0;34m,\u001b[0m \u001b[0;34m*\u001b[0m\u001b[0margs\u001b[0m\u001b[0;34m,\u001b[0m \u001b[0;34m**\u001b[0m\u001b[0mkwargs\u001b[0m\u001b[0;34m)\u001b[0m\u001b[0;34m:\u001b[0m\u001b[0;34m\u001b[0m\u001b[0;34m\u001b[0m\u001b[0m\n\u001b[1;32m    107\u001b[0m     \u001b[0;32mif\u001b[0m \u001b[0;32mnot\u001b[0m \u001b[0mself\u001b[0m\u001b[0;34m.\u001b[0m\u001b[0m_in_multi_worker_mode\u001b[0m\u001b[0;34m(\u001b[0m\u001b[0;34m)\u001b[0m\u001b[0;34m:\u001b[0m  \u001b[0;31m# pylint: disable=protected-access\u001b[0m\u001b[0;34m\u001b[0m\u001b[0;34m\u001b[0m\u001b[0m\n\u001b[0;32m--> 108\u001b[0;31m       \u001b[0;32mreturn\u001b[0m \u001b[0mmethod\u001b[0m\u001b[0;34m(\u001b[0m\u001b[0mself\u001b[0m\u001b[0;34m,\u001b[0m \u001b[0;34m*\u001b[0m\u001b[0margs\u001b[0m\u001b[0;34m,\u001b[0m \u001b[0;34m**\u001b[0m\u001b[0mkwargs\u001b[0m\u001b[0;34m)\u001b[0m\u001b[0;34m\u001b[0m\u001b[0;34m\u001b[0m\u001b[0m\n\u001b[0m\u001b[1;32m    109\u001b[0m \u001b[0;34m\u001b[0m\u001b[0m\n\u001b[1;32m    110\u001b[0m     \u001b[0;31m# Running inside `run_distribute_coordinator` already.\u001b[0m\u001b[0;34m\u001b[0m\u001b[0;34m\u001b[0m\u001b[0;34m\u001b[0m\u001b[0m\n",
            "\u001b[0;32m/usr/local/lib/python3.6/dist-packages/tensorflow/python/keras/engine/training.py\u001b[0m in \u001b[0;36mfit\u001b[0;34m(self, x, y, batch_size, epochs, verbose, callbacks, validation_split, validation_data, shuffle, class_weight, sample_weight, initial_epoch, steps_per_epoch, validation_steps, validation_batch_size, validation_freq, max_queue_size, workers, use_multiprocessing)\u001b[0m\n\u001b[1;32m   1101\u001b[0m               \u001b[0mlogs\u001b[0m \u001b[0;34m=\u001b[0m \u001b[0mtmp_logs\u001b[0m  \u001b[0;31m# No error, now safe to assign to logs.\u001b[0m\u001b[0;34m\u001b[0m\u001b[0;34m\u001b[0m\u001b[0m\n\u001b[1;32m   1102\u001b[0m               \u001b[0mend_step\u001b[0m \u001b[0;34m=\u001b[0m \u001b[0mstep\u001b[0m \u001b[0;34m+\u001b[0m \u001b[0mdata_handler\u001b[0m\u001b[0;34m.\u001b[0m\u001b[0mstep_increment\u001b[0m\u001b[0;34m\u001b[0m\u001b[0;34m\u001b[0m\u001b[0m\n\u001b[0;32m-> 1103\u001b[0;31m               \u001b[0mcallbacks\u001b[0m\u001b[0;34m.\u001b[0m\u001b[0mon_train_batch_end\u001b[0m\u001b[0;34m(\u001b[0m\u001b[0mend_step\u001b[0m\u001b[0;34m,\u001b[0m \u001b[0mlogs\u001b[0m\u001b[0;34m)\u001b[0m\u001b[0;34m\u001b[0m\u001b[0;34m\u001b[0m\u001b[0m\n\u001b[0m\u001b[1;32m   1104\u001b[0m         \u001b[0mepoch_logs\u001b[0m \u001b[0;34m=\u001b[0m \u001b[0mcopy\u001b[0m\u001b[0;34m.\u001b[0m\u001b[0mcopy\u001b[0m\u001b[0;34m(\u001b[0m\u001b[0mlogs\u001b[0m\u001b[0;34m)\u001b[0m\u001b[0;34m\u001b[0m\u001b[0;34m\u001b[0m\u001b[0m\n\u001b[1;32m   1105\u001b[0m \u001b[0;34m\u001b[0m\u001b[0m\n",
            "\u001b[0;32m/usr/local/lib/python3.6/dist-packages/tensorflow/python/keras/callbacks.py\u001b[0m in \u001b[0;36mon_train_batch_end\u001b[0;34m(self, batch, logs)\u001b[0m\n\u001b[1;32m    438\u001b[0m     \"\"\"\n\u001b[1;32m    439\u001b[0m     \u001b[0;32mif\u001b[0m \u001b[0mself\u001b[0m\u001b[0;34m.\u001b[0m\u001b[0m_should_call_train_batch_hooks\u001b[0m\u001b[0;34m:\u001b[0m\u001b[0;34m\u001b[0m\u001b[0;34m\u001b[0m\u001b[0m\n\u001b[0;32m--> 440\u001b[0;31m       \u001b[0mself\u001b[0m\u001b[0;34m.\u001b[0m\u001b[0m_call_batch_hook\u001b[0m\u001b[0;34m(\u001b[0m\u001b[0mModeKeys\u001b[0m\u001b[0;34m.\u001b[0m\u001b[0mTRAIN\u001b[0m\u001b[0;34m,\u001b[0m \u001b[0;34m'end'\u001b[0m\u001b[0;34m,\u001b[0m \u001b[0mbatch\u001b[0m\u001b[0;34m,\u001b[0m \u001b[0mlogs\u001b[0m\u001b[0;34m=\u001b[0m\u001b[0mlogs\u001b[0m\u001b[0;34m)\u001b[0m\u001b[0;34m\u001b[0m\u001b[0;34m\u001b[0m\u001b[0m\n\u001b[0m\u001b[1;32m    441\u001b[0m \u001b[0;34m\u001b[0m\u001b[0m\n\u001b[1;32m    442\u001b[0m   \u001b[0;32mdef\u001b[0m \u001b[0mon_test_batch_begin\u001b[0m\u001b[0;34m(\u001b[0m\u001b[0mself\u001b[0m\u001b[0;34m,\u001b[0m \u001b[0mbatch\u001b[0m\u001b[0;34m,\u001b[0m \u001b[0mlogs\u001b[0m\u001b[0;34m=\u001b[0m\u001b[0;32mNone\u001b[0m\u001b[0;34m)\u001b[0m\u001b[0;34m:\u001b[0m\u001b[0;34m\u001b[0m\u001b[0;34m\u001b[0m\u001b[0m\n",
            "\u001b[0;32m/usr/local/lib/python3.6/dist-packages/tensorflow/python/keras/callbacks.py\u001b[0m in \u001b[0;36m_call_batch_hook\u001b[0;34m(self, mode, hook, batch, logs)\u001b[0m\n\u001b[1;32m    287\u001b[0m       \u001b[0mself\u001b[0m\u001b[0;34m.\u001b[0m\u001b[0m_call_batch_begin_hook\u001b[0m\u001b[0;34m(\u001b[0m\u001b[0mmode\u001b[0m\u001b[0;34m,\u001b[0m \u001b[0mbatch\u001b[0m\u001b[0;34m,\u001b[0m \u001b[0mlogs\u001b[0m\u001b[0;34m)\u001b[0m\u001b[0;34m\u001b[0m\u001b[0;34m\u001b[0m\u001b[0m\n\u001b[1;32m    288\u001b[0m     \u001b[0;32melif\u001b[0m \u001b[0mhook\u001b[0m \u001b[0;34m==\u001b[0m \u001b[0;34m'end'\u001b[0m\u001b[0;34m:\u001b[0m\u001b[0;34m\u001b[0m\u001b[0;34m\u001b[0m\u001b[0m\n\u001b[0;32m--> 289\u001b[0;31m       \u001b[0mself\u001b[0m\u001b[0;34m.\u001b[0m\u001b[0m_call_batch_end_hook\u001b[0m\u001b[0;34m(\u001b[0m\u001b[0mmode\u001b[0m\u001b[0;34m,\u001b[0m \u001b[0mbatch\u001b[0m\u001b[0;34m,\u001b[0m \u001b[0mlogs\u001b[0m\u001b[0;34m)\u001b[0m\u001b[0;34m\u001b[0m\u001b[0;34m\u001b[0m\u001b[0m\n\u001b[0m\u001b[1;32m    290\u001b[0m     \u001b[0;32melse\u001b[0m\u001b[0;34m:\u001b[0m\u001b[0;34m\u001b[0m\u001b[0;34m\u001b[0m\u001b[0m\n\u001b[1;32m    291\u001b[0m       \u001b[0;32mraise\u001b[0m \u001b[0mValueError\u001b[0m\u001b[0;34m(\u001b[0m\u001b[0;34m'Unrecognized hook: {}'\u001b[0m\u001b[0;34m.\u001b[0m\u001b[0mformat\u001b[0m\u001b[0;34m(\u001b[0m\u001b[0mhook\u001b[0m\u001b[0;34m)\u001b[0m\u001b[0;34m)\u001b[0m\u001b[0;34m\u001b[0m\u001b[0;34m\u001b[0m\u001b[0m\n",
            "\u001b[0;32m/usr/local/lib/python3.6/dist-packages/tensorflow/python/keras/callbacks.py\u001b[0m in \u001b[0;36m_call_batch_end_hook\u001b[0;34m(self, mode, batch, logs)\u001b[0m\n\u001b[1;32m    307\u001b[0m       \u001b[0mbatch_time\u001b[0m \u001b[0;34m=\u001b[0m \u001b[0mtime\u001b[0m\u001b[0;34m.\u001b[0m\u001b[0mtime\u001b[0m\u001b[0;34m(\u001b[0m\u001b[0;34m)\u001b[0m \u001b[0;34m-\u001b[0m \u001b[0mself\u001b[0m\u001b[0;34m.\u001b[0m\u001b[0m_batch_start_time\u001b[0m\u001b[0;34m\u001b[0m\u001b[0;34m\u001b[0m\u001b[0m\n\u001b[1;32m    308\u001b[0m \u001b[0;34m\u001b[0m\u001b[0m\n\u001b[0;32m--> 309\u001b[0;31m     \u001b[0mself\u001b[0m\u001b[0;34m.\u001b[0m\u001b[0m_call_batch_hook_helper\u001b[0m\u001b[0;34m(\u001b[0m\u001b[0mhook_name\u001b[0m\u001b[0;34m,\u001b[0m \u001b[0mbatch\u001b[0m\u001b[0;34m,\u001b[0m \u001b[0mlogs\u001b[0m\u001b[0;34m)\u001b[0m\u001b[0;34m\u001b[0m\u001b[0;34m\u001b[0m\u001b[0m\n\u001b[0m\u001b[1;32m    310\u001b[0m \u001b[0;34m\u001b[0m\u001b[0m\n\u001b[1;32m    311\u001b[0m     \u001b[0;32mif\u001b[0m \u001b[0mself\u001b[0m\u001b[0;34m.\u001b[0m\u001b[0m_check_timing\u001b[0m\u001b[0;34m:\u001b[0m\u001b[0;34m\u001b[0m\u001b[0;34m\u001b[0m\u001b[0m\n",
            "\u001b[0;32m/usr/local/lib/python3.6/dist-packages/tensorflow/python/keras/callbacks.py\u001b[0m in \u001b[0;36m_call_batch_hook_helper\u001b[0;34m(self, hook_name, batch, logs)\u001b[0m\n\u001b[1;32m    340\u001b[0m       \u001b[0mhook\u001b[0m \u001b[0;34m=\u001b[0m \u001b[0mgetattr\u001b[0m\u001b[0;34m(\u001b[0m\u001b[0mcallback\u001b[0m\u001b[0;34m,\u001b[0m \u001b[0mhook_name\u001b[0m\u001b[0;34m)\u001b[0m\u001b[0;34m\u001b[0m\u001b[0;34m\u001b[0m\u001b[0m\n\u001b[1;32m    341\u001b[0m       \u001b[0;32mif\u001b[0m \u001b[0mgetattr\u001b[0m\u001b[0;34m(\u001b[0m\u001b[0mcallback\u001b[0m\u001b[0;34m,\u001b[0m \u001b[0;34m'_supports_tf_logs'\u001b[0m\u001b[0;34m,\u001b[0m \u001b[0;32mFalse\u001b[0m\u001b[0;34m)\u001b[0m\u001b[0;34m:\u001b[0m\u001b[0;34m\u001b[0m\u001b[0;34m\u001b[0m\u001b[0m\n\u001b[0;32m--> 342\u001b[0;31m         \u001b[0mhook\u001b[0m\u001b[0;34m(\u001b[0m\u001b[0mbatch\u001b[0m\u001b[0;34m,\u001b[0m \u001b[0mlogs\u001b[0m\u001b[0;34m)\u001b[0m\u001b[0;34m\u001b[0m\u001b[0;34m\u001b[0m\u001b[0m\n\u001b[0m\u001b[1;32m    343\u001b[0m       \u001b[0;32melse\u001b[0m\u001b[0;34m:\u001b[0m\u001b[0;34m\u001b[0m\u001b[0;34m\u001b[0m\u001b[0m\n\u001b[1;32m    344\u001b[0m         \u001b[0;32mif\u001b[0m \u001b[0mnumpy_logs\u001b[0m \u001b[0;32mis\u001b[0m \u001b[0;32mNone\u001b[0m\u001b[0;34m:\u001b[0m  \u001b[0;31m# Only convert once.\u001b[0m\u001b[0;34m\u001b[0m\u001b[0;34m\u001b[0m\u001b[0m\n",
            "\u001b[0;32m/usr/local/lib/python3.6/dist-packages/tensorflow/python/keras/callbacks.py\u001b[0m in \u001b[0;36mon_train_batch_end\u001b[0;34m(self, batch, logs)\u001b[0m\n\u001b[1;32m    959\u001b[0m \u001b[0;34m\u001b[0m\u001b[0m\n\u001b[1;32m    960\u001b[0m   \u001b[0;32mdef\u001b[0m \u001b[0mon_train_batch_end\u001b[0m\u001b[0;34m(\u001b[0m\u001b[0mself\u001b[0m\u001b[0;34m,\u001b[0m \u001b[0mbatch\u001b[0m\u001b[0;34m,\u001b[0m \u001b[0mlogs\u001b[0m\u001b[0;34m=\u001b[0m\u001b[0;32mNone\u001b[0m\u001b[0;34m)\u001b[0m\u001b[0;34m:\u001b[0m\u001b[0;34m\u001b[0m\u001b[0;34m\u001b[0m\u001b[0m\n\u001b[0;32m--> 961\u001b[0;31m     \u001b[0mself\u001b[0m\u001b[0;34m.\u001b[0m\u001b[0m_batch_update_progbar\u001b[0m\u001b[0;34m(\u001b[0m\u001b[0mbatch\u001b[0m\u001b[0;34m,\u001b[0m \u001b[0mlogs\u001b[0m\u001b[0;34m)\u001b[0m\u001b[0;34m\u001b[0m\u001b[0;34m\u001b[0m\u001b[0m\n\u001b[0m\u001b[1;32m    962\u001b[0m \u001b[0;34m\u001b[0m\u001b[0m\n\u001b[1;32m    963\u001b[0m   \u001b[0;32mdef\u001b[0m \u001b[0mon_test_batch_end\u001b[0m\u001b[0;34m(\u001b[0m\u001b[0mself\u001b[0m\u001b[0;34m,\u001b[0m \u001b[0mbatch\u001b[0m\u001b[0;34m,\u001b[0m \u001b[0mlogs\u001b[0m\u001b[0;34m=\u001b[0m\u001b[0;32mNone\u001b[0m\u001b[0;34m)\u001b[0m\u001b[0;34m:\u001b[0m\u001b[0;34m\u001b[0m\u001b[0;34m\u001b[0m\u001b[0m\n",
            "\u001b[0;32m/usr/local/lib/python3.6/dist-packages/tensorflow/python/keras/callbacks.py\u001b[0m in \u001b[0;36m_batch_update_progbar\u001b[0;34m(self, batch, logs)\u001b[0m\n\u001b[1;32m   1014\u001b[0m     \u001b[0;32mif\u001b[0m \u001b[0mself\u001b[0m\u001b[0;34m.\u001b[0m\u001b[0mverbose\u001b[0m \u001b[0;34m==\u001b[0m \u001b[0;36m1\u001b[0m\u001b[0;34m:\u001b[0m\u001b[0;34m\u001b[0m\u001b[0;34m\u001b[0m\u001b[0m\n\u001b[1;32m   1015\u001b[0m       \u001b[0;31m# Only block async when verbose = 1.\u001b[0m\u001b[0;34m\u001b[0m\u001b[0;34m\u001b[0m\u001b[0;34m\u001b[0m\u001b[0m\n\u001b[0;32m-> 1016\u001b[0;31m       \u001b[0mlogs\u001b[0m \u001b[0;34m=\u001b[0m \u001b[0mtf_utils\u001b[0m\u001b[0;34m.\u001b[0m\u001b[0mto_numpy_or_python_type\u001b[0m\u001b[0;34m(\u001b[0m\u001b[0mlogs\u001b[0m\u001b[0;34m)\u001b[0m\u001b[0;34m\u001b[0m\u001b[0;34m\u001b[0m\u001b[0m\n\u001b[0m\u001b[1;32m   1017\u001b[0m       \u001b[0mself\u001b[0m\u001b[0;34m.\u001b[0m\u001b[0mprogbar\u001b[0m\u001b[0;34m.\u001b[0m\u001b[0mupdate\u001b[0m\u001b[0;34m(\u001b[0m\u001b[0mself\u001b[0m\u001b[0;34m.\u001b[0m\u001b[0mseen\u001b[0m\u001b[0;34m,\u001b[0m \u001b[0mlist\u001b[0m\u001b[0;34m(\u001b[0m\u001b[0mlogs\u001b[0m\u001b[0;34m.\u001b[0m\u001b[0mitems\u001b[0m\u001b[0;34m(\u001b[0m\u001b[0;34m)\u001b[0m\u001b[0;34m)\u001b[0m\u001b[0;34m,\u001b[0m \u001b[0mfinalize\u001b[0m\u001b[0;34m=\u001b[0m\u001b[0;32mFalse\u001b[0m\u001b[0;34m)\u001b[0m\u001b[0;34m\u001b[0m\u001b[0;34m\u001b[0m\u001b[0m\n\u001b[1;32m   1018\u001b[0m \u001b[0;34m\u001b[0m\u001b[0m\n",
            "\u001b[0;32m/usr/local/lib/python3.6/dist-packages/tensorflow/python/keras/utils/tf_utils.py\u001b[0m in \u001b[0;36mto_numpy_or_python_type\u001b[0;34m(tensors)\u001b[0m\n\u001b[1;32m    535\u001b[0m     \u001b[0;32mreturn\u001b[0m \u001b[0mt\u001b[0m  \u001b[0;31m# Don't turn ragged or sparse tensors to NumPy.\u001b[0m\u001b[0;34m\u001b[0m\u001b[0;34m\u001b[0m\u001b[0m\n\u001b[1;32m    536\u001b[0m \u001b[0;34m\u001b[0m\u001b[0m\n\u001b[0;32m--> 537\u001b[0;31m   \u001b[0;32mreturn\u001b[0m \u001b[0mnest\u001b[0m\u001b[0;34m.\u001b[0m\u001b[0mmap_structure\u001b[0m\u001b[0;34m(\u001b[0m\u001b[0m_to_single_numpy_or_python_type\u001b[0m\u001b[0;34m,\u001b[0m \u001b[0mtensors\u001b[0m\u001b[0;34m)\u001b[0m\u001b[0;34m\u001b[0m\u001b[0;34m\u001b[0m\u001b[0m\n\u001b[0m\u001b[1;32m    538\u001b[0m \u001b[0;34m\u001b[0m\u001b[0m\n\u001b[1;32m    539\u001b[0m \u001b[0;34m\u001b[0m\u001b[0m\n",
            "\u001b[0;32m/usr/local/lib/python3.6/dist-packages/tensorflow/python/util/nest.py\u001b[0m in \u001b[0;36mmap_structure\u001b[0;34m(func, *structure, **kwargs)\u001b[0m\n\u001b[1;32m    633\u001b[0m \u001b[0;34m\u001b[0m\u001b[0m\n\u001b[1;32m    634\u001b[0m   return pack_sequence_as(\n\u001b[0;32m--> 635\u001b[0;31m       \u001b[0mstructure\u001b[0m\u001b[0;34m[\u001b[0m\u001b[0;36m0\u001b[0m\u001b[0;34m]\u001b[0m\u001b[0;34m,\u001b[0m \u001b[0;34m[\u001b[0m\u001b[0mfunc\u001b[0m\u001b[0;34m(\u001b[0m\u001b[0;34m*\u001b[0m\u001b[0mx\u001b[0m\u001b[0;34m)\u001b[0m \u001b[0;32mfor\u001b[0m \u001b[0mx\u001b[0m \u001b[0;32min\u001b[0m \u001b[0mentries\u001b[0m\u001b[0;34m]\u001b[0m\u001b[0;34m,\u001b[0m\u001b[0;34m\u001b[0m\u001b[0;34m\u001b[0m\u001b[0m\n\u001b[0m\u001b[1;32m    636\u001b[0m       expand_composites=expand_composites)\n\u001b[1;32m    637\u001b[0m \u001b[0;34m\u001b[0m\u001b[0m\n",
            "\u001b[0;32m/usr/local/lib/python3.6/dist-packages/tensorflow/python/util/nest.py\u001b[0m in \u001b[0;36m<listcomp>\u001b[0;34m(.0)\u001b[0m\n\u001b[1;32m    633\u001b[0m \u001b[0;34m\u001b[0m\u001b[0m\n\u001b[1;32m    634\u001b[0m   return pack_sequence_as(\n\u001b[0;32m--> 635\u001b[0;31m       \u001b[0mstructure\u001b[0m\u001b[0;34m[\u001b[0m\u001b[0;36m0\u001b[0m\u001b[0;34m]\u001b[0m\u001b[0;34m,\u001b[0m \u001b[0;34m[\u001b[0m\u001b[0mfunc\u001b[0m\u001b[0;34m(\u001b[0m\u001b[0;34m*\u001b[0m\u001b[0mx\u001b[0m\u001b[0;34m)\u001b[0m \u001b[0;32mfor\u001b[0m \u001b[0mx\u001b[0m \u001b[0;32min\u001b[0m \u001b[0mentries\u001b[0m\u001b[0;34m]\u001b[0m\u001b[0;34m,\u001b[0m\u001b[0;34m\u001b[0m\u001b[0;34m\u001b[0m\u001b[0m\n\u001b[0m\u001b[1;32m    636\u001b[0m       expand_composites=expand_composites)\n\u001b[1;32m    637\u001b[0m \u001b[0;34m\u001b[0m\u001b[0m\n",
            "\u001b[0;32m/usr/local/lib/python3.6/dist-packages/tensorflow/python/keras/utils/tf_utils.py\u001b[0m in \u001b[0;36m_to_single_numpy_or_python_type\u001b[0;34m(t)\u001b[0m\n\u001b[1;32m    531\u001b[0m   \u001b[0;32mdef\u001b[0m \u001b[0m_to_single_numpy_or_python_type\u001b[0m\u001b[0;34m(\u001b[0m\u001b[0mt\u001b[0m\u001b[0;34m)\u001b[0m\u001b[0;34m:\u001b[0m\u001b[0;34m\u001b[0m\u001b[0;34m\u001b[0m\u001b[0m\n\u001b[1;32m    532\u001b[0m     \u001b[0;32mif\u001b[0m \u001b[0misinstance\u001b[0m\u001b[0;34m(\u001b[0m\u001b[0mt\u001b[0m\u001b[0;34m,\u001b[0m \u001b[0mops\u001b[0m\u001b[0;34m.\u001b[0m\u001b[0mTensor\u001b[0m\u001b[0;34m)\u001b[0m\u001b[0;34m:\u001b[0m\u001b[0;34m\u001b[0m\u001b[0;34m\u001b[0m\u001b[0m\n\u001b[0;32m--> 533\u001b[0;31m       \u001b[0mx\u001b[0m \u001b[0;34m=\u001b[0m \u001b[0mt\u001b[0m\u001b[0;34m.\u001b[0m\u001b[0mnumpy\u001b[0m\u001b[0;34m(\u001b[0m\u001b[0;34m)\u001b[0m\u001b[0;34m\u001b[0m\u001b[0;34m\u001b[0m\u001b[0m\n\u001b[0m\u001b[1;32m    534\u001b[0m       \u001b[0;32mreturn\u001b[0m \u001b[0mx\u001b[0m\u001b[0;34m.\u001b[0m\u001b[0mitem\u001b[0m\u001b[0;34m(\u001b[0m\u001b[0;34m)\u001b[0m \u001b[0;32mif\u001b[0m \u001b[0mnp\u001b[0m\u001b[0;34m.\u001b[0m\u001b[0mndim\u001b[0m\u001b[0;34m(\u001b[0m\u001b[0mx\u001b[0m\u001b[0;34m)\u001b[0m \u001b[0;34m==\u001b[0m \u001b[0;36m0\u001b[0m \u001b[0;32melse\u001b[0m \u001b[0mx\u001b[0m\u001b[0;34m\u001b[0m\u001b[0;34m\u001b[0m\u001b[0m\n\u001b[1;32m    535\u001b[0m     \u001b[0;32mreturn\u001b[0m \u001b[0mt\u001b[0m  \u001b[0;31m# Don't turn ragged or sparse tensors to NumPy.\u001b[0m\u001b[0;34m\u001b[0m\u001b[0;34m\u001b[0m\u001b[0m\n",
            "\u001b[0;32m/usr/local/lib/python3.6/dist-packages/tensorflow/python/framework/ops.py\u001b[0m in \u001b[0;36mnumpy\u001b[0;34m(self)\u001b[0m\n\u001b[1;32m   1061\u001b[0m     \"\"\"\n\u001b[1;32m   1062\u001b[0m     \u001b[0;31m# TODO(slebedev): Consider avoiding a copy for non-CPU or remote tensors.\u001b[0m\u001b[0;34m\u001b[0m\u001b[0;34m\u001b[0m\u001b[0;34m\u001b[0m\u001b[0m\n\u001b[0;32m-> 1063\u001b[0;31m     \u001b[0mmaybe_arr\u001b[0m \u001b[0;34m=\u001b[0m \u001b[0mself\u001b[0m\u001b[0;34m.\u001b[0m\u001b[0m_numpy\u001b[0m\u001b[0;34m(\u001b[0m\u001b[0;34m)\u001b[0m  \u001b[0;31m# pylint: disable=protected-access\u001b[0m\u001b[0;34m\u001b[0m\u001b[0;34m\u001b[0m\u001b[0m\n\u001b[0m\u001b[1;32m   1064\u001b[0m     \u001b[0;32mreturn\u001b[0m \u001b[0mmaybe_arr\u001b[0m\u001b[0;34m.\u001b[0m\u001b[0mcopy\u001b[0m\u001b[0;34m(\u001b[0m\u001b[0;34m)\u001b[0m \u001b[0;32mif\u001b[0m \u001b[0misinstance\u001b[0m\u001b[0;34m(\u001b[0m\u001b[0mmaybe_arr\u001b[0m\u001b[0;34m,\u001b[0m \u001b[0mnp\u001b[0m\u001b[0;34m.\u001b[0m\u001b[0mndarray\u001b[0m\u001b[0;34m)\u001b[0m \u001b[0;32melse\u001b[0m \u001b[0mmaybe_arr\u001b[0m\u001b[0;34m\u001b[0m\u001b[0;34m\u001b[0m\u001b[0m\n\u001b[1;32m   1065\u001b[0m \u001b[0;34m\u001b[0m\u001b[0m\n",
            "\u001b[0;32m/usr/local/lib/python3.6/dist-packages/tensorflow/python/framework/ops.py\u001b[0m in \u001b[0;36m_numpy\u001b[0;34m(self)\u001b[0m\n\u001b[1;32m   1027\u001b[0m   \u001b[0;32mdef\u001b[0m \u001b[0m_numpy\u001b[0m\u001b[0;34m(\u001b[0m\u001b[0mself\u001b[0m\u001b[0;34m)\u001b[0m\u001b[0;34m:\u001b[0m\u001b[0;34m\u001b[0m\u001b[0;34m\u001b[0m\u001b[0m\n\u001b[1;32m   1028\u001b[0m     \u001b[0;32mtry\u001b[0m\u001b[0;34m:\u001b[0m\u001b[0;34m\u001b[0m\u001b[0;34m\u001b[0m\u001b[0m\n\u001b[0;32m-> 1029\u001b[0;31m       \u001b[0;32mreturn\u001b[0m \u001b[0mself\u001b[0m\u001b[0;34m.\u001b[0m\u001b[0m_numpy_internal\u001b[0m\u001b[0;34m(\u001b[0m\u001b[0;34m)\u001b[0m\u001b[0;34m\u001b[0m\u001b[0;34m\u001b[0m\u001b[0m\n\u001b[0m\u001b[1;32m   1030\u001b[0m     \u001b[0;32mexcept\u001b[0m \u001b[0mcore\u001b[0m\u001b[0;34m.\u001b[0m\u001b[0m_NotOkStatusException\u001b[0m \u001b[0;32mas\u001b[0m \u001b[0me\u001b[0m\u001b[0;34m:\u001b[0m  \u001b[0;31m# pylint: disable=protected-access\u001b[0m\u001b[0;34m\u001b[0m\u001b[0;34m\u001b[0m\u001b[0m\n\u001b[1;32m   1031\u001b[0m       \u001b[0msix\u001b[0m\u001b[0;34m.\u001b[0m\u001b[0mraise_from\u001b[0m\u001b[0;34m(\u001b[0m\u001b[0mcore\u001b[0m\u001b[0;34m.\u001b[0m\u001b[0m_status_to_exception\u001b[0m\u001b[0;34m(\u001b[0m\u001b[0me\u001b[0m\u001b[0;34m.\u001b[0m\u001b[0mcode\u001b[0m\u001b[0;34m,\u001b[0m \u001b[0me\u001b[0m\u001b[0;34m.\u001b[0m\u001b[0mmessage\u001b[0m\u001b[0;34m)\u001b[0m\u001b[0;34m,\u001b[0m \u001b[0;32mNone\u001b[0m\u001b[0;34m)\u001b[0m  \u001b[0;31m# pylint: disable=protected-access\u001b[0m\u001b[0;34m\u001b[0m\u001b[0;34m\u001b[0m\u001b[0m\n",
            "\u001b[0;31mKeyboardInterrupt\u001b[0m: "
          ]
        }
      ]
    },
    {
      "cell_type": "code",
      "metadata": {
        "id": "SrC7HidF62E9"
      },
      "source": [
        "model.save_weights(\"weights_save/attention_unet.h5\")"
      ],
      "execution_count": 15,
      "outputs": []
    },
    {
      "cell_type": "code",
      "metadata": {
        "id": "i3ZmzMTM0kKS",
        "outputId": "178918df-887a-454e-91ec-b3fe759a8fb4",
        "colab": {
          "base_uri": "https://localhost:8080/",
          "height": 51
        }
      },
      "source": [
        "model.evaluate(img_dev,mask_dev)"
      ],
      "execution_count": 16,
      "outputs": [
        {
          "output_type": "stream",
          "text": [
            "4/4 [==============================] - 1s 172ms/step - loss: 0.1475 - accuracy: 0.9535 - dice_coef: 0.9020\n"
          ],
          "name": "stdout"
        },
        {
          "output_type": "execute_result",
          "data": {
            "text/plain": [
              "[0.14745764434337616, 0.9534796476364136, 0.9019949436187744]"
            ]
          },
          "metadata": {
            "tags": []
          },
          "execution_count": 16
        }
      ]
    },
    {
      "cell_type": "code",
      "metadata": {
        "id": "3xz7wIqcqDkT"
      },
      "source": [
        "mask_pred = model.predict(img_dev[:100])\n",
        "mask_pred = mask_pred.astype(\"float64\")"
      ],
      "execution_count": null,
      "outputs": []
    },
    {
      "cell_type": "code",
      "metadata": {
        "id": "cU675vVGqQ3y",
        "outputId": "c54a382b-631f-427e-9526-81e191eaa2ee",
        "colab": {
          "base_uri": "https://localhost:8080/",
          "height": 51
        }
      },
      "source": [
        "loss = dice_coef_loss(mask_dev[:100],mask_pred)\n",
        "loss2 = levelsetLoss(mask_dev[:100],mask_pred)"
      ],
      "execution_count": null,
      "outputs": [
        {
          "output_type": "stream",
          "text": [
            "(100, 192, 288, 1)\n",
            "(100, 192, 288, 1)\n"
          ],
          "name": "stdout"
        }
      ]
    },
    {
      "cell_type": "markdown",
      "metadata": {
        "id": "eug0by9N6eor"
      },
      "source": [
        "#visualize "
      ]
    },
    {
      "cell_type": "code",
      "metadata": {
        "id": "h__v_HNR6du3"
      },
      "source": [
        "model = unet(input_shape,2)\n",
        "model.load_weights(\"weights_save/attention_unet.h5\")"
      ],
      "execution_count": 36,
      "outputs": []
    },
    {
      "cell_type": "code",
      "metadata": {
        "id": "1gNngLlz9hmc",
        "outputId": "ccfade1c-0504-4719-8042-22c8878ba26b",
        "colab": {
          "base_uri": "https://localhost:8080/",
          "height": 1000
        }
      },
      "source": [
        "model.summary()"
      ],
      "execution_count": 41,
      "outputs": [
        {
          "output_type": "stream",
          "text": [
            "Model: \"functional_17\"\n",
            "__________________________________________________________________________________________________\n",
            "Layer (type)                    Output Shape         Param #     Connected to                     \n",
            "==================================================================================================\n",
            "data (InputLayer)               [(None, 192, 288, 3) 0                                            \n",
            "__________________________________________________________________________________________________\n",
            "lambda_207 (Lambda)             (None, 192, 288, 3)  0           data[0][0]                       \n",
            "__________________________________________________________________________________________________\n",
            "conv2d_288 (Conv2D)             (None, 192, 288, 64) 1792        lambda_207[0][0]                 \n",
            "__________________________________________________________________________________________________\n",
            "lambda_208 (Lambda)             (None, 192, 288, 64) 0           conv2d_288[0][0]                 \n",
            "__________________________________________________________________________________________________\n",
            "activation_243 (Activation)     (None, 192, 288, 64) 0           lambda_208[0][0]                 \n",
            "__________________________________________________________________________________________________\n",
            "conv2d_289 (Conv2D)             (None, 192, 288, 64) 36928       activation_243[0][0]             \n",
            "__________________________________________________________________________________________________\n",
            "lambda_209 (Lambda)             (None, 192, 288, 64) 0           conv2d_289[0][0]                 \n",
            "__________________________________________________________________________________________________\n",
            "activation_244 (Activation)     (None, 192, 288, 64) 0           lambda_209[0][0]                 \n",
            "__________________________________________________________________________________________________\n",
            "max_pooling2d_36 (MaxPooling2D) (None, 96, 144, 64)  0           activation_244[0][0]             \n",
            "__________________________________________________________________________________________________\n",
            "conv2d_290 (Conv2D)             (None, 96, 144, 128) 73856       max_pooling2d_36[0][0]           \n",
            "__________________________________________________________________________________________________\n",
            "lambda_210 (Lambda)             (None, 96, 144, 128) 0           conv2d_290[0][0]                 \n",
            "__________________________________________________________________________________________________\n",
            "activation_245 (Activation)     (None, 96, 144, 128) 0           lambda_210[0][0]                 \n",
            "__________________________________________________________________________________________________\n",
            "conv2d_291 (Conv2D)             (None, 96, 144, 128) 147584      activation_245[0][0]             \n",
            "__________________________________________________________________________________________________\n",
            "lambda_211 (Lambda)             (None, 96, 144, 128) 0           conv2d_291[0][0]                 \n",
            "__________________________________________________________________________________________________\n",
            "activation_246 (Activation)     (None, 96, 144, 128) 0           lambda_211[0][0]                 \n",
            "__________________________________________________________________________________________________\n",
            "max_pooling2d_37 (MaxPooling2D) (None, 48, 72, 128)  0           activation_246[0][0]             \n",
            "__________________________________________________________________________________________________\n",
            "conv2d_292 (Conv2D)             (None, 48, 72, 256)  295168      max_pooling2d_37[0][0]           \n",
            "__________________________________________________________________________________________________\n",
            "lambda_212 (Lambda)             (None, 48, 72, 256)  0           conv2d_292[0][0]                 \n",
            "__________________________________________________________________________________________________\n",
            "activation_247 (Activation)     (None, 48, 72, 256)  0           lambda_212[0][0]                 \n",
            "__________________________________________________________________________________________________\n",
            "conv2d_293 (Conv2D)             (None, 48, 72, 256)  590080      activation_247[0][0]             \n",
            "__________________________________________________________________________________________________\n",
            "lambda_213 (Lambda)             (None, 48, 72, 256)  0           conv2d_293[0][0]                 \n",
            "__________________________________________________________________________________________________\n",
            "activation_248 (Activation)     (None, 48, 72, 256)  0           lambda_213[0][0]                 \n",
            "__________________________________________________________________________________________________\n",
            "max_pooling2d_38 (MaxPooling2D) (None, 24, 36, 256)  0           activation_248[0][0]             \n",
            "__________________________________________________________________________________________________\n",
            "conv2d_294 (Conv2D)             (None, 24, 36, 512)  1180160     max_pooling2d_38[0][0]           \n",
            "__________________________________________________________________________________________________\n",
            "lambda_214 (Lambda)             (None, 24, 36, 512)  0           conv2d_294[0][0]                 \n",
            "__________________________________________________________________________________________________\n",
            "activation_249 (Activation)     (None, 24, 36, 512)  0           lambda_214[0][0]                 \n",
            "__________________________________________________________________________________________________\n",
            "conv2d_295 (Conv2D)             (None, 24, 36, 512)  2359808     activation_249[0][0]             \n",
            "__________________________________________________________________________________________________\n",
            "lambda_215 (Lambda)             (None, 24, 36, 512)  0           conv2d_295[0][0]                 \n",
            "__________________________________________________________________________________________________\n",
            "activation_250 (Activation)     (None, 24, 36, 512)  0           lambda_215[0][0]                 \n",
            "__________________________________________________________________________________________________\n",
            "dropout_18 (Dropout)            (None, 24, 36, 512)  0           activation_250[0][0]             \n",
            "__________________________________________________________________________________________________\n",
            "max_pooling2d_39 (MaxPooling2D) (None, 12, 18, 512)  0           dropout_18[0][0]                 \n",
            "__________________________________________________________________________________________________\n",
            "conv2d_296 (Conv2D)             (None, 12, 18, 1024) 4719616     max_pooling2d_39[0][0]           \n",
            "__________________________________________________________________________________________________\n",
            "lambda_216 (Lambda)             (None, 12, 18, 1024) 0           conv2d_296[0][0]                 \n",
            "__________________________________________________________________________________________________\n",
            "activation_251 (Activation)     (None, 12, 18, 1024) 0           lambda_216[0][0]                 \n",
            "__________________________________________________________________________________________________\n",
            "conv2d_297 (Conv2D)             (None, 12, 18, 1024) 9438208     activation_251[0][0]             \n",
            "__________________________________________________________________________________________________\n",
            "lambda_217 (Lambda)             (None, 12, 18, 1024) 0           conv2d_297[0][0]                 \n",
            "__________________________________________________________________________________________________\n",
            "activation_252 (Activation)     (None, 12, 18, 1024) 0           lambda_217[0][0]                 \n",
            "__________________________________________________________________________________________________\n",
            "up_sampling2d_36 (UpSampling2D) (None, 24, 36, 1024) 0           activation_252[0][0]             \n",
            "__________________________________________________________________________________________________\n",
            "conv2d_298 (Conv2D)             (None, 24, 36, 256)  131328      activation_250[0][0]             \n",
            "__________________________________________________________________________________________________\n",
            "conv2d_299 (Conv2D)             (None, 24, 36, 256)  262400      up_sampling2d_36[0][0]           \n",
            "__________________________________________________________________________________________________\n",
            "add_36 (Add)                    (None, 24, 36, 256)  0           conv2d_298[0][0]                 \n",
            "                                                                 conv2d_299[0][0]                 \n",
            "__________________________________________________________________________________________________\n",
            "activation_253 (Activation)     (None, 24, 36, 256)  0           add_36[0][0]                     \n",
            "__________________________________________________________________________________________________\n",
            "conv2d_300 (Conv2D)             (None, 24, 36, 1)    257         activation_253[0][0]             \n",
            "__________________________________________________________________________________________________\n",
            "activation_254 (Activation)     (None, 24, 36, 1)    0           conv2d_300[0][0]                 \n",
            "__________________________________________________________________________________________________\n",
            "multiply_36 (Multiply)          (None, 24, 36, 512)  0           activation_250[0][0]             \n",
            "                                                                 activation_254[0][0]             \n",
            "__________________________________________________________________________________________________\n",
            "lambda_218 (Lambda)             (None, 24, 36, 1536) 0           up_sampling2d_36[0][0]           \n",
            "                                                                 multiply_36[0][0]                \n",
            "__________________________________________________________________________________________________\n",
            "conv2d_301 (Conv2D)             (None, 24, 36, 512)  7078400     lambda_218[0][0]                 \n",
            "__________________________________________________________________________________________________\n",
            "lambda_219 (Lambda)             (None, 24, 36, 512)  0           conv2d_301[0][0]                 \n",
            "__________________________________________________________________________________________________\n",
            "activation_255 (Activation)     (None, 24, 36, 512)  0           lambda_219[0][0]                 \n",
            "__________________________________________________________________________________________________\n",
            "conv2d_302 (Conv2D)             (None, 24, 36, 512)  2359808     activation_255[0][0]             \n",
            "__________________________________________________________________________________________________\n",
            "lambda_220 (Lambda)             (None, 24, 36, 512)  0           conv2d_302[0][0]                 \n",
            "__________________________________________________________________________________________________\n",
            "activation_256 (Activation)     (None, 24, 36, 512)  0           lambda_220[0][0]                 \n",
            "__________________________________________________________________________________________________\n",
            "up_sampling2d_37 (UpSampling2D) (None, 48, 72, 512)  0           activation_256[0][0]             \n",
            "__________________________________________________________________________________________________\n",
            "conv2d_303 (Conv2D)             (None, 48, 72, 128)  32896       activation_248[0][0]             \n",
            "__________________________________________________________________________________________________\n",
            "conv2d_304 (Conv2D)             (None, 48, 72, 128)  65664       up_sampling2d_37[0][0]           \n",
            "__________________________________________________________________________________________________\n",
            "add_37 (Add)                    (None, 48, 72, 128)  0           conv2d_303[0][0]                 \n",
            "                                                                 conv2d_304[0][0]                 \n",
            "__________________________________________________________________________________________________\n",
            "activation_257 (Activation)     (None, 48, 72, 128)  0           add_37[0][0]                     \n",
            "__________________________________________________________________________________________________\n",
            "conv2d_305 (Conv2D)             (None, 48, 72, 1)    129         activation_257[0][0]             \n",
            "__________________________________________________________________________________________________\n",
            "activation_258 (Activation)     (None, 48, 72, 1)    0           conv2d_305[0][0]                 \n",
            "__________________________________________________________________________________________________\n",
            "multiply_37 (Multiply)          (None, 48, 72, 256)  0           activation_248[0][0]             \n",
            "                                                                 activation_258[0][0]             \n",
            "__________________________________________________________________________________________________\n",
            "lambda_221 (Lambda)             (None, 48, 72, 768)  0           up_sampling2d_37[0][0]           \n",
            "                                                                 multiply_37[0][0]                \n",
            "__________________________________________________________________________________________________\n",
            "conv2d_306 (Conv2D)             (None, 48, 72, 256)  1769728     lambda_221[0][0]                 \n",
            "__________________________________________________________________________________________________\n",
            "lambda_222 (Lambda)             (None, 48, 72, 256)  0           conv2d_306[0][0]                 \n",
            "__________________________________________________________________________________________________\n",
            "activation_259 (Activation)     (None, 48, 72, 256)  0           lambda_222[0][0]                 \n",
            "__________________________________________________________________________________________________\n",
            "conv2d_307 (Conv2D)             (None, 48, 72, 256)  590080      activation_259[0][0]             \n",
            "__________________________________________________________________________________________________\n",
            "lambda_223 (Lambda)             (None, 48, 72, 256)  0           conv2d_307[0][0]                 \n",
            "__________________________________________________________________________________________________\n",
            "activation_260 (Activation)     (None, 48, 72, 256)  0           lambda_223[0][0]                 \n",
            "__________________________________________________________________________________________________\n",
            "up_sampling2d_38 (UpSampling2D) (None, 96, 144, 256) 0           activation_260[0][0]             \n",
            "__________________________________________________________________________________________________\n",
            "conv2d_308 (Conv2D)             (None, 96, 144, 64)  8256        activation_246[0][0]             \n",
            "__________________________________________________________________________________________________\n",
            "conv2d_309 (Conv2D)             (None, 96, 144, 64)  16448       up_sampling2d_38[0][0]           \n",
            "__________________________________________________________________________________________________\n",
            "add_38 (Add)                    (None, 96, 144, 64)  0           conv2d_308[0][0]                 \n",
            "                                                                 conv2d_309[0][0]                 \n",
            "__________________________________________________________________________________________________\n",
            "activation_261 (Activation)     (None, 96, 144, 64)  0           add_38[0][0]                     \n",
            "__________________________________________________________________________________________________\n",
            "conv2d_310 (Conv2D)             (None, 96, 144, 1)   65          activation_261[0][0]             \n",
            "__________________________________________________________________________________________________\n",
            "activation_262 (Activation)     (None, 96, 144, 1)   0           conv2d_310[0][0]                 \n",
            "__________________________________________________________________________________________________\n",
            "multiply_38 (Multiply)          (None, 96, 144, 128) 0           activation_246[0][0]             \n",
            "                                                                 activation_262[0][0]             \n",
            "__________________________________________________________________________________________________\n",
            "lambda_224 (Lambda)             (None, 96, 144, 384) 0           up_sampling2d_38[0][0]           \n",
            "                                                                 multiply_38[0][0]                \n",
            "__________________________________________________________________________________________________\n",
            "conv2d_311 (Conv2D)             (None, 96, 144, 128) 442496      lambda_224[0][0]                 \n",
            "__________________________________________________________________________________________________\n",
            "lambda_225 (Lambda)             (None, 96, 144, 128) 0           conv2d_311[0][0]                 \n",
            "__________________________________________________________________________________________________\n",
            "activation_263 (Activation)     (None, 96, 144, 128) 0           lambda_225[0][0]                 \n",
            "__________________________________________________________________________________________________\n",
            "conv2d_312 (Conv2D)             (None, 96, 144, 128) 147584      activation_263[0][0]             \n",
            "__________________________________________________________________________________________________\n",
            "lambda_226 (Lambda)             (None, 96, 144, 128) 0           conv2d_312[0][0]                 \n",
            "__________________________________________________________________________________________________\n",
            "activation_264 (Activation)     (None, 96, 144, 128) 0           lambda_226[0][0]                 \n",
            "__________________________________________________________________________________________________\n",
            "up_sampling2d_39 (UpSampling2D) (None, 192, 288, 128 0           activation_264[0][0]             \n",
            "__________________________________________________________________________________________________\n",
            "conv2d_313 (Conv2D)             (None, 192, 288, 32) 2080        activation_244[0][0]             \n",
            "__________________________________________________________________________________________________\n",
            "conv2d_314 (Conv2D)             (None, 192, 288, 32) 4128        up_sampling2d_39[0][0]           \n",
            "__________________________________________________________________________________________________\n",
            "add_39 (Add)                    (None, 192, 288, 32) 0           conv2d_313[0][0]                 \n",
            "                                                                 conv2d_314[0][0]                 \n",
            "__________________________________________________________________________________________________\n",
            "activation_265 (Activation)     (None, 192, 288, 32) 0           add_39[0][0]                     \n",
            "__________________________________________________________________________________________________\n",
            "conv2d_315 (Conv2D)             (None, 192, 288, 1)  33          activation_265[0][0]             \n",
            "__________________________________________________________________________________________________\n",
            "activation_266 (Activation)     (None, 192, 288, 1)  0           conv2d_315[0][0]                 \n",
            "__________________________________________________________________________________________________\n",
            "multiply_39 (Multiply)          (None, 192, 288, 64) 0           activation_244[0][0]             \n",
            "                                                                 activation_266[0][0]             \n",
            "__________________________________________________________________________________________________\n",
            "lambda_227 (Lambda)             (None, 192, 288, 192 0           up_sampling2d_39[0][0]           \n",
            "                                                                 multiply_39[0][0]                \n",
            "__________________________________________________________________________________________________\n",
            "conv2d_316 (Conv2D)             (None, 192, 288, 64) 110656      lambda_227[0][0]                 \n",
            "__________________________________________________________________________________________________\n",
            "lambda_228 (Lambda)             (None, 192, 288, 64) 0           conv2d_316[0][0]                 \n",
            "__________________________________________________________________________________________________\n",
            "activation_267 (Activation)     (None, 192, 288, 64) 0           lambda_228[0][0]                 \n",
            "__________________________________________________________________________________________________\n",
            "conv2d_317 (Conv2D)             (None, 192, 288, 64) 36928       activation_267[0][0]             \n",
            "__________________________________________________________________________________________________\n",
            "lambda_229 (Lambda)             (None, 192, 288, 64) 0           conv2d_317[0][0]                 \n",
            "__________________________________________________________________________________________________\n",
            "activation_268 (Activation)     (None, 192, 288, 64) 0           lambda_229[0][0]                 \n",
            "__________________________________________________________________________________________________\n",
            "conv2d_318 (Conv2D)             (None, 192, 288, 2)  1154        activation_268[0][0]             \n",
            "__________________________________________________________________________________________________\n",
            "activation_269 (Activation)     (None, 192, 288, 2)  0           conv2d_318[0][0]                 \n",
            "__________________________________________________________________________________________________\n",
            "conv2d_319 (Conv2D)             (None, 192, 288, 1)  3           activation_269[0][0]             \n",
            "==================================================================================================\n",
            "Total params: 31,903,721\n",
            "Trainable params: 31,903,721\n",
            "Non-trainable params: 0\n",
            "__________________________________________________________________________________________________\n"
          ],
          "name": "stdout"
        }
      ]
    },
    {
      "cell_type": "code",
      "metadata": {
        "id": "950EqpOh9Gwn",
        "outputId": "a636f366-f15f-4c98-d733-dd872e819c11",
        "colab": {
          "base_uri": "https://localhost:8080/",
          "height": 561
        }
      },
      "source": [
        "for layer in model.layers:\n",
        "\t# check for convolutional layer\n",
        "\tif 'conv' not in layer.name:\n",
        "\t\tcontinue\n",
        "\t# get filter weights\n",
        "\tfilters, biases = layer.get_weights()\n",
        "\tprint(layer.name, filters.shape)"
      ],
      "execution_count": 43,
      "outputs": [
        {
          "output_type": "stream",
          "text": [
            "conv2d_288 (3, 3, 3, 64)\n",
            "conv2d_289 (3, 3, 64, 64)\n",
            "conv2d_290 (3, 3, 64, 128)\n",
            "conv2d_291 (3, 3, 128, 128)\n",
            "conv2d_292 (3, 3, 128, 256)\n",
            "conv2d_293 (3, 3, 256, 256)\n",
            "conv2d_294 (3, 3, 256, 512)\n",
            "conv2d_295 (3, 3, 512, 512)\n",
            "conv2d_296 (3, 3, 512, 1024)\n",
            "conv2d_297 (3, 3, 1024, 1024)\n",
            "conv2d_298 (1, 1, 512, 256)\n",
            "conv2d_299 (1, 1, 1024, 256)\n",
            "conv2d_300 (1, 1, 256, 1)\n",
            "conv2d_301 (3, 3, 1536, 512)\n",
            "conv2d_302 (3, 3, 512, 512)\n",
            "conv2d_303 (1, 1, 256, 128)\n",
            "conv2d_304 (1, 1, 512, 128)\n",
            "conv2d_305 (1, 1, 128, 1)\n",
            "conv2d_306 (3, 3, 768, 256)\n",
            "conv2d_307 (3, 3, 256, 256)\n",
            "conv2d_308 (1, 1, 128, 64)\n",
            "conv2d_309 (1, 1, 256, 64)\n",
            "conv2d_310 (1, 1, 64, 1)\n",
            "conv2d_311 (3, 3, 384, 128)\n",
            "conv2d_312 (3, 3, 128, 128)\n",
            "conv2d_313 (1, 1, 64, 32)\n",
            "conv2d_314 (1, 1, 128, 32)\n",
            "conv2d_315 (1, 1, 32, 1)\n",
            "conv2d_316 (3, 3, 192, 64)\n",
            "conv2d_317 (3, 3, 64, 64)\n",
            "conv2d_318 (3, 3, 64, 2)\n",
            "conv2d_319 (1, 1, 2, 1)\n"
          ],
          "name": "stdout"
        }
      ]
    },
    {
      "cell_type": "code",
      "metadata": {
        "id": "WKB8anql899H",
        "outputId": "d236e10f-1bad-4d72-e5e7-c45d6a445fda",
        "colab": {
          "base_uri": "https://localhost:8080/",
          "height": 252
        }
      },
      "source": [
        "from matplotlib import pyplot\n",
        "# load the model\n",
        "# retrieve weights from the second hidden layer\n",
        "filters, biases = model.layers[2].get_weights()\n",
        "# normalize filter values to 0-1 so we can visualize them\n",
        "f_min, f_max = filters.min(), filters.max()\n",
        "filters = (filters - f_min) / (f_max - f_min)\n",
        "# plot first few filters\n",
        "n_filters, ix = 6, 1\n",
        "for i in range(n_filters):\n",
        "\t# get the filter\n",
        "\tf = filters[:, :, :, i]\n",
        "\t# plot each channel separately\n",
        "\tfor j in range(3):\n",
        "\t\t# specify subplot and turn of axis\n",
        "\t\tax = pyplot.subplot(n_filters, 3, ix)\n",
        "\t\tax.set_xticks([])\n",
        "\t\tax.set_yticks([])\n",
        "\t\t# plot filter channel in grayscale\n",
        "\t\tpyplot.imshow(f[:, :, j], cmap='gray')\n",
        "\t\tix += 1\n",
        "# show the figure\n",
        "pyplot.show()"
      ],
      "execution_count": 42,
      "outputs": [
        {
          "output_type": "display_data",
          "data": {
            "image/png": "[encoded data removed]",
            "text/plain": [
              "<Figure size 432x288 with 18 Axes>"
            ]
          },
          "metadata": {
            "tags": []
          }
        }
      ]
    },
    {
      "cell_type": "code",
      "metadata": {
        "id": "BnKx3sVwjxRL",
        "outputId": "c303d6bb-3c19-4b45-9fd0-eebda48ce055",
        "colab": {
          "base_uri": "https://localhost:8080/",
          "height": 573
        }
      },
      "source": [
        "#plt.figure(1)\n",
        "#plt.subplot(121,aspect='auto')\n",
        "y=history.history['val_dice_coef']\n",
        "plt.plot(history.history['dice_coef'])\n",
        "plt.plot(history.history['val_dice_coef'])\n",
        "plt.title('Model DCS')\n",
        "plt.ylabel('DCS')\n",
        "plt.xlabel('Epoch')\n",
        "plt.legend(['Train', 'Test'], loc='upper left')\n",
        "plt.show()\n",
        "\n",
        "#plt.subplot(122,aspect='auto')\n",
        "plt.plot(history.history['loss'])\n",
        "plt.plot(history.history['val_loss'])\n",
        "plt.title('Model loss')\n",
        "plt.ylabel('loss')\n",
        "plt.xlabel('Epoch')\n",
        "plt.legend(['Train', 'Test'], loc='upper left')\n",
        "\n",
        "plt.show()\n"
      ],
      "execution_count": null,
      "outputs": [
        {
          "output_type": "display_data",
          "data": {
            "image/png": "[encoded data removed]",
            "text/plain": [
              "<Figure size 432x288 with 1 Axes>"
            ]
          },
          "metadata": {
            "tags": [],
            "needs_background": "light"
          }
        },
        {
          "output_type": "display_data",
          "data": {
            "image/png": "[encoded data removed]",
            "text/plain": [
              "<Figure size 432x288 with 1 Axes>"
            ]
          },
          "metadata": {
            "tags": [],
            "needs_background": "light"
          }
        }
      ]
    },
    {
      "cell_type": "markdown",
      "metadata": {
        "id": "8tzlDxuqVE0f"
      },
      "source": [
        "#Evaluate"
      ]
    },
    {
      "cell_type": "markdown",
      "metadata": {
        "id": "IYadDLCoL7g2"
      },
      "source": [
        "#Fit Generator\n"
      ]
    },
    {
      "cell_type": "code",
      "metadata": {
        "id": "zeyHnJmYS9wd"
      },
      "source": [
        "import os\n",
        "\n",
        "FJoin = os.path.join\n",
        "\n",
        "def GetFiles(path):\n",
        "\n",
        "    file_list, dir_list = [], []\n",
        "    for dir, subdirs, files in os.walk(path):\n",
        "        file_list.extend([FJoin(dir, f) for f in files])\n",
        "        dir_list.extend([FJoin(dir, d) for d in subdirs])\n",
        "    return file_list, dir_list\n",
        "\n",
        "\n",
        "files, dirs = GetFiles(os.path.expanduser(\"weights_save\"))\n",
        "for file in files:\n",
        "    model.load_weights(file)\n",
        "    print(model.evaluate(imgs,masks))\n"
      ],
      "execution_count": null,
      "outputs": []
    },
    {
      "cell_type": "code",
      "metadata": {
        "id": "__qomSv4yJ2a"
      },
      "source": [
        "plt.imshow(imgs[5])\n",
        "plt.show()\n",
        "plt.imshow(pred[5,:,:,0])\n",
        "#plt.imshow(masks[5,:,:,0])"
      ],
      "execution_count": null,
      "outputs": []
    },
    {
      "cell_type": "markdown",
      "metadata": {
        "id": "ePnSxfRsVLnq"
      },
      "source": [
        "#build mat file"
      ]
    },
    {
      "cell_type": "code",
      "metadata": {
        "id": "vOR5_tnjBHez"
      },
      "source": [
        "import scipy.io as sio\n",
        "path1=\"Matfile\"\n",
        "if not os.path.exists(path1):\n",
        "            os.makedirs(path1)\n",
        "\n",
        "for i in range(1,600):\n",
        "  name1=img_name[i]\n",
        "  matpath1= os.path.join(path1,name1)\n",
        "  matpath1+=\".mat\"\n",
        "  sio.savemat(matpath1, {'img':images[i-1],'crop_img': imgs[i-1],'ground_truth': masks[i-1], 'predict': mask_predict[i-1]})\n",
        "  \n",
        "path2=\"Matfile/Test\"\n",
        "if not os.path.exists(path2):\n",
        "            os.makedirs(path2)\n",
        "for i in range(n,leng):\n",
        "  name2=img_name[i]\n",
        "  matpath2= os.path.join(path2,name2)\n",
        "  matpath2+=\".mat\"\n",
        "  sio.savemat(matpath2, {'img':images[i-1],'crop_img': imgs[i-1],'ground_truth': masks[i-1], 'predict': mask_predict[i-1]})"
      ],
      "execution_count": null,
      "outputs": []
    },
    {
      "cell_type": "code",
      "metadata": {
        "id": "nWYtTehfJ9Um"
      },
      "source": [
        "import shutil\n",
        "shutil.make_archive('Matfile', 'zip',\"Matfile\")\n"
      ],
      "execution_count": null,
      "outputs": []
    }
  ]
}